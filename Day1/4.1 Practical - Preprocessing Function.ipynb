{
 "cells": [
  {
   "cell_type": "markdown",
   "id": "b634def0",
   "metadata": {},
   "source": [
    "Write a preprocessing function that takes raw text as input and\n",
    "- lowercases everything\n",
    "- Replaces email addresses with `emailaddr`\n",
    "- Replaces URLs with `httpaddr`\n",
    "- Replaces money symbols with `moneysymb`\n",
    "- Replaces phone numbers with `phonenumbr`\n",
    "- Replaces numbers with `numbr`  (note: you will have to make a small change to the regular expression so it does not convert <3 into <numbr)\n",
    "- Only deletes \"single\" punctuation when using the twitter tokeniser\n",
    "- deletes stopwords (can be the ones from nltk)\n",
    "- stemms all remaining words"
   ]
  },
  {
   "cell_type": "code",
   "execution_count": null,
   "id": "24c7afea",
   "metadata": {},
   "outputs": [],
   "source": []
  }
 ],
 "metadata": {
  "kernelspec": {
   "display_name": "Python 3 (ipykernel)",
   "language": "python",
   "name": "python3"
  },
  "language_info": {
   "codemirror_mode": {
    "name": "ipython",
    "version": 3
   },
   "file_extension": ".py",
   "mimetype": "text/x-python",
   "name": "python",
   "nbconvert_exporter": "python",
   "pygments_lexer": "ipython3",
   "version": "3.9.7"
  }
 },
 "nbformat": 4,
 "nbformat_minor": 5
}
