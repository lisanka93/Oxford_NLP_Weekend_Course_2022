{
 "cells": [
  {
   "cell_type": "markdown",
   "id": "81ca69bf",
   "metadata": {},
   "source": [
    "# Practical: working with text (news article file)\n",
    "\n",
    "You are given a raw text and are required to clean (preprocess) it and extract some information out of it, like years mentioned, moneyvalues, digits etc.\n",
    "\n",
    "Given a text tile that contains a news article, you know that the structure of the file is the following: the first line is the title, the second line is the subtitle and the third line is the article. you are only interested in the article. Your task is the following:\n",
    "\n",
    "- 1. read the file and store it in a list so you can access only the article (not title and subtitle)\n",
    "- 2. set the article to lowercase\n",
    "- 3. delete all punctuation apart from % and moneyvalues (e.g. $) - see tip 1 and 2 below\n",
    "- 4. delete stopwords\n",
    "- 5. store all mentions of % in a list\n",
    "- 6. store all moneyvalues in a list\n",
    "- 7. store all mentions of years in a list (e.g. 1999, 2001)\n",
    "- 8. store all digits in a list (note: not years!) - see tip 3 below"
   ]
  },
  {
   "cell_type": "markdown",
   "id": "2d8c2c7d",
   "metadata": {},
   "source": [
    "### Tip 1 punctuation\n",
    "the code below might be useful"
   ]
  },
  {
   "cell_type": "code",
   "execution_count": 2,
   "id": "179d2c06",
   "metadata": {},
   "outputs": [],
   "source": [
    "# import string library function \n",
    "import string \n",
    "\n",
    "# Storing the sets of punctuation in variable result \n",
    "punct = string.punctuation "
   ]
  },
  {
   "cell_type": "code",
   "execution_count": 3,
   "id": "3f52dc8d",
   "metadata": {},
   "outputs": [
    {
     "data": {
      "text/plain": [
       "'!\"#$%&\\'()*+,-./:;<=>?@[\\\\]^_`{|}~'"
      ]
     },
     "execution_count": 3,
     "metadata": {},
     "output_type": "execute_result"
    }
   ],
   "source": [
    "punct"
   ]
  },
  {
   "cell_type": "markdown",
   "id": "e4b0952b",
   "metadata": {},
   "source": [
    "### Tip 2 joining\n",
    "the code below might be useful"
   ]
  },
  {
   "cell_type": "code",
   "execution_count": 12,
   "id": "f544b355",
   "metadata": {},
   "outputs": [
    {
     "data": {
      "text/plain": [
       "'Hello World !'"
      ]
     },
     "execution_count": 12,
     "metadata": {},
     "output_type": "execute_result"
    }
   ],
   "source": [
    "sen = [\"Hello\", \"World\", \"!\"]\n",
    "\n",
    "\" \".join(sen)"
   ]
  },
  {
   "cell_type": "markdown",
   "id": "5afbf18d",
   "metadata": {},
   "source": [
    "### Tip 3 checking if something is a digit"
   ]
  },
  {
   "cell_type": "code",
   "execution_count": 3,
   "id": "c0e99bc3",
   "metadata": {},
   "outputs": [
    {
     "data": {
      "text/plain": [
       "True"
      ]
     },
     "execution_count": 3,
     "metadata": {},
     "output_type": "execute_result"
    }
   ],
   "source": [
    "\"26\".isdigit()"
   ]
  }
 ],
 "metadata": {
  "kernelspec": {
   "display_name": "Python 3 (ipykernel)",
   "language": "python",
   "name": "python3"
  },
  "language_info": {
   "codemirror_mode": {
    "name": "ipython",
    "version": 3
   },
   "file_extension": ".py",
   "mimetype": "text/x-python",
   "name": "python",
   "nbconvert_exporter": "python",
   "pygments_lexer": "ipython3",
   "version": "3.8.12"
  }
 },
 "nbformat": 4,
 "nbformat_minor": 5
}
