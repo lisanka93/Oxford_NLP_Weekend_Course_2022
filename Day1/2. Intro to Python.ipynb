{
 "cells": [
  {
   "cell_type": "markdown",
   "id": "39fd8dae",
   "metadata": {},
   "source": [
    "# Introduction to Python\n",
    "\n",
    "Disclaimer: will not cover classes or use classes during this weekend and will do everything in jupyter notebooks. We also won't cover exception-handling. This is obviously not how production-ready code should look like for an app. However a weekend is not a enough to become a Data Scientist :)\n"
   ]
  },
  {
   "cell_type": "markdown",
   "id": "6a0c7cfe",
   "metadata": {},
   "source": [
    "## Variables\n",
    "\n",
    "Variables are containers of information. Easy to control and manage the data in our program."
   ]
  },
  {
   "cell_type": "code",
   "execution_count": 6,
   "id": "0793a37e",
   "metadata": {},
   "outputs": [],
   "source": [
    "from datetime import date\n",
    "\n",
    "#creating a new variable\n",
    "\n",
    "character_name = \"J\"  #string variable\n",
    "character_age = 36       #int variable\n",
    "character_birthday = date(year=1987, month=1, day=31)   #datetime object\n",
    "character_married = False          #boolean\n",
    "character_salary_k = 40.5          #float\n",
    "pet_names = [\"Linda\", \"Mario\", \"Nemo\"]   #list of strings\n",
    "\n",
    "pet_animals = {                         #dictionary\n",
    "    \"Linda\": \"dog\",\n",
    "    \"Mario\": \"cat\",\n",
    "    \"Nemo\": \"fish\"\n",
    "}"
   ]
  },
  {
   "cell_type": "code",
   "execution_count": 5,
   "id": "71f93383",
   "metadata": {},
   "outputs": [
    {
     "data": {
      "text/plain": [
       "datetime.date"
      ]
     },
     "execution_count": 5,
     "metadata": {},
     "output_type": "execute_result"
    }
   ],
   "source": [
    "type(character_birthday)"
   ]
  },
  {
   "cell_type": "code",
   "execution_count": 2,
   "id": "a802010d",
   "metadata": {},
   "outputs": [
    {
     "data": {
      "text/plain": [
       "datetime.date(1987, 1, 31)"
      ]
     },
     "execution_count": 2,
     "metadata": {},
     "output_type": "execute_result"
    }
   ],
   "source": [
    "character_birthday"
   ]
  },
  {
   "cell_type": "code",
   "execution_count": 7,
   "id": "c310a232",
   "metadata": {},
   "outputs": [
    {
     "name": "stdout",
     "output_type": "stream",
     "text": [
      "The character's name is J and he is 36 years old.\n"
     ]
    }
   ],
   "source": [
    "print(\"The character's name is\", character_name, \"and he is\", character_age, \"years old.\")"
   ]
  },
  {
   "cell_type": "markdown",
   "id": "184fa4f3",
   "metadata": {},
   "source": [
    "The advantage to store information in variables is because now, if we want to change something, we can simply change the variable and do not have to manually search in the text"
   ]
  },
  {
   "cell_type": "markdown",
   "id": "da587de9",
   "metadata": {},
   "source": [
    "## Working with strings (will be covered in more detail in the next notebook)\n",
    "\n",
    "Strings cannot be changed (unlike lists)"
   ]
  },
  {
   "cell_type": "code",
   "execution_count": 15,
   "id": "d2b58542",
   "metadata": {},
   "outputs": [],
   "source": [
    "city_name = \"Oxford\" "
   ]
  },
  {
   "cell_type": "code",
   "execution_count": 16,
   "id": "cf03449e",
   "metadata": {},
   "outputs": [
    {
     "data": {
      "text/plain": [
       "'Oxford'"
      ]
     },
     "execution_count": 16,
     "metadata": {},
     "output_type": "execute_result"
    }
   ],
   "source": [
    "city_name"
   ]
  },
  {
   "cell_type": "code",
   "execution_count": 17,
   "id": "4ebc9aba",
   "metadata": {},
   "outputs": [
    {
     "ename": "TypeError",
     "evalue": "'str' object does not support item assignment",
     "output_type": "error",
     "traceback": [
      "\u001b[0;31m---------------------------------------------------------------------------\u001b[0m",
      "\u001b[0;31mTypeError\u001b[0m                                 Traceback (most recent call last)",
      "\u001b[0;32m/tmp/ipykernel_78210/1140333780.py\u001b[0m in \u001b[0;36m<module>\u001b[0;34m\u001b[0m\n\u001b[0;32m----> 1\u001b[0;31m \u001b[0mcity_name\u001b[0m\u001b[0;34m[\u001b[0m\u001b[0;36m2\u001b[0m\u001b[0;34m]\u001b[0m \u001b[0;34m=\u001b[0m \u001b[0;34m\"i\"\u001b[0m \u001b[0;31m#starts with 0!\u001b[0m\u001b[0;34m\u001b[0m\u001b[0;34m\u001b[0m\u001b[0m\n\u001b[0m",
      "\u001b[0;31mTypeError\u001b[0m: 'str' object does not support item assignment"
     ]
    }
   ],
   "source": [
    "city_name[2] = \"i\" #starts with 0!"
   ]
  },
  {
   "cell_type": "code",
   "execution_count": 46,
   "id": "29febdce",
   "metadata": {},
   "outputs": [],
   "source": [
    "uni = \"University.\"\n"
   ]
  },
  {
   "cell_type": "code",
   "execution_count": 47,
   "id": "7c8741f9",
   "metadata": {},
   "outputs": [],
   "source": [
    "ox_uni = city_name + \" \" + uni   "
   ]
  },
  {
   "cell_type": "code",
   "execution_count": 24,
   "id": "e3874498",
   "metadata": {},
   "outputs": [
    {
     "data": {
      "text/plain": [
       "'Oxford University'"
      ]
     },
     "execution_count": 24,
     "metadata": {},
     "output_type": "execute_result"
    }
   ],
   "source": [
    "ox_uni"
   ]
  },
  {
   "cell_type": "code",
   "execution_count": 34,
   "id": "7964d232",
   "metadata": {},
   "outputs": [],
   "source": [
    "ox_uni = \" \".join([city_name, uni])"
   ]
  },
  {
   "cell_type": "code",
   "execution_count": 35,
   "id": "46e73a0b",
   "metadata": {},
   "outputs": [
    {
     "data": {
      "text/plain": [
       "'Oxford University'"
      ]
     },
     "execution_count": 35,
     "metadata": {},
     "output_type": "execute_result"
    }
   ],
   "source": [
    "ox_uni"
   ]
  },
  {
   "cell_type": "code",
   "execution_count": 36,
   "id": "903df47b",
   "metadata": {},
   "outputs": [
    {
     "data": {
      "text/plain": [
       "'oxford university'"
      ]
     },
     "execution_count": 36,
     "metadata": {},
     "output_type": "execute_result"
    }
   ],
   "source": [
    "ox_uni.lower()"
   ]
  },
  {
   "cell_type": "code",
   "execution_count": 37,
   "id": "61997ee2",
   "metadata": {},
   "outputs": [
    {
     "data": {
      "text/plain": [
       "'OXFORD UNIVERSITY'"
      ]
     },
     "execution_count": 37,
     "metadata": {},
     "output_type": "execute_result"
    }
   ],
   "source": [
    "ox_uni.upper()"
   ]
  },
  {
   "cell_type": "code",
   "execution_count": 38,
   "id": "72c9d9dc",
   "metadata": {},
   "outputs": [
    {
     "data": {
      "text/plain": [
       "False"
      ]
     },
     "execution_count": 38,
     "metadata": {},
     "output_type": "execute_result"
    }
   ],
   "source": [
    "ox_uni.islower()"
   ]
  },
  {
   "cell_type": "code",
   "execution_count": 39,
   "id": "645cea07",
   "metadata": {},
   "outputs": [
    {
     "data": {
      "text/plain": [
       "17"
      ]
     },
     "execution_count": 39,
     "metadata": {},
     "output_type": "execute_result"
    }
   ],
   "source": [
    "len(ox_uni)   "
   ]
  },
  {
   "cell_type": "code",
   "execution_count": 41,
   "id": "051eae0a",
   "metadata": {},
   "outputs": [
    {
     "data": {
      "text/plain": [
       "'x'"
      ]
     },
     "execution_count": 41,
     "metadata": {},
     "output_type": "execute_result"
    }
   ],
   "source": [
    "ox_uni[1]"
   ]
  },
  {
   "cell_type": "code",
   "execution_count": 42,
   "id": "81f500a6",
   "metadata": {},
   "outputs": [
    {
     "data": {
      "text/plain": [
       "'Oxford Uni'"
      ]
     },
     "execution_count": 42,
     "metadata": {},
     "output_type": "execute_result"
    }
   ],
   "source": [
    "ox_uni[0:10]   #string slicing, starting from 0, including 9 (10 excluded)"
   ]
  },
  {
   "cell_type": "code",
   "execution_count": 43,
   "id": "18205b54",
   "metadata": {},
   "outputs": [
    {
     "data": {
      "text/plain": [
       "7"
      ]
     },
     "execution_count": 43,
     "metadata": {},
     "output_type": "execute_result"
    }
   ],
   "source": [
    "ox_uni.index(\"U\")  #returns index of first appearance of the queried letter"
   ]
  },
  {
   "cell_type": "code",
   "execution_count": 44,
   "id": "1dfb505d",
   "metadata": {},
   "outputs": [
    {
     "data": {
      "text/plain": [
       "'Oxford Universidad'"
      ]
     },
     "execution_count": 44,
     "metadata": {},
     "output_type": "execute_result"
    }
   ],
   "source": [
    "ox_uni.replace(\"University\", \"Universidad\")"
   ]
  },
  {
   "cell_type": "code",
   "execution_count": 49,
   "id": "143d4b7d",
   "metadata": {},
   "outputs": [
    {
     "data": {
      "text/plain": [
       "['Oxford University.']"
      ]
     },
     "execution_count": 49,
     "metadata": {},
     "output_type": "execute_result"
    }
   ],
   "source": [
    "ox_uni.split(\"-\")"
   ]
  },
  {
   "cell_type": "markdown",
   "id": "cc612b77",
   "metadata": {},
   "source": [
    "## Numbers (very quickly)"
   ]
  },
  {
   "cell_type": "code",
   "execution_count": 50,
   "id": "49d75958",
   "metadata": {},
   "outputs": [],
   "source": [
    "# mathematical operations\n",
    "\n",
    "a = 2\n",
    "b = 3"
   ]
  },
  {
   "cell_type": "code",
   "execution_count": 51,
   "id": "827ef964",
   "metadata": {},
   "outputs": [
    {
     "data": {
      "text/plain": [
       "5"
      ]
     },
     "execution_count": 51,
     "metadata": {},
     "output_type": "execute_result"
    }
   ],
   "source": [
    "a + b"
   ]
  },
  {
   "cell_type": "code",
   "execution_count": 52,
   "id": "1eeea289",
   "metadata": {},
   "outputs": [
    {
     "data": {
      "text/plain": [
       "1"
      ]
     },
     "execution_count": 52,
     "metadata": {},
     "output_type": "execute_result"
    }
   ],
   "source": [
    "b - a"
   ]
  },
  {
   "cell_type": "code",
   "execution_count": 53,
   "id": "52065df2",
   "metadata": {},
   "outputs": [
    {
     "data": {
      "text/plain": [
       "6"
      ]
     },
     "execution_count": 53,
     "metadata": {},
     "output_type": "execute_result"
    }
   ],
   "source": [
    "a * b"
   ]
  },
  {
   "cell_type": "code",
   "execution_count": 54,
   "id": "3a0ce3c3",
   "metadata": {},
   "outputs": [
    {
     "data": {
      "text/plain": [
       "0.6666666666666666"
      ]
     },
     "execution_count": 54,
     "metadata": {},
     "output_type": "execute_result"
    }
   ],
   "source": [
    "a/b"
   ]
  },
  {
   "cell_type": "code",
   "execution_count": 55,
   "id": "8776e144",
   "metadata": {},
   "outputs": [
    {
     "data": {
      "text/plain": [
       "8"
      ]
     },
     "execution_count": 55,
     "metadata": {},
     "output_type": "execute_result"
    }
   ],
   "source": [
    "a**b  #power"
   ]
  },
  {
   "cell_type": "code",
   "execution_count": 56,
   "id": "338d07eb",
   "metadata": {},
   "outputs": [
    {
     "data": {
      "text/plain": [
       "1"
      ]
     },
     "execution_count": 56,
     "metadata": {},
     "output_type": "execute_result"
    }
   ],
   "source": [
    "b % a   #remainder"
   ]
  },
  {
   "cell_type": "code",
   "execution_count": 58,
   "id": "7cdba043",
   "metadata": {},
   "outputs": [
    {
     "data": {
      "text/plain": [
       "'hello hello hello '"
      ]
     },
     "execution_count": 58,
     "metadata": {},
     "output_type": "execute_result"
    }
   ],
   "source": [
    "\"hello \" * 3"
   ]
  },
  {
   "cell_type": "code",
   "execution_count": 59,
   "id": "2912ff89",
   "metadata": {},
   "outputs": [
    {
     "data": {
      "text/plain": [
       "5"
      ]
     },
     "execution_count": 59,
     "metadata": {},
     "output_type": "execute_result"
    }
   ],
   "source": [
    "#absolute value\n",
    "abs(-5)"
   ]
  },
  {
   "cell_type": "code",
   "execution_count": 60,
   "id": "c2239a6c",
   "metadata": {},
   "outputs": [
    {
     "data": {
      "text/plain": [
       "9"
      ]
     },
     "execution_count": 60,
     "metadata": {},
     "output_type": "execute_result"
    }
   ],
   "source": [
    "#power\n",
    "pow(3,2)"
   ]
  },
  {
   "cell_type": "code",
   "execution_count": 62,
   "id": "7c16cf33",
   "metadata": {},
   "outputs": [
    {
     "data": {
      "text/plain": [
       "1"
      ]
     },
     "execution_count": 62,
     "metadata": {},
     "output_type": "execute_result"
    }
   ],
   "source": [
    "min([1,2,3,4,5])  #min"
   ]
  },
  {
   "cell_type": "code",
   "execution_count": 63,
   "id": "40942dba",
   "metadata": {},
   "outputs": [
    {
     "data": {
      "text/plain": [
       "4"
      ]
     },
     "execution_count": 63,
     "metadata": {},
     "output_type": "execute_result"
    }
   ],
   "source": [
    "round(3.66423)"
   ]
  },
  {
   "cell_type": "code",
   "execution_count": 64,
   "id": "1d985cf3",
   "metadata": {},
   "outputs": [],
   "source": [
    "#import math\n",
    "from math import *"
   ]
  },
  {
   "cell_type": "code",
   "execution_count": 65,
   "id": "6221d101",
   "metadata": {},
   "outputs": [
    {
     "data": {
      "text/plain": [
       "2"
      ]
     },
     "execution_count": 65,
     "metadata": {},
     "output_type": "execute_result"
    }
   ],
   "source": [
    "floor(2.7)    #will throw error if code above not executed"
   ]
  },
  {
   "cell_type": "code",
   "execution_count": 66,
   "id": "2cd641a3",
   "metadata": {},
   "outputs": [
    {
     "data": {
      "text/plain": [
       "3"
      ]
     },
     "execution_count": 66,
     "metadata": {},
     "output_type": "execute_result"
    }
   ],
   "source": [
    "ceil(2.7)"
   ]
  },
  {
   "cell_type": "code",
   "execution_count": 67,
   "id": "2dd0dd31",
   "metadata": {},
   "outputs": [
    {
     "data": {
      "text/plain": [
       "6.0"
      ]
     },
     "execution_count": 67,
     "metadata": {},
     "output_type": "execute_result"
    }
   ],
   "source": [
    "sqrt(36)"
   ]
  },
  {
   "cell_type": "markdown",
   "id": "a2cbd20a",
   "metadata": {},
   "source": [
    "#### check out documentation https://docs.python.org/3/library/math.html"
   ]
  },
  {
   "cell_type": "markdown",
   "id": "4364aab8",
   "metadata": {},
   "source": [
    "## Lists"
   ]
  },
  {
   "cell_type": "code",
   "execution_count": 70,
   "id": "4760adba",
   "metadata": {},
   "outputs": [],
   "source": [
    "friends = [\"Ben\", \"Kevin\", \"Anna\", \"Maria\", \"Oscar\"]\n",
    "ages = [29, 30, 27, 28, 30]"
   ]
  },
  {
   "cell_type": "code",
   "execution_count": 71,
   "id": "f981e82a",
   "metadata": {},
   "outputs": [
    {
     "data": {
      "text/plain": [
       "'Ben'"
      ]
     },
     "execution_count": 71,
     "metadata": {},
     "output_type": "execute_result"
    }
   ],
   "source": [
    "friends[0] #dont forget, we start indexing at 0"
   ]
  },
  {
   "cell_type": "code",
   "execution_count": 72,
   "id": "82d674d1",
   "metadata": {},
   "outputs": [
    {
     "data": {
      "text/plain": [
       "['Anna', 'Maria', 'Oscar']"
      ]
     },
     "execution_count": 72,
     "metadata": {},
     "output_type": "execute_result"
    }
   ],
   "source": [
    "friends[2:]"
   ]
  },
  {
   "cell_type": "code",
   "execution_count": 73,
   "id": "01449d5a",
   "metadata": {},
   "outputs": [],
   "source": [
    "friends[1] = \"Mike\""
   ]
  },
  {
   "cell_type": "code",
   "execution_count": 74,
   "id": "27baaf6e",
   "metadata": {},
   "outputs": [
    {
     "data": {
      "text/plain": [
       "['Ben', 'Mike', 'Anna', 'Maria', 'Oscar']"
      ]
     },
     "execution_count": 74,
     "metadata": {},
     "output_type": "execute_result"
    }
   ],
   "source": [
    "friends"
   ]
  },
  {
   "cell_type": "markdown",
   "id": "bfa90ca4",
   "metadata": {},
   "source": [
    "### List functions"
   ]
  },
  {
   "cell_type": "code",
   "execution_count": 75,
   "id": "e00bbaeb",
   "metadata": {},
   "outputs": [],
   "source": [
    "#append\n",
    "friends.append(\"Nina\")\n",
    "ages.append(31)"
   ]
  },
  {
   "cell_type": "code",
   "execution_count": 76,
   "id": "4d9efbf9",
   "metadata": {},
   "outputs": [
    {
     "data": {
      "text/plain": [
       "['Ben', 'Mike', 'Anna', 'Maria', 'Oscar', 'Nina']"
      ]
     },
     "execution_count": 76,
     "metadata": {},
     "output_type": "execute_result"
    }
   ],
   "source": [
    "friends"
   ]
  },
  {
   "cell_type": "code",
   "execution_count": 77,
   "id": "04900e33",
   "metadata": {},
   "outputs": [],
   "source": [
    "#insert\n",
    "friends.insert(1,\"Alex\")\n",
    "ages.insert(1, 32)"
   ]
  },
  {
   "cell_type": "code",
   "execution_count": 78,
   "id": "7cb396ec",
   "metadata": {},
   "outputs": [
    {
     "data": {
      "text/plain": [
       "['Ben', 'Alex', 'Mike', 'Anna', 'Maria', 'Oscar', 'Nina']"
      ]
     },
     "execution_count": 78,
     "metadata": {},
     "output_type": "execute_result"
    }
   ],
   "source": [
    "friends"
   ]
  },
  {
   "cell_type": "code",
   "execution_count": 79,
   "id": "54e4001c",
   "metadata": {},
   "outputs": [],
   "source": [
    "#remove\n",
    "friends.remove(\"Ben\")\n",
    "ages.remove(29)    #note: only removes first appearance!"
   ]
  },
  {
   "cell_type": "code",
   "execution_count": 80,
   "id": "04999bf0",
   "metadata": {},
   "outputs": [
    {
     "data": {
      "text/plain": [
       "['Alex', 'Mike', 'Anna', 'Maria', 'Oscar', 'Nina']"
      ]
     },
     "execution_count": 80,
     "metadata": {},
     "output_type": "execute_result"
    }
   ],
   "source": [
    "friends"
   ]
  },
  {
   "cell_type": "code",
   "execution_count": 81,
   "id": "ae7e5d17",
   "metadata": {},
   "outputs": [
    {
     "data": {
      "text/plain": [
       "2"
      ]
     },
     "execution_count": 81,
     "metadata": {},
     "output_type": "execute_result"
    }
   ],
   "source": [
    "#same as for strings\n",
    "friends.index(\"Anna\")\n"
   ]
  },
  {
   "cell_type": "code",
   "execution_count": 82,
   "id": "241d6308",
   "metadata": {},
   "outputs": [
    {
     "data": {
      "text/plain": [
       "1"
      ]
     },
     "execution_count": 82,
     "metadata": {},
     "output_type": "execute_result"
    }
   ],
   "source": [
    "friends.count(\"Mike\")"
   ]
  },
  {
   "cell_type": "code",
   "execution_count": 83,
   "id": "5450169f",
   "metadata": {},
   "outputs": [],
   "source": [
    "friends.sort()"
   ]
  },
  {
   "cell_type": "code",
   "execution_count": 84,
   "id": "268a8fd4",
   "metadata": {},
   "outputs": [
    {
     "data": {
      "text/plain": [
       "['Alex', 'Anna', 'Maria', 'Mike', 'Nina', 'Oscar']"
      ]
     },
     "execution_count": 84,
     "metadata": {},
     "output_type": "execute_result"
    }
   ],
   "source": [
    "friends"
   ]
  },
  {
   "cell_type": "code",
   "execution_count": 85,
   "id": "9564c60b",
   "metadata": {},
   "outputs": [],
   "source": [
    "friends.reverse()"
   ]
  },
  {
   "cell_type": "code",
   "execution_count": 86,
   "id": "51e11918",
   "metadata": {},
   "outputs": [
    {
     "data": {
      "text/plain": [
       "['Oscar', 'Nina', 'Mike', 'Maria', 'Anna', 'Alex']"
      ]
     },
     "execution_count": 86,
     "metadata": {},
     "output_type": "execute_result"
    }
   ],
   "source": [
    "friends"
   ]
  },
  {
   "cell_type": "code",
   "execution_count": 87,
   "id": "35e349b5",
   "metadata": {},
   "outputs": [],
   "source": [
    "#caution!\n",
    "\n",
    "friends_2 = friends"
   ]
  },
  {
   "cell_type": "code",
   "execution_count": 88,
   "id": "31ebc0cb",
   "metadata": {},
   "outputs": [
    {
     "name": "stdout",
     "output_type": "stream",
     "text": [
      "['Oscar', 'Nina', 'Mike', 'Maria', 'Anna', 'Alex']\n",
      "['Oscar', 'Nina', 'Mike', 'Maria', 'Anna', 'Alex']\n"
     ]
    }
   ],
   "source": [
    "print(friends_2)\n",
    "print(friends)"
   ]
  },
  {
   "cell_type": "code",
   "execution_count": 89,
   "id": "d6108c65",
   "metadata": {},
   "outputs": [],
   "source": [
    "friends_2[0] = \"Bob\""
   ]
  },
  {
   "cell_type": "code",
   "execution_count": 90,
   "id": "2a78a59b",
   "metadata": {},
   "outputs": [
    {
     "data": {
      "text/plain": [
       "['Bob', 'Nina', 'Mike', 'Maria', 'Anna', 'Alex']"
      ]
     },
     "execution_count": 90,
     "metadata": {},
     "output_type": "execute_result"
    }
   ],
   "source": [
    "friends_2"
   ]
  },
  {
   "cell_type": "code",
   "execution_count": 91,
   "id": "eb0228dd",
   "metadata": {},
   "outputs": [
    {
     "data": {
      "text/plain": [
       "['Bob', 'Nina', 'Mike', 'Maria', 'Anna', 'Alex']"
      ]
     },
     "execution_count": 91,
     "metadata": {},
     "output_type": "execute_result"
    }
   ],
   "source": [
    "friends"
   ]
  },
  {
   "cell_type": "code",
   "execution_count": 96,
   "id": "23d39e54",
   "metadata": {},
   "outputs": [],
   "source": [
    "friends_2 = friends.copy()"
   ]
  },
  {
   "cell_type": "code",
   "execution_count": 97,
   "id": "99219fe0",
   "metadata": {},
   "outputs": [],
   "source": [
    "friends_2[0] = \"Oscar\""
   ]
  },
  {
   "cell_type": "code",
   "execution_count": 92,
   "id": "629a2031",
   "metadata": {},
   "outputs": [
    {
     "data": {
      "text/plain": [
       "['Bob', 'Nina', 'Mike', 'Maria', 'Anna', 'Alex']"
      ]
     },
     "execution_count": 92,
     "metadata": {},
     "output_type": "execute_result"
    }
   ],
   "source": [
    "friends_2"
   ]
  },
  {
   "cell_type": "code",
   "execution_count": 99,
   "id": "e3aea0c1",
   "metadata": {
    "collapsed": true
   },
   "outputs": [
    {
     "data": {
      "text/plain": [
       "['Bob', 'Nina', 'Mike', 'Maria', 'Anna', 'Alex']"
      ]
     },
     "execution_count": 99,
     "metadata": {},
     "output_type": "execute_result"
    }
   ],
   "source": [
    "friends"
   ]
  },
  {
   "cell_type": "markdown",
   "id": "e3f6c432",
   "metadata": {},
   "source": [
    "## Tuples\n",
    "immutable - cannot be changed"
   ]
  },
  {
   "cell_type": "code",
   "execution_count": 93,
   "id": "e09e8dfa",
   "metadata": {},
   "outputs": [],
   "source": [
    "tuples_name_age = list(zip(friends, ages))"
   ]
  },
  {
   "cell_type": "code",
   "execution_count": 94,
   "id": "139875e1",
   "metadata": {},
   "outputs": [
    {
     "data": {
      "text/plain": [
       "[('Bob', 32),\n",
       " ('Nina', 30),\n",
       " ('Mike', 27),\n",
       " ('Maria', 28),\n",
       " ('Anna', 30),\n",
       " ('Alex', 31)]"
      ]
     },
     "execution_count": 94,
     "metadata": {},
     "output_type": "execute_result"
    }
   ],
   "source": [
    "tuples_name_age"
   ]
  },
  {
   "cell_type": "code",
   "execution_count": 97,
   "id": "2bc04a79",
   "metadata": {},
   "outputs": [
    {
     "ename": "TypeError",
     "evalue": "'tuple' object does not support item assignment",
     "output_type": "error",
     "traceback": [
      "\u001b[0;31m---------------------------------------------------------------------------\u001b[0m",
      "\u001b[0;31mTypeError\u001b[0m                                 Traceback (most recent call last)",
      "\u001b[0;32m/tmp/ipykernel_78210/1733568275.py\u001b[0m in \u001b[0;36m<module>\u001b[0;34m\u001b[0m\n\u001b[0;32m----> 1\u001b[0;31m \u001b[0mtuples_name_age\u001b[0m\u001b[0;34m[\u001b[0m\u001b[0;36m0\u001b[0m\u001b[0;34m]\u001b[0m\u001b[0;34m[\u001b[0m\u001b[0;36m0\u001b[0m\u001b[0;34m]\u001b[0m \u001b[0;34m=\u001b[0m \u001b[0;34m\"Alex\"\u001b[0m\u001b[0;34m\u001b[0m\u001b[0;34m\u001b[0m\u001b[0m\n\u001b[0m",
      "\u001b[0;31mTypeError\u001b[0m: 'tuple' object does not support item assignment"
     ]
    }
   ],
   "source": [
    "tuples_name_age[0][0] = \"Alex\""
   ]
  },
  {
   "cell_type": "markdown",
   "id": "da21be57",
   "metadata": {},
   "source": [
    "## Functions"
   ]
  },
  {
   "cell_type": "code",
   "execution_count": 114,
   "id": "502a46f5",
   "metadata": {},
   "outputs": [],
   "source": [
    "def say_hi():\n",
    "    print(\"hello\")              #code needs to be indented  - otherwise not in function"
   ]
  },
  {
   "cell_type": "code",
   "execution_count": 115,
   "id": "5c39e2ec",
   "metadata": {},
   "outputs": [
    {
     "name": "stdout",
     "output_type": "stream",
     "text": [
      "hello\n"
     ]
    }
   ],
   "source": [
    "say_hi()   #need to call it - need to specify you want to execute it"
   ]
  },
  {
   "cell_type": "code",
   "execution_count": 116,
   "id": "f90174e3",
   "metadata": {},
   "outputs": [],
   "source": [
    "# with parameters\n",
    "\n",
    "def say_hi_name(name):   #parameter is a piece of information that we give to the function\n",
    "    print(\"Hello\", name)"
   ]
  },
  {
   "cell_type": "code",
   "execution_count": 117,
   "id": "3830139f",
   "metadata": {},
   "outputs": [
    {
     "name": "stdout",
     "output_type": "stream",
     "text": [
      "Hello 2\n"
     ]
    }
   ],
   "source": [
    "say_hi_name(2)"
   ]
  },
  {
   "cell_type": "code",
   "execution_count": 118,
   "id": "88964ac6",
   "metadata": {},
   "outputs": [],
   "source": [
    "def say_hi_fl(f_name, l_name):   #parameter is a piece of information that we give to the function\n",
    "    print(\"Hello\", f_name, l_name)"
   ]
  },
  {
   "cell_type": "code",
   "execution_count": 119,
   "id": "33e16b33",
   "metadata": {},
   "outputs": [
    {
     "name": "stdout",
     "output_type": "stream",
     "text": [
      "Hello Lisa Chalaguine\n"
     ]
    }
   ],
   "source": [
    "say_hi_fl(\"Lisa\", \"Chalaguine\")"
   ]
  },
  {
   "cell_type": "code",
   "execution_count": 120,
   "id": "e6829045",
   "metadata": {},
   "outputs": [
    {
     "name": "stdout",
     "output_type": "stream",
     "text": [
      "hello\n"
     ]
    }
   ],
   "source": [
    "# return statement\n",
    "\n",
    "b = say_hi()"
   ]
  },
  {
   "cell_type": "code",
   "execution_count": 123,
   "id": "000a7ed1",
   "metadata": {},
   "outputs": [
    {
     "data": {
      "text/plain": [
       "NoneType"
      ]
     },
     "execution_count": 123,
     "metadata": {},
     "output_type": "execute_result"
    }
   ],
   "source": [
    "type(b)"
   ]
  },
  {
   "cell_type": "code",
   "execution_count": null,
   "id": "2d2b8042",
   "metadata": {},
   "outputs": [],
   "source": []
  },
  {
   "cell_type": "code",
   "execution_count": null,
   "id": "29b690b7",
   "metadata": {},
   "outputs": [],
   "source": []
  },
  {
   "cell_type": "code",
   "execution_count": 124,
   "id": "2d64ee60",
   "metadata": {},
   "outputs": [],
   "source": [
    "def cube(num):\n",
    "    result = num**3\n",
    "    return result"
   ]
  },
  {
   "cell_type": "code",
   "execution_count": 125,
   "id": "88f1270d",
   "metadata": {},
   "outputs": [],
   "source": [
    "b = cube(3)"
   ]
  },
  {
   "cell_type": "code",
   "execution_count": 126,
   "id": "356002d6",
   "metadata": {},
   "outputs": [
    {
     "data": {
      "text/plain": [
       "27"
      ]
     },
     "execution_count": 126,
     "metadata": {},
     "output_type": "execute_result"
    }
   ],
   "source": [
    "b"
   ]
  },
  {
   "cell_type": "markdown",
   "id": "3189900b",
   "metadata": {},
   "source": [
    "## If-statements and comparisons"
   ]
  },
  {
   "cell_type": "code",
   "execution_count": 129,
   "id": "d8c6e74a",
   "metadata": {},
   "outputs": [],
   "source": [
    "text = \"This is some dummy text\"\n",
    "text_2 = \"This is some longer dummy text which represents a longer sentence and contains more information\"\n",
    "texts_of_interest = []  #empty list\n",
    "\n",
    "#let's say we are not interested in very short texts\n",
    "\n",
    "if len(text) > 50:\n",
    "    texts_of_interest.append(text_2)"
   ]
  },
  {
   "cell_type": "code",
   "execution_count": 130,
   "id": "edad3b2d",
   "metadata": {},
   "outputs": [
    {
     "data": {
      "text/plain": [
       "[]"
      ]
     },
     "execution_count": 130,
     "metadata": {},
     "output_type": "execute_result"
    }
   ],
   "source": [
    "texts_of_interest"
   ]
  },
  {
   "cell_type": "code",
   "execution_count": 135,
   "id": "922ca7fc",
   "metadata": {},
   "outputs": [
    {
     "ename": "SyntaxError",
     "evalue": "invalid syntax (2965380109.py, line 4)",
     "output_type": "error",
     "traceback": [
      "\u001b[0;36m  File \u001b[0;32m\"/tmp/ipykernel_78210/2965380109.py\"\u001b[0;36m, line \u001b[0;32m4\u001b[0m\n\u001b[0;31m    elif:\u001b[0m\n\u001b[0m        ^\u001b[0m\n\u001b[0;31mSyntaxError\u001b[0m\u001b[0;31m:\u001b[0m invalid syntax\n"
     ]
    }
   ],
   "source": [
    "#checking if specific words are present\n",
    "if \"kjhliuh\" in text:\n",
    "    print(True)\n",
    "else:\n",
    "    print(True)\n",
    "\n"
   ]
  },
  {
   "cell_type": "code",
   "execution_count": 137,
   "id": "eb186a96",
   "metadata": {},
   "outputs": [
    {
     "name": "stdout",
     "output_type": "stream",
     "text": [
      "True\n"
     ]
    }
   ],
   "source": [
    "#checking if specific words are present\n",
    "if \"dummy\" in text or \"info\" in text:\n",
    "    print(True)\n",
    "else:\n",
    "    print(False)"
   ]
  },
  {
   "cell_type": "code",
   "execution_count": 138,
   "id": "76646be5",
   "metadata": {},
   "outputs": [
    {
     "name": "stdout",
     "output_type": "stream",
     "text": [
      "False\n"
     ]
    }
   ],
   "source": [
    "#checking if specific words are present\n",
    "if \"dummy\" in text and \"info\" in text:\n",
    "    print(True)\n",
    "else:\n",
    "    print(False)"
   ]
  },
  {
   "cell_type": "code",
   "execution_count": 139,
   "id": "b873dc9f",
   "metadata": {},
   "outputs": [
    {
     "name": "stdout",
     "output_type": "stream",
     "text": [
      "True\n"
     ]
    }
   ],
   "source": [
    "#nested if statement:\n",
    "\n",
    "if len(text_2) > 50:\n",
    "    #print(\"here\")\n",
    "    if \"dummy\" in text or \"info\" in text:\n",
    "        print(True)\n",
    "    else:\n",
    "        print(False)"
   ]
  },
  {
   "cell_type": "code",
   "execution_count": 141,
   "id": "479d6cd1",
   "metadata": {},
   "outputs": [
    {
     "name": "stdout",
     "output_type": "stream",
     "text": [
      "short text\n"
     ]
    }
   ],
   "source": [
    "if len(text) < 50:\n",
    "    print(\"short text\")\n",
    "elif len(text) > 50 and len(text_2) < 100:\n",
    "    print(\"medium text\")\n",
    "else:\n",
    "    print(\"long text\")"
   ]
  },
  {
   "cell_type": "code",
   "execution_count": 145,
   "id": "79d07af4",
   "metadata": {},
   "outputs": [
    {
     "data": {
      "text/plain": [
       "True"
      ]
     },
     "execution_count": 145,
     "metadata": {},
     "output_type": "execute_result"
    }
   ],
   "source": [
    "#more comparisons\n",
    "\n",
    "# is equal to\n",
    "text == text_2"
   ]
  },
  {
   "cell_type": "code",
   "execution_count": 148,
   "id": "462b729a",
   "metadata": {},
   "outputs": [
    {
     "data": {
      "text/plain": [
       "False"
      ]
     },
     "execution_count": 148,
     "metadata": {},
     "output_type": "execute_result"
    }
   ],
   "source": [
    "#is not equal to\n",
    "2 != 2"
   ]
  },
  {
   "cell_type": "code",
   "execution_count": 149,
   "id": "36bd0cc5",
   "metadata": {},
   "outputs": [
    {
     "data": {
      "text/plain": [
       "True"
      ]
     },
     "execution_count": 149,
     "metadata": {},
     "output_type": "execute_result"
    }
   ],
   "source": [
    "#equal or larger than\n",
    "3 >= 3"
   ]
  },
  {
   "cell_type": "code",
   "execution_count": 150,
   "id": "df9abbe7",
   "metadata": {},
   "outputs": [
    {
     "data": {
      "text/plain": [
       "True"
      ]
     },
     "execution_count": 150,
     "metadata": {},
     "output_type": "execute_result"
    }
   ],
   "source": [
    "#equal or smaller than\n",
    "2 <= 3"
   ]
  },
  {
   "cell_type": "code",
   "execution_count": null,
   "id": "11a2be00",
   "metadata": {},
   "outputs": [],
   "source": []
  },
  {
   "cell_type": "markdown",
   "id": "1d0180d6",
   "metadata": {},
   "source": [
    "## For-loops\n"
   ]
  },
  {
   "cell_type": "code",
   "execution_count": 151,
   "id": "8b401a79",
   "metadata": {},
   "outputs": [
    {
     "name": "stdout",
     "output_type": "stream",
     "text": [
      "U\n",
      "N\n",
      "I\n",
      "V\n",
      "E\n",
      "R\n",
      "S\n",
      "I\n",
      "T\n",
      "Y\n"
     ]
    }
   ],
   "source": [
    "for letter in \"University\":\n",
    "    print(letter.upper())"
   ]
  },
  {
   "cell_type": "code",
   "execution_count": 152,
   "id": "b2301e4a",
   "metadata": {},
   "outputs": [
    {
     "name": "stdout",
     "output_type": "stream",
     "text": [
      "*\n",
      "n\n",
      "*\n",
      "v\n",
      "*\n",
      "r\n",
      "s\n",
      "*\n",
      "t\n",
      "y\n"
     ]
    }
   ],
   "source": [
    "#combining different types of loops\n",
    "vowels = [\"a\", \"e\", \"i\", \"o\", \"u\"]\n",
    "\n",
    "for letter in \"University\".lower():\n",
    "    if letter not in vowels:\n",
    "        print(letter)\n",
    "    else:\n",
    "        print(\"*\")\n",
    "    "
   ]
  },
  {
   "cell_type": "code",
   "execution_count": null,
   "id": "ac1c129a",
   "metadata": {},
   "outputs": [],
   "source": []
  },
  {
   "cell_type": "markdown",
   "id": "e83ee43a",
   "metadata": {},
   "source": [
    "## Dictionaries & sets\n",
    "\n",
    "hash-maps are much faster to search than lists so often better to store certain information in dictionaries rather than lists"
   ]
  },
  {
   "cell_type": "code",
   "execution_count": 157,
   "id": "9ca8ad27",
   "metadata": {},
   "outputs": [],
   "source": [
    "month_conversion = {\n",
    "    \"Jan\": [\"January\", \"Januar\"],\n",
    "    \"Feb\": \"February\",\n",
    "    \"Mar\": \"March\",\n",
    "    #etc\n",
    "    \n",
    "}\n"
   ]
  },
  {
   "cell_type": "code",
   "execution_count": 158,
   "id": "93bf14d6",
   "metadata": {},
   "outputs": [
    {
     "data": {
      "text/plain": [
       "['January', 'Januar']"
      ]
     },
     "execution_count": 158,
     "metadata": {},
     "output_type": "execute_result"
    }
   ],
   "source": [
    "#accessing values of keye in dictionary\n",
    "month_conversion[\"Jan\"]"
   ]
  },
  {
   "cell_type": "code",
   "execution_count": 159,
   "id": "4b4194c3",
   "metadata": {},
   "outputs": [
    {
     "ename": "KeyError",
     "evalue": "'Jun'",
     "output_type": "error",
     "traceback": [
      "\u001b[0;31m---------------------------------------------------------------------------\u001b[0m",
      "\u001b[0;31mKeyError\u001b[0m                                  Traceback (most recent call last)",
      "\u001b[0;32m/tmp/ipykernel_78210/458791581.py\u001b[0m in \u001b[0;36m<module>\u001b[0;34m\u001b[0m\n\u001b[0;32m----> 1\u001b[0;31m \u001b[0mmonth_conversion\u001b[0m\u001b[0;34m[\u001b[0m\u001b[0;34m\"Jun\"\u001b[0m\u001b[0;34m]\u001b[0m  \u001b[0;31m#but this gives an error\u001b[0m\u001b[0;34m\u001b[0m\u001b[0;34m\u001b[0m\u001b[0m\n\u001b[0m",
      "\u001b[0;31mKeyError\u001b[0m: 'Jun'"
     ]
    }
   ],
   "source": [
    "month_conversion[\"Jun\"]  #but this gives an error"
   ]
  },
  {
   "cell_type": "code",
   "execution_count": 160,
   "id": "d5ebbddb",
   "metadata": {},
   "outputs": [],
   "source": [
    "#better to use get()\n",
    "month_conversion.get(\"Jun\")  #no error"
   ]
  },
  {
   "cell_type": "code",
   "execution_count": 161,
   "id": "1f882c31",
   "metadata": {},
   "outputs": [],
   "source": [
    "from nltk.corpus import stopwords"
   ]
  },
  {
   "cell_type": "code",
   "execution_count": 162,
   "id": "c271c60d",
   "metadata": {},
   "outputs": [],
   "source": [
    "stop_words_list = list(stopwords.words('english'))\n",
    "stop_words_dict = dict.fromkeys(stop_words_list)"
   ]
  },
  {
   "cell_type": "code",
   "execution_count": 163,
   "id": "1529381d",
   "metadata": {
    "collapsed": true
   },
   "outputs": [
    {
     "data": {
      "text/plain": [
       "['i',\n",
       " 'me',\n",
       " 'my',\n",
       " 'myself',\n",
       " 'we',\n",
       " 'our',\n",
       " 'ours',\n",
       " 'ourselves',\n",
       " 'you',\n",
       " \"you're\",\n",
       " \"you've\",\n",
       " \"you'll\",\n",
       " \"you'd\",\n",
       " 'your',\n",
       " 'yours',\n",
       " 'yourself',\n",
       " 'yourselves',\n",
       " 'he',\n",
       " 'him',\n",
       " 'his',\n",
       " 'himself',\n",
       " 'she',\n",
       " \"she's\",\n",
       " 'her',\n",
       " 'hers',\n",
       " 'herself',\n",
       " 'it',\n",
       " \"it's\",\n",
       " 'its',\n",
       " 'itself',\n",
       " 'they',\n",
       " 'them',\n",
       " 'their',\n",
       " 'theirs',\n",
       " 'themselves',\n",
       " 'what',\n",
       " 'which',\n",
       " 'who',\n",
       " 'whom',\n",
       " 'this',\n",
       " 'that',\n",
       " \"that'll\",\n",
       " 'these',\n",
       " 'those',\n",
       " 'am',\n",
       " 'is',\n",
       " 'are',\n",
       " 'was',\n",
       " 'were',\n",
       " 'be',\n",
       " 'been',\n",
       " 'being',\n",
       " 'have',\n",
       " 'has',\n",
       " 'had',\n",
       " 'having',\n",
       " 'do',\n",
       " 'does',\n",
       " 'did',\n",
       " 'doing',\n",
       " 'a',\n",
       " 'an',\n",
       " 'the',\n",
       " 'and',\n",
       " 'but',\n",
       " 'if',\n",
       " 'or',\n",
       " 'because',\n",
       " 'as',\n",
       " 'until',\n",
       " 'while',\n",
       " 'of',\n",
       " 'at',\n",
       " 'by',\n",
       " 'for',\n",
       " 'with',\n",
       " 'about',\n",
       " 'against',\n",
       " 'between',\n",
       " 'into',\n",
       " 'through',\n",
       " 'during',\n",
       " 'before',\n",
       " 'after',\n",
       " 'above',\n",
       " 'below',\n",
       " 'to',\n",
       " 'from',\n",
       " 'up',\n",
       " 'down',\n",
       " 'in',\n",
       " 'out',\n",
       " 'on',\n",
       " 'off',\n",
       " 'over',\n",
       " 'under',\n",
       " 'again',\n",
       " 'further',\n",
       " 'then',\n",
       " 'once',\n",
       " 'here',\n",
       " 'there',\n",
       " 'when',\n",
       " 'where',\n",
       " 'why',\n",
       " 'how',\n",
       " 'all',\n",
       " 'any',\n",
       " 'both',\n",
       " 'each',\n",
       " 'few',\n",
       " 'more',\n",
       " 'most',\n",
       " 'other',\n",
       " 'some',\n",
       " 'such',\n",
       " 'no',\n",
       " 'nor',\n",
       " 'not',\n",
       " 'only',\n",
       " 'own',\n",
       " 'same',\n",
       " 'so',\n",
       " 'than',\n",
       " 'too',\n",
       " 'very',\n",
       " 's',\n",
       " 't',\n",
       " 'can',\n",
       " 'will',\n",
       " 'just',\n",
       " 'don',\n",
       " \"don't\",\n",
       " 'should',\n",
       " \"should've\",\n",
       " 'now',\n",
       " 'd',\n",
       " 'll',\n",
       " 'm',\n",
       " 'o',\n",
       " 're',\n",
       " 've',\n",
       " 'y',\n",
       " 'ain',\n",
       " 'aren',\n",
       " \"aren't\",\n",
       " 'couldn',\n",
       " \"couldn't\",\n",
       " 'didn',\n",
       " \"didn't\",\n",
       " 'doesn',\n",
       " \"doesn't\",\n",
       " 'hadn',\n",
       " \"hadn't\",\n",
       " 'hasn',\n",
       " \"hasn't\",\n",
       " 'haven',\n",
       " \"haven't\",\n",
       " 'isn',\n",
       " \"isn't\",\n",
       " 'ma',\n",
       " 'mightn',\n",
       " \"mightn't\",\n",
       " 'mustn',\n",
       " \"mustn't\",\n",
       " 'needn',\n",
       " \"needn't\",\n",
       " 'shan',\n",
       " \"shan't\",\n",
       " 'shouldn',\n",
       " \"shouldn't\",\n",
       " 'wasn',\n",
       " \"wasn't\",\n",
       " 'weren',\n",
       " \"weren't\",\n",
       " 'won',\n",
       " \"won't\",\n",
       " 'wouldn',\n",
       " \"wouldn't\"]"
      ]
     },
     "execution_count": 163,
     "metadata": {},
     "output_type": "execute_result"
    }
   ],
   "source": [
    "stop_words_list"
   ]
  },
  {
   "cell_type": "code",
   "execution_count": 164,
   "id": "9c39f71b",
   "metadata": {
    "collapsed": true
   },
   "outputs": [
    {
     "data": {
      "text/plain": [
       "{'i': None,\n",
       " 'me': None,\n",
       " 'my': None,\n",
       " 'myself': None,\n",
       " 'we': None,\n",
       " 'our': None,\n",
       " 'ours': None,\n",
       " 'ourselves': None,\n",
       " 'you': None,\n",
       " \"you're\": None,\n",
       " \"you've\": None,\n",
       " \"you'll\": None,\n",
       " \"you'd\": None,\n",
       " 'your': None,\n",
       " 'yours': None,\n",
       " 'yourself': None,\n",
       " 'yourselves': None,\n",
       " 'he': None,\n",
       " 'him': None,\n",
       " 'his': None,\n",
       " 'himself': None,\n",
       " 'she': None,\n",
       " \"she's\": None,\n",
       " 'her': None,\n",
       " 'hers': None,\n",
       " 'herself': None,\n",
       " 'it': None,\n",
       " \"it's\": None,\n",
       " 'its': None,\n",
       " 'itself': None,\n",
       " 'they': None,\n",
       " 'them': None,\n",
       " 'their': None,\n",
       " 'theirs': None,\n",
       " 'themselves': None,\n",
       " 'what': None,\n",
       " 'which': None,\n",
       " 'who': None,\n",
       " 'whom': None,\n",
       " 'this': None,\n",
       " 'that': None,\n",
       " \"that'll\": None,\n",
       " 'these': None,\n",
       " 'those': None,\n",
       " 'am': None,\n",
       " 'is': None,\n",
       " 'are': None,\n",
       " 'was': None,\n",
       " 'were': None,\n",
       " 'be': None,\n",
       " 'been': None,\n",
       " 'being': None,\n",
       " 'have': None,\n",
       " 'has': None,\n",
       " 'had': None,\n",
       " 'having': None,\n",
       " 'do': None,\n",
       " 'does': None,\n",
       " 'did': None,\n",
       " 'doing': None,\n",
       " 'a': None,\n",
       " 'an': None,\n",
       " 'the': None,\n",
       " 'and': None,\n",
       " 'but': None,\n",
       " 'if': None,\n",
       " 'or': None,\n",
       " 'because': None,\n",
       " 'as': None,\n",
       " 'until': None,\n",
       " 'while': None,\n",
       " 'of': None,\n",
       " 'at': None,\n",
       " 'by': None,\n",
       " 'for': None,\n",
       " 'with': None,\n",
       " 'about': None,\n",
       " 'against': None,\n",
       " 'between': None,\n",
       " 'into': None,\n",
       " 'through': None,\n",
       " 'during': None,\n",
       " 'before': None,\n",
       " 'after': None,\n",
       " 'above': None,\n",
       " 'below': None,\n",
       " 'to': None,\n",
       " 'from': None,\n",
       " 'up': None,\n",
       " 'down': None,\n",
       " 'in': None,\n",
       " 'out': None,\n",
       " 'on': None,\n",
       " 'off': None,\n",
       " 'over': None,\n",
       " 'under': None,\n",
       " 'again': None,\n",
       " 'further': None,\n",
       " 'then': None,\n",
       " 'once': None,\n",
       " 'here': None,\n",
       " 'there': None,\n",
       " 'when': None,\n",
       " 'where': None,\n",
       " 'why': None,\n",
       " 'how': None,\n",
       " 'all': None,\n",
       " 'any': None,\n",
       " 'both': None,\n",
       " 'each': None,\n",
       " 'few': None,\n",
       " 'more': None,\n",
       " 'most': None,\n",
       " 'other': None,\n",
       " 'some': None,\n",
       " 'such': None,\n",
       " 'no': None,\n",
       " 'nor': None,\n",
       " 'not': None,\n",
       " 'only': None,\n",
       " 'own': None,\n",
       " 'same': None,\n",
       " 'so': None,\n",
       " 'than': None,\n",
       " 'too': None,\n",
       " 'very': None,\n",
       " 's': None,\n",
       " 't': None,\n",
       " 'can': None,\n",
       " 'will': None,\n",
       " 'just': None,\n",
       " 'don': None,\n",
       " \"don't\": None,\n",
       " 'should': None,\n",
       " \"should've\": None,\n",
       " 'now': None,\n",
       " 'd': None,\n",
       " 'll': None,\n",
       " 'm': None,\n",
       " 'o': None,\n",
       " 're': None,\n",
       " 've': None,\n",
       " 'y': None,\n",
       " 'ain': None,\n",
       " 'aren': None,\n",
       " \"aren't\": None,\n",
       " 'couldn': None,\n",
       " \"couldn't\": None,\n",
       " 'didn': None,\n",
       " \"didn't\": None,\n",
       " 'doesn': None,\n",
       " \"doesn't\": None,\n",
       " 'hadn': None,\n",
       " \"hadn't\": None,\n",
       " 'hasn': None,\n",
       " \"hasn't\": None,\n",
       " 'haven': None,\n",
       " \"haven't\": None,\n",
       " 'isn': None,\n",
       " \"isn't\": None,\n",
       " 'ma': None,\n",
       " 'mightn': None,\n",
       " \"mightn't\": None,\n",
       " 'mustn': None,\n",
       " \"mustn't\": None,\n",
       " 'needn': None,\n",
       " \"needn't\": None,\n",
       " 'shan': None,\n",
       " \"shan't\": None,\n",
       " 'shouldn': None,\n",
       " \"shouldn't\": None,\n",
       " 'wasn': None,\n",
       " \"wasn't\": None,\n",
       " 'weren': None,\n",
       " \"weren't\": None,\n",
       " 'won': None,\n",
       " \"won't\": None,\n",
       " 'wouldn': None,\n",
       " \"wouldn't\": None}"
      ]
     },
     "execution_count": 164,
     "metadata": {},
     "output_type": "execute_result"
    }
   ],
   "source": [
    "stop_words_dict"
   ]
  },
  {
   "cell_type": "code",
   "execution_count": 165,
   "id": "85f7ad11",
   "metadata": {},
   "outputs": [],
   "source": [
    "sentence = \"It was an important game for the NY Knicks\""
   ]
  },
  {
   "cell_type": "code",
   "execution_count": 166,
   "id": "376c7a0b",
   "metadata": {},
   "outputs": [],
   "source": [
    "import time"
   ]
  },
  {
   "cell_type": "code",
   "execution_count": 167,
   "id": "289cffac",
   "metadata": {},
   "outputs": [],
   "source": [
    "cleaned_sentence = []\n",
    "\n",
    "time1 = time.time()\n",
    "\n",
    "for word in sentence.lower().split():\n",
    "    if word not in stop_words_list:\n",
    "        cleaned_sentence.append(word)\n",
    "        \n",
    "time2 = time.time()"
   ]
  },
  {
   "cell_type": "code",
   "execution_count": 170,
   "id": "5e8f7a0e",
   "metadata": {},
   "outputs": [],
   "source": [
    "t = time2 - time1"
   ]
  },
  {
   "cell_type": "code",
   "execution_count": 171,
   "id": "fbb33847",
   "metadata": {},
   "outputs": [
    {
     "data": {
      "text/plain": [
       "'0.000100'"
      ]
     },
     "execution_count": 171,
     "metadata": {},
     "output_type": "execute_result"
    }
   ],
   "source": [
    "'{:f}'.format(t)"
   ]
  },
  {
   "cell_type": "code",
   "execution_count": 169,
   "id": "8858954e",
   "metadata": {},
   "outputs": [
    {
     "data": {
      "text/plain": [
       "['important', 'game', 'ny', 'knicks']"
      ]
     },
     "execution_count": 169,
     "metadata": {},
     "output_type": "execute_result"
    }
   ],
   "source": [
    "cleaned_sentence"
   ]
  },
  {
   "cell_type": "code",
   "execution_count": 172,
   "id": "a90a376d",
   "metadata": {},
   "outputs": [],
   "source": [
    "cleaned_sentence = []\n",
    "\n",
    "time1 = time.time()\n",
    "\n",
    "for word in sentence.lower().split():\n",
    "    if word not in stop_words_dict:\n",
    "        cleaned_sentence.append(word)\n",
    "        \n",
    "time2 = time.time()"
   ]
  },
  {
   "cell_type": "code",
   "execution_count": 173,
   "id": "420ddb2f",
   "metadata": {},
   "outputs": [
    {
     "data": {
      "text/plain": [
       "6.961822509765625e-05"
      ]
     },
     "execution_count": 173,
     "metadata": {},
     "output_type": "execute_result"
    }
   ],
   "source": [
    "time2 - time1 "
   ]
  },
  {
   "cell_type": "code",
   "execution_count": 174,
   "id": "9aba5858",
   "metadata": {},
   "outputs": [
    {
     "data": {
      "text/plain": [
       "'0.000070'"
      ]
     },
     "execution_count": 174,
     "metadata": {},
     "output_type": "execute_result"
    }
   ],
   "source": [
    "format(time2 - time1, \"f\")"
   ]
  },
  {
   "cell_type": "code",
   "execution_count": null,
   "id": "618ed86f",
   "metadata": {},
   "outputs": [],
   "source": []
  },
  {
   "cell_type": "markdown",
   "id": "e894becd",
   "metadata": {},
   "source": [
    "#### but we are wasting space with the \"None\" values no? we do not need values"
   ]
  },
  {
   "cell_type": "code",
   "execution_count": 175,
   "id": "3b04c4cc",
   "metadata": {},
   "outputs": [],
   "source": [
    "stop_words_set = set(stop_words_list)"
   ]
  },
  {
   "cell_type": "code",
   "execution_count": 176,
   "id": "e28f479d",
   "metadata": {
    "collapsed": true
   },
   "outputs": [
    {
     "data": {
      "text/plain": [
       "{'a',\n",
       " 'about',\n",
       " 'above',\n",
       " 'after',\n",
       " 'again',\n",
       " 'against',\n",
       " 'ain',\n",
       " 'all',\n",
       " 'am',\n",
       " 'an',\n",
       " 'and',\n",
       " 'any',\n",
       " 'are',\n",
       " 'aren',\n",
       " \"aren't\",\n",
       " 'as',\n",
       " 'at',\n",
       " 'be',\n",
       " 'because',\n",
       " 'been',\n",
       " 'before',\n",
       " 'being',\n",
       " 'below',\n",
       " 'between',\n",
       " 'both',\n",
       " 'but',\n",
       " 'by',\n",
       " 'can',\n",
       " 'couldn',\n",
       " \"couldn't\",\n",
       " 'd',\n",
       " 'did',\n",
       " 'didn',\n",
       " \"didn't\",\n",
       " 'do',\n",
       " 'does',\n",
       " 'doesn',\n",
       " \"doesn't\",\n",
       " 'doing',\n",
       " 'don',\n",
       " \"don't\",\n",
       " 'down',\n",
       " 'during',\n",
       " 'each',\n",
       " 'few',\n",
       " 'for',\n",
       " 'from',\n",
       " 'further',\n",
       " 'had',\n",
       " 'hadn',\n",
       " \"hadn't\",\n",
       " 'has',\n",
       " 'hasn',\n",
       " \"hasn't\",\n",
       " 'have',\n",
       " 'haven',\n",
       " \"haven't\",\n",
       " 'having',\n",
       " 'he',\n",
       " 'her',\n",
       " 'here',\n",
       " 'hers',\n",
       " 'herself',\n",
       " 'him',\n",
       " 'himself',\n",
       " 'his',\n",
       " 'how',\n",
       " 'i',\n",
       " 'if',\n",
       " 'in',\n",
       " 'into',\n",
       " 'is',\n",
       " 'isn',\n",
       " \"isn't\",\n",
       " 'it',\n",
       " \"it's\",\n",
       " 'its',\n",
       " 'itself',\n",
       " 'just',\n",
       " 'll',\n",
       " 'm',\n",
       " 'ma',\n",
       " 'me',\n",
       " 'mightn',\n",
       " \"mightn't\",\n",
       " 'more',\n",
       " 'most',\n",
       " 'mustn',\n",
       " \"mustn't\",\n",
       " 'my',\n",
       " 'myself',\n",
       " 'needn',\n",
       " \"needn't\",\n",
       " 'no',\n",
       " 'nor',\n",
       " 'not',\n",
       " 'now',\n",
       " 'o',\n",
       " 'of',\n",
       " 'off',\n",
       " 'on',\n",
       " 'once',\n",
       " 'only',\n",
       " 'or',\n",
       " 'other',\n",
       " 'our',\n",
       " 'ours',\n",
       " 'ourselves',\n",
       " 'out',\n",
       " 'over',\n",
       " 'own',\n",
       " 're',\n",
       " 's',\n",
       " 'same',\n",
       " 'shan',\n",
       " \"shan't\",\n",
       " 'she',\n",
       " \"she's\",\n",
       " 'should',\n",
       " \"should've\",\n",
       " 'shouldn',\n",
       " \"shouldn't\",\n",
       " 'so',\n",
       " 'some',\n",
       " 'such',\n",
       " 't',\n",
       " 'than',\n",
       " 'that',\n",
       " \"that'll\",\n",
       " 'the',\n",
       " 'their',\n",
       " 'theirs',\n",
       " 'them',\n",
       " 'themselves',\n",
       " 'then',\n",
       " 'there',\n",
       " 'these',\n",
       " 'they',\n",
       " 'this',\n",
       " 'those',\n",
       " 'through',\n",
       " 'to',\n",
       " 'too',\n",
       " 'under',\n",
       " 'until',\n",
       " 'up',\n",
       " 've',\n",
       " 'very',\n",
       " 'was',\n",
       " 'wasn',\n",
       " \"wasn't\",\n",
       " 'we',\n",
       " 'were',\n",
       " 'weren',\n",
       " \"weren't\",\n",
       " 'what',\n",
       " 'when',\n",
       " 'where',\n",
       " 'which',\n",
       " 'while',\n",
       " 'who',\n",
       " 'whom',\n",
       " 'why',\n",
       " 'will',\n",
       " 'with',\n",
       " 'won',\n",
       " \"won't\",\n",
       " 'wouldn',\n",
       " \"wouldn't\",\n",
       " 'y',\n",
       " 'you',\n",
       " \"you'd\",\n",
       " \"you'll\",\n",
       " \"you're\",\n",
       " \"you've\",\n",
       " 'your',\n",
       " 'yours',\n",
       " 'yourself',\n",
       " 'yourselves'}"
      ]
     },
     "execution_count": 176,
     "metadata": {},
     "output_type": "execute_result"
    }
   ],
   "source": [
    "stop_words_set "
   ]
  },
  {
   "cell_type": "code",
   "execution_count": 177,
   "id": "8a1d38cb",
   "metadata": {},
   "outputs": [],
   "source": [
    "cleaned_sentence = []\n",
    "\n",
    "time1 = time.time()\n",
    "\n",
    "for word in sentence.lower().split():\n",
    "    if word not in stop_words_set:\n",
    "        cleaned_sentence.append(word)\n",
    "        \n",
    "time2 = time.time()"
   ]
  },
  {
   "cell_type": "code",
   "execution_count": 178,
   "id": "7391a340",
   "metadata": {},
   "outputs": [
    {
     "data": {
      "text/plain": [
       "'0.000050'"
      ]
     },
     "execution_count": 178,
     "metadata": {},
     "output_type": "execute_result"
    }
   ],
   "source": [
    "format(time2 - time1, \"f\")  #even faster than the dictionary"
   ]
  },
  {
   "cell_type": "code",
   "execution_count": 179,
   "id": "878b21d4",
   "metadata": {},
   "outputs": [],
   "source": [
    "test = [1,2,3,4,4,5]\n",
    "\n",
    "test = list(set(test))"
   ]
  },
  {
   "cell_type": "code",
   "execution_count": 180,
   "id": "5b73ffde",
   "metadata": {},
   "outputs": [
    {
     "data": {
      "text/plain": [
       "[1, 2, 3, 4, 5]"
      ]
     },
     "execution_count": 180,
     "metadata": {},
     "output_type": "execute_result"
    }
   ],
   "source": [
    "test"
   ]
  },
  {
   "cell_type": "markdown",
   "id": "0e71184e",
   "metadata": {},
   "source": [
    "## Reading and writing into text files"
   ]
  },
  {
   "cell_type": "code",
   "execution_count": 190,
   "id": "c761eec3",
   "metadata": {},
   "outputs": [],
   "source": [
    "stopword_file = open(\"../data/stopword_file.txt\", \"r\")    #mode r - reading, w - writing, a - append, r+  -reading and writing"
   ]
  },
  {
   "cell_type": "code",
   "execution_count": 182,
   "id": "d1580252",
   "metadata": {
    "collapsed": true
   },
   "outputs": [
    {
     "data": {
      "text/plain": [
       "'a\\nas\\nable\\nabout\\nabove\\naccording\\naccordingly\\nacross\\nactually\\nafter\\nafterwards\\nagain\\nagainst\\naint\\nall\\nallow\\nallows\\nalmost\\nalone\\nalong\\nalready\\nalso\\nalthough\\nalways\\nam\\namong\\namongst\\nan\\nand\\nanother\\nany\\nanybody\\nanyhow\\nanyone\\nanything\\nanyway\\nanyways\\nanywhere\\napart\\nappear\\nappreciate\\nappropriate\\nare\\narent\\naround\\nas\\naside\\nask\\nasking\\nassociated\\nat\\navailable\\naway\\nawfully\\nb\\nbe\\nbecame\\nbecause\\nbecome\\nbecomes\\nbecoming\\nbeen\\nbefore\\nbeforehand\\nbehind\\nbeing\\nbelieve\\nbelow\\nbeside\\nbesides\\nbest\\nbetter\\nbetween\\nbeyond\\nboth\\nbrief\\nbut\\nby\\nc\\ncmon\\ncs\\ncame\\ncan\\ncant\\ncannot\\ncant\\ncause\\ncauses\\ncertain\\ncertainly\\nchanges\\nclearly\\nco\\ncom\\ncome\\ncomes\\nconcerning\\nconsequently\\nconsider\\nconsidering\\ncontain\\ncontaining\\ncontains\\ncorresponding\\ncould\\ncouldnt\\ncourse\\ncurrently\\nd\\ndefinitely\\ndescribed\\ndespite\\ndid\\ndidnt\\ndifferent\\ndo\\ndoes\\ndoesnt\\ndoing\\ndont\\ndone\\ndown\\ndownwards\\nduring\\ne\\neach\\nedu\\neg\\neight\\neither\\nelse\\nelsewhere\\nenough\\nentirely\\nespecially\\net\\netc\\neven\\never\\nevery\\neverybody\\neveryone\\neverything\\neverywhere\\nex\\nexactly\\nexample\\nexcept\\nf\\nfar\\nfew\\nfifth\\nfirst\\nfive\\nfollowed\\nfollowing\\nfollows\\nfor\\nformer\\nformerly\\nforth\\nfour\\nfrom\\nfurther\\nfurthermore\\ng\\nget\\ngets\\ngetting\\ngiven\\ngives\\ngo\\ngoes\\ngoing\\ngone\\ngot\\ngotten\\ngreetings\\nh\\nhad\\nhadnt\\nhappens\\nhardly\\nhas\\nhasnt\\nhave\\nhavent\\nhaving\\nhe\\nhes\\nhello\\nhelp\\nhence\\nher\\nhere\\nheres\\nhereafter\\nhereby\\nherein\\nhereupon\\nhers\\nherself\\nhi\\nhim\\nhimself\\nhis\\nhither\\nhopefully\\nhow\\nhowbeit\\nhowever\\ni\\nid\\nill\\nim\\nive\\nie\\nif\\nignored\\nimmediate\\nin\\ninasmuch\\ninc\\nindeed\\nindicate\\nindicated\\nindicates\\ninner\\ninsofar\\ninstead\\ninto\\ninward\\nis\\nisnt\\nit\\nitd\\nitll\\nits\\nits\\nitself\\nj\\njust\\nk\\nkeep\\nkeeps\\nkept\\nknow\\nknows\\nknown\\nl\\nlast\\nlately\\nlater\\nlatter\\nlatterly\\nleast\\nless\\nlest\\nlet\\nlets\\nlike\\nliked\\nlikely\\nlittle\\nlook\\nlooking\\nlooks\\nltd\\nm\\nmainly\\nmany\\nmay\\nmaybe\\nme\\nmean\\nmeanwhile\\nmerely\\nmight\\nmore\\nmoreover\\nmost\\nmostly\\nmuch\\nmust\\nmy\\nmyself\\nn\\nname\\nnamely\\nnd\\nnear\\nnearly\\nnecessary\\nneed\\nneeds\\nneither\\nnever\\nnevertheless\\nnew\\nnext\\nnine\\nno\\nnobody\\nnon\\nnone\\nnoone\\nnor\\nnormally\\nnot\\nnothing\\nnovel\\nnow\\nnowhere\\no\\nobviously\\nof\\noff\\noften\\noh\\nok\\nokay\\nold\\non\\nonce\\none\\nones\\nonly\\nonto\\nor\\nother\\nothers\\notherwise\\nought\\nour\\nours\\nourselves\\nout\\noutside\\nover\\noverall\\nown\\np\\nparticular\\nparticularly\\nper\\nperhaps\\nplaced\\nplease\\nplus\\npossible\\npresumably\\nprobably\\nprovides\\nq\\nque\\nquite\\nqv\\nr\\nrather\\nrd\\nre\\nreally\\nreasonably\\nregarding\\nregardless\\nregards\\nrelatively\\nrespectively\\nright\\ns\\nsaid\\nsame\\nsaw\\nsay\\nsaying\\nsays\\nsecond\\nsecondly\\nsee\\nseeing\\nseem\\nseemed\\nseeming\\nseems\\nseen\\nself\\nselves\\nsensible\\nsent\\nserious\\nseriously\\nseven\\nseveral\\nshall\\nshe\\nshould\\nshouldnt\\nsince\\nsix\\nso\\nsome\\nsomebody\\nsomehow\\nsomeone\\nsomething\\nsometime\\nsometimes\\nsomewhat\\nsomewhere\\nsoon\\nsorry\\nspecified\\nspecify\\nspecifying\\nstill\\nsub\\nsuch\\nsup\\nsure\\nt\\nts\\ntake\\ntaken\\ntell\\ntends\\nth\\nthan\\nthank\\nthanks\\nthanx\\nthat\\nthats\\nthats\\nthe\\ntheir\\ntheirs\\nthem\\nthemselves\\nthen\\nthence\\nthere\\ntheres\\nthereafter\\nthereby\\ntherefore\\ntherein\\ntheres\\nthereupon\\nthese\\nthey\\ntheyd\\ntheyll\\ntheyre\\ntheyve\\nthink\\nthird\\nthis\\nthorough\\nthoroughly\\nthose\\nthough\\nthree\\nthrough\\nthroughout\\nthru\\nthus\\nto\\ntogether\\ntoo\\ntook\\ntoward\\ntowards\\ntried\\ntries\\ntruly\\ntry\\ntrying\\ntwice\\ntwo\\nu\\nun\\nunder\\nunfortunately\\nunless\\nunlikely\\nuntil\\nunto\\nup\\nupon\\nus\\nuse\\nused\\nuseful\\nuses\\nusing\\nusually\\nuucp\\nv\\nvalue\\nvarious\\nvery\\nvia\\nviz\\nvs\\nw\\nwant\\nwants\\nwas\\nwasnt\\nway\\nwe\\nwed\\nwell\\nwere\\nweve\\nwelcome\\nwell\\nwent\\nwere\\nwerent\\nwhat\\nwhats\\nwhatever\\nwhen\\nwhence\\nwhenever\\nwhere\\nwheres\\nwhereafter\\nwhereas\\nwhereby\\nwherein\\nwhereupon\\nwherever\\nwhether\\nwhich\\nwhile\\nwhither\\nwho\\nwhos\\nwhoever\\nwhole\\nwhom\\nwhose\\nwhy\\nwill\\nwilling\\nwish\\nwith\\nwithin\\nwithout\\nwont\\nwonder\\nwould\\nwould\\nwouldnt\\nx\\ny\\nyes\\nyet\\nyou\\nyoud\\nyoull\\nyoure\\nyouve\\nyour\\nyours\\nyourself\\nyourselves\\nz\\nzero\\n\\n'"
      ]
     },
     "execution_count": 182,
     "metadata": {},
     "output_type": "execute_result"
    }
   ],
   "source": [
    "stopword_file.read()\n"
   ]
  },
  {
   "cell_type": "code",
   "execution_count": 186,
   "id": "11a4a057",
   "metadata": {
    "collapsed": true
   },
   "outputs": [
    {
     "name": "stdout",
     "output_type": "stream",
     "text": [
      "a\n",
      "\n",
      "as\n",
      "\n",
      "able\n",
      "\n",
      "about\n",
      "\n",
      "above\n",
      "\n",
      "according\n",
      "\n",
      "accordingly\n",
      "\n",
      "across\n",
      "\n",
      "actually\n",
      "\n",
      "after\n",
      "\n",
      "afterwards\n",
      "\n",
      "again\n",
      "\n",
      "against\n",
      "\n",
      "aint\n",
      "\n",
      "all\n",
      "\n",
      "allow\n",
      "\n",
      "allows\n",
      "\n",
      "almost\n",
      "\n",
      "alone\n",
      "\n",
      "along\n",
      "\n",
      "already\n",
      "\n",
      "also\n",
      "\n",
      "although\n",
      "\n",
      "always\n",
      "\n",
      "am\n",
      "\n",
      "among\n",
      "\n",
      "amongst\n",
      "\n",
      "an\n",
      "\n",
      "and\n",
      "\n",
      "another\n",
      "\n",
      "any\n",
      "\n",
      "anybody\n",
      "\n",
      "anyhow\n",
      "\n",
      "anyone\n",
      "\n",
      "anything\n",
      "\n",
      "anyway\n",
      "\n",
      "anyways\n",
      "\n",
      "anywhere\n",
      "\n",
      "apart\n",
      "\n",
      "appear\n",
      "\n",
      "appreciate\n",
      "\n",
      "appropriate\n",
      "\n",
      "are\n",
      "\n",
      "arent\n",
      "\n",
      "around\n",
      "\n",
      "as\n",
      "\n",
      "aside\n",
      "\n",
      "ask\n",
      "\n",
      "asking\n",
      "\n",
      "associated\n",
      "\n",
      "at\n",
      "\n",
      "available\n",
      "\n",
      "away\n",
      "\n",
      "awfully\n",
      "\n",
      "b\n",
      "\n",
      "be\n",
      "\n",
      "became\n",
      "\n",
      "because\n",
      "\n",
      "become\n",
      "\n",
      "becomes\n",
      "\n",
      "becoming\n",
      "\n",
      "been\n",
      "\n",
      "before\n",
      "\n",
      "beforehand\n",
      "\n",
      "behind\n",
      "\n",
      "being\n",
      "\n",
      "believe\n",
      "\n",
      "below\n",
      "\n",
      "beside\n",
      "\n",
      "besides\n",
      "\n",
      "best\n",
      "\n",
      "better\n",
      "\n",
      "between\n",
      "\n",
      "beyond\n",
      "\n",
      "both\n",
      "\n",
      "brief\n",
      "\n",
      "but\n",
      "\n",
      "by\n",
      "\n",
      "c\n",
      "\n",
      "cmon\n",
      "\n",
      "cs\n",
      "\n",
      "came\n",
      "\n",
      "can\n",
      "\n",
      "cant\n",
      "\n",
      "cannot\n",
      "\n",
      "cant\n",
      "\n",
      "cause\n",
      "\n",
      "causes\n",
      "\n",
      "certain\n",
      "\n",
      "certainly\n",
      "\n",
      "changes\n",
      "\n",
      "clearly\n",
      "\n",
      "co\n",
      "\n",
      "com\n",
      "\n",
      "come\n",
      "\n",
      "comes\n",
      "\n",
      "concerning\n",
      "\n",
      "consequently\n",
      "\n",
      "consider\n",
      "\n",
      "considering\n",
      "\n",
      "contain\n",
      "\n",
      "containing\n",
      "\n",
      "contains\n",
      "\n",
      "corresponding\n",
      "\n",
      "could\n",
      "\n",
      "couldnt\n",
      "\n",
      "course\n",
      "\n",
      "currently\n",
      "\n",
      "d\n",
      "\n",
      "definitely\n",
      "\n",
      "described\n",
      "\n",
      "despite\n",
      "\n",
      "did\n",
      "\n",
      "didnt\n",
      "\n",
      "different\n",
      "\n",
      "do\n",
      "\n",
      "does\n",
      "\n",
      "doesnt\n",
      "\n",
      "doing\n",
      "\n",
      "dont\n",
      "\n",
      "done\n",
      "\n",
      "down\n",
      "\n",
      "downwards\n",
      "\n",
      "during\n",
      "\n",
      "e\n",
      "\n",
      "each\n",
      "\n",
      "edu\n",
      "\n",
      "eg\n",
      "\n",
      "eight\n",
      "\n",
      "either\n",
      "\n",
      "else\n",
      "\n",
      "elsewhere\n",
      "\n",
      "enough\n",
      "\n",
      "entirely\n",
      "\n",
      "especially\n",
      "\n",
      "et\n",
      "\n",
      "etc\n",
      "\n",
      "even\n",
      "\n",
      "ever\n",
      "\n",
      "every\n",
      "\n",
      "everybody\n",
      "\n",
      "everyone\n",
      "\n",
      "everything\n",
      "\n",
      "everywhere\n",
      "\n",
      "ex\n",
      "\n",
      "exactly\n",
      "\n",
      "example\n",
      "\n",
      "except\n",
      "\n",
      "f\n",
      "\n",
      "far\n",
      "\n",
      "few\n",
      "\n",
      "fifth\n",
      "\n",
      "first\n",
      "\n",
      "five\n",
      "\n",
      "followed\n",
      "\n",
      "following\n",
      "\n",
      "follows\n",
      "\n",
      "for\n",
      "\n",
      "former\n",
      "\n",
      "formerly\n",
      "\n",
      "forth\n",
      "\n",
      "four\n",
      "\n",
      "from\n",
      "\n",
      "further\n",
      "\n",
      "furthermore\n",
      "\n",
      "g\n",
      "\n",
      "get\n",
      "\n",
      "gets\n",
      "\n",
      "getting\n",
      "\n",
      "given\n",
      "\n",
      "gives\n",
      "\n",
      "go\n",
      "\n",
      "goes\n",
      "\n",
      "going\n",
      "\n",
      "gone\n",
      "\n",
      "got\n",
      "\n",
      "gotten\n",
      "\n",
      "greetings\n",
      "\n",
      "h\n",
      "\n",
      "had\n",
      "\n",
      "hadnt\n",
      "\n",
      "happens\n",
      "\n",
      "hardly\n",
      "\n",
      "has\n",
      "\n",
      "hasnt\n",
      "\n",
      "have\n",
      "\n",
      "havent\n",
      "\n",
      "having\n",
      "\n",
      "he\n",
      "\n",
      "hes\n",
      "\n",
      "hello\n",
      "\n",
      "help\n",
      "\n",
      "hence\n",
      "\n",
      "her\n",
      "\n",
      "here\n",
      "\n",
      "heres\n",
      "\n",
      "hereafter\n",
      "\n",
      "hereby\n",
      "\n",
      "herein\n",
      "\n",
      "hereupon\n",
      "\n",
      "hers\n",
      "\n",
      "herself\n",
      "\n",
      "hi\n",
      "\n",
      "him\n",
      "\n",
      "himself\n",
      "\n",
      "his\n",
      "\n",
      "hither\n",
      "\n",
      "hopefully\n",
      "\n",
      "how\n",
      "\n",
      "howbeit\n",
      "\n",
      "however\n",
      "\n",
      "i\n",
      "\n",
      "id\n",
      "\n",
      "ill\n",
      "\n",
      "im\n",
      "\n",
      "ive\n",
      "\n",
      "ie\n",
      "\n",
      "if\n",
      "\n",
      "ignored\n",
      "\n",
      "immediate\n",
      "\n",
      "in\n",
      "\n",
      "inasmuch\n",
      "\n",
      "inc\n",
      "\n",
      "indeed\n",
      "\n",
      "indicate\n",
      "\n",
      "indicated\n",
      "\n",
      "indicates\n",
      "\n",
      "inner\n",
      "\n",
      "insofar\n",
      "\n",
      "instead\n",
      "\n",
      "into\n",
      "\n",
      "inward\n",
      "\n",
      "is\n",
      "\n",
      "isnt\n",
      "\n",
      "it\n",
      "\n",
      "itd\n",
      "\n",
      "itll\n",
      "\n",
      "its\n",
      "\n",
      "its\n",
      "\n",
      "itself\n",
      "\n",
      "j\n",
      "\n",
      "just\n",
      "\n",
      "k\n",
      "\n",
      "keep\n",
      "\n",
      "keeps\n",
      "\n",
      "kept\n",
      "\n",
      "know\n",
      "\n",
      "knows\n",
      "\n",
      "known\n",
      "\n",
      "l\n",
      "\n",
      "last\n",
      "\n",
      "lately\n",
      "\n",
      "later\n",
      "\n",
      "latter\n",
      "\n",
      "latterly\n",
      "\n",
      "least\n",
      "\n",
      "less\n",
      "\n",
      "lest\n",
      "\n",
      "let\n",
      "\n",
      "lets\n",
      "\n",
      "like\n",
      "\n",
      "liked\n",
      "\n",
      "likely\n",
      "\n",
      "little\n",
      "\n",
      "look\n",
      "\n",
      "looking\n",
      "\n",
      "looks\n",
      "\n",
      "ltd\n",
      "\n",
      "m\n",
      "\n",
      "mainly\n",
      "\n",
      "many\n",
      "\n",
      "may\n",
      "\n",
      "maybe\n",
      "\n",
      "me\n",
      "\n",
      "mean\n",
      "\n",
      "meanwhile\n",
      "\n",
      "merely\n",
      "\n",
      "might\n",
      "\n",
      "more\n",
      "\n",
      "moreover\n",
      "\n",
      "most\n",
      "\n",
      "mostly\n",
      "\n",
      "much\n",
      "\n",
      "must\n",
      "\n",
      "my\n",
      "\n",
      "myself\n",
      "\n",
      "n\n",
      "\n",
      "name\n",
      "\n",
      "namely\n",
      "\n",
      "nd\n",
      "\n",
      "near\n",
      "\n",
      "nearly\n",
      "\n",
      "necessary\n",
      "\n",
      "need\n",
      "\n",
      "needs\n",
      "\n",
      "neither\n",
      "\n",
      "never\n",
      "\n",
      "nevertheless\n",
      "\n",
      "new\n",
      "\n",
      "next\n",
      "\n",
      "nine\n",
      "\n",
      "no\n",
      "\n",
      "nobody\n",
      "\n",
      "non\n",
      "\n",
      "none\n",
      "\n",
      "noone\n",
      "\n",
      "nor\n",
      "\n",
      "normally\n",
      "\n",
      "not\n",
      "\n",
      "nothing\n",
      "\n",
      "novel\n",
      "\n",
      "now\n",
      "\n",
      "nowhere\n",
      "\n",
      "o\n",
      "\n",
      "obviously\n",
      "\n",
      "of\n",
      "\n",
      "off\n",
      "\n",
      "often\n",
      "\n",
      "oh\n",
      "\n",
      "ok\n",
      "\n",
      "okay\n",
      "\n",
      "old\n",
      "\n",
      "on\n",
      "\n",
      "once\n",
      "\n",
      "one\n",
      "\n",
      "ones\n",
      "\n",
      "only\n",
      "\n",
      "onto\n",
      "\n",
      "or\n",
      "\n",
      "other\n",
      "\n",
      "others\n",
      "\n",
      "otherwise\n",
      "\n",
      "ought\n",
      "\n",
      "our\n",
      "\n",
      "ours\n",
      "\n",
      "ourselves\n",
      "\n",
      "out\n",
      "\n",
      "outside\n",
      "\n",
      "over\n",
      "\n",
      "overall\n",
      "\n",
      "own\n",
      "\n",
      "p\n",
      "\n",
      "particular\n",
      "\n",
      "particularly\n",
      "\n",
      "per\n",
      "\n",
      "perhaps\n",
      "\n",
      "placed\n",
      "\n",
      "please\n",
      "\n",
      "plus\n",
      "\n",
      "possible\n",
      "\n",
      "presumably\n",
      "\n",
      "probably\n",
      "\n",
      "provides\n",
      "\n",
      "q\n",
      "\n",
      "que\n",
      "\n",
      "quite\n",
      "\n",
      "qv\n",
      "\n",
      "r\n",
      "\n",
      "rather\n",
      "\n",
      "rd\n",
      "\n",
      "re\n",
      "\n",
      "really\n",
      "\n",
      "reasonably\n",
      "\n",
      "regarding\n",
      "\n",
      "regardless\n",
      "\n",
      "regards\n",
      "\n",
      "relatively\n",
      "\n",
      "respectively\n",
      "\n",
      "right\n",
      "\n",
      "s\n",
      "\n",
      "said\n",
      "\n",
      "same\n",
      "\n",
      "saw\n",
      "\n",
      "say\n",
      "\n",
      "saying\n",
      "\n",
      "says\n",
      "\n",
      "second\n",
      "\n",
      "secondly\n",
      "\n",
      "see\n",
      "\n",
      "seeing\n",
      "\n",
      "seem\n",
      "\n",
      "seemed\n",
      "\n",
      "seeming\n",
      "\n",
      "seems\n",
      "\n",
      "seen\n",
      "\n",
      "self\n",
      "\n",
      "selves\n",
      "\n",
      "sensible\n",
      "\n",
      "sent\n",
      "\n",
      "serious\n",
      "\n",
      "seriously\n",
      "\n",
      "seven\n",
      "\n",
      "several\n",
      "\n",
      "shall\n",
      "\n",
      "she\n",
      "\n",
      "should\n",
      "\n",
      "shouldnt\n",
      "\n",
      "since\n",
      "\n",
      "six\n",
      "\n",
      "so\n",
      "\n",
      "some\n",
      "\n",
      "somebody\n",
      "\n",
      "somehow\n",
      "\n",
      "someone\n",
      "\n",
      "something\n",
      "\n",
      "sometime\n",
      "\n",
      "sometimes\n",
      "\n",
      "somewhat\n",
      "\n",
      "somewhere\n",
      "\n",
      "soon\n",
      "\n",
      "sorry\n",
      "\n",
      "specified\n",
      "\n",
      "specify\n",
      "\n",
      "specifying\n",
      "\n",
      "still\n",
      "\n",
      "sub\n",
      "\n",
      "such\n",
      "\n",
      "sup\n",
      "\n",
      "sure\n",
      "\n",
      "t\n",
      "\n",
      "ts\n",
      "\n",
      "take\n",
      "\n",
      "taken\n",
      "\n",
      "tell\n",
      "\n",
      "tends\n",
      "\n",
      "th\n",
      "\n",
      "than\n",
      "\n",
      "thank\n",
      "\n",
      "thanks\n",
      "\n",
      "thanx\n",
      "\n",
      "that\n",
      "\n",
      "thats\n",
      "\n",
      "thats\n",
      "\n",
      "the\n",
      "\n",
      "their\n",
      "\n",
      "theirs\n",
      "\n",
      "them\n",
      "\n",
      "themselves\n",
      "\n",
      "then\n",
      "\n",
      "thence\n",
      "\n",
      "there\n",
      "\n",
      "theres\n",
      "\n",
      "thereafter\n",
      "\n",
      "thereby\n",
      "\n",
      "therefore\n",
      "\n",
      "therein\n",
      "\n",
      "theres\n",
      "\n",
      "thereupon\n",
      "\n",
      "these\n",
      "\n",
      "they\n",
      "\n",
      "theyd\n",
      "\n",
      "theyll\n",
      "\n",
      "theyre\n",
      "\n",
      "theyve\n",
      "\n",
      "think\n",
      "\n",
      "third\n",
      "\n",
      "this\n",
      "\n",
      "thorough\n",
      "\n",
      "thoroughly\n",
      "\n",
      "those\n",
      "\n",
      "though\n",
      "\n",
      "three\n",
      "\n",
      "through\n",
      "\n",
      "throughout\n",
      "\n",
      "thru\n",
      "\n",
      "thus\n",
      "\n",
      "to\n",
      "\n",
      "together\n",
      "\n",
      "too\n",
      "\n",
      "took\n",
      "\n",
      "toward\n",
      "\n",
      "towards\n",
      "\n",
      "tried\n",
      "\n",
      "tries\n",
      "\n",
      "truly\n",
      "\n",
      "try\n",
      "\n",
      "trying\n",
      "\n",
      "twice\n",
      "\n",
      "two\n",
      "\n",
      "u\n",
      "\n",
      "un\n",
      "\n",
      "under\n",
      "\n",
      "unfortunately\n",
      "\n",
      "unless\n",
      "\n",
      "unlikely\n",
      "\n",
      "until\n",
      "\n",
      "unto\n",
      "\n",
      "up\n",
      "\n",
      "upon\n",
      "\n",
      "us\n",
      "\n",
      "use\n",
      "\n",
      "used\n",
      "\n",
      "useful\n",
      "\n",
      "uses\n",
      "\n",
      "using\n",
      "\n",
      "usually\n",
      "\n",
      "uucp\n",
      "\n",
      "v\n",
      "\n",
      "value\n",
      "\n",
      "various\n",
      "\n",
      "very\n",
      "\n",
      "via\n",
      "\n",
      "viz\n",
      "\n",
      "vs\n",
      "\n",
      "w\n",
      "\n",
      "want\n",
      "\n",
      "wants\n",
      "\n",
      "was\n",
      "\n",
      "wasnt\n",
      "\n",
      "way\n",
      "\n",
      "we\n",
      "\n",
      "wed\n",
      "\n",
      "well\n",
      "\n",
      "were\n",
      "\n",
      "weve\n",
      "\n",
      "welcome\n",
      "\n",
      "well\n",
      "\n",
      "went\n",
      "\n",
      "were\n",
      "\n",
      "werent\n",
      "\n",
      "what\n",
      "\n",
      "whats\n",
      "\n",
      "whatever\n",
      "\n",
      "when\n",
      "\n",
      "whence\n",
      "\n",
      "whenever\n",
      "\n",
      "where\n",
      "\n",
      "wheres\n",
      "\n",
      "whereafter\n",
      "\n",
      "whereas\n",
      "\n",
      "whereby\n",
      "\n",
      "wherein\n",
      "\n",
      "whereupon\n",
      "\n",
      "wherever\n",
      "\n",
      "whether\n",
      "\n",
      "which\n",
      "\n",
      "while\n",
      "\n",
      "whither\n",
      "\n",
      "who\n",
      "\n",
      "whos\n",
      "\n",
      "whoever\n",
      "\n",
      "whole\n",
      "\n",
      "whom\n",
      "\n",
      "whose\n",
      "\n",
      "why\n",
      "\n",
      "will\n",
      "\n",
      "willing\n",
      "\n",
      "wish\n",
      "\n",
      "with\n",
      "\n",
      "within\n",
      "\n",
      "without\n",
      "\n",
      "wont\n",
      "\n",
      "wonder\n",
      "\n",
      "would\n",
      "\n",
      "would\n",
      "\n",
      "wouldnt\n",
      "\n",
      "x\n",
      "\n",
      "y\n",
      "\n",
      "yes\n",
      "\n",
      "yet\n",
      "\n",
      "you\n",
      "\n",
      "youd\n",
      "\n",
      "youll\n",
      "\n",
      "youre\n",
      "\n",
      "youve\n",
      "\n",
      "your\n",
      "\n",
      "yours\n",
      "\n",
      "yourself\n",
      "\n",
      "yourselves\n",
      "\n",
      "z\n",
      "\n",
      "zero\n",
      "\n",
      "\n",
      "\n"
     ]
    }
   ],
   "source": [
    "for line in stopword_file:\n",
    "    print(line)"
   ]
  },
  {
   "cell_type": "code",
   "execution_count": 187,
   "id": "10047c9e",
   "metadata": {},
   "outputs": [],
   "source": [
    "stop_words = []"
   ]
  },
  {
   "cell_type": "code",
   "execution_count": 191,
   "id": "64a22f49",
   "metadata": {},
   "outputs": [],
   "source": [
    "for line in stopword_file:\n",
    "    stop_words.extend(line.split())  #extends allows to append several words"
   ]
  },
  {
   "cell_type": "code",
   "execution_count": 192,
   "id": "215465d4",
   "metadata": {
    "collapsed": true
   },
   "outputs": [
    {
     "data": {
      "text/plain": [
       "['a',\n",
       " 'as',\n",
       " 'able',\n",
       " 'about',\n",
       " 'above',\n",
       " 'according',\n",
       " 'accordingly',\n",
       " 'across',\n",
       " 'actually',\n",
       " 'after',\n",
       " 'afterwards',\n",
       " 'again',\n",
       " 'against',\n",
       " 'aint',\n",
       " 'all',\n",
       " 'allow',\n",
       " 'allows',\n",
       " 'almost',\n",
       " 'alone',\n",
       " 'along',\n",
       " 'already',\n",
       " 'also',\n",
       " 'although',\n",
       " 'always',\n",
       " 'am',\n",
       " 'among',\n",
       " 'amongst',\n",
       " 'an',\n",
       " 'and',\n",
       " 'another',\n",
       " 'any',\n",
       " 'anybody',\n",
       " 'anyhow',\n",
       " 'anyone',\n",
       " 'anything',\n",
       " 'anyway',\n",
       " 'anyways',\n",
       " 'anywhere',\n",
       " 'apart',\n",
       " 'appear',\n",
       " 'appreciate',\n",
       " 'appropriate',\n",
       " 'are',\n",
       " 'arent',\n",
       " 'around',\n",
       " 'as',\n",
       " 'aside',\n",
       " 'ask',\n",
       " 'asking',\n",
       " 'associated',\n",
       " 'at',\n",
       " 'available',\n",
       " 'away',\n",
       " 'awfully',\n",
       " 'b',\n",
       " 'be',\n",
       " 'became',\n",
       " 'because',\n",
       " 'become',\n",
       " 'becomes',\n",
       " 'becoming',\n",
       " 'been',\n",
       " 'before',\n",
       " 'beforehand',\n",
       " 'behind',\n",
       " 'being',\n",
       " 'believe',\n",
       " 'below',\n",
       " 'beside',\n",
       " 'besides',\n",
       " 'best',\n",
       " 'better',\n",
       " 'between',\n",
       " 'beyond',\n",
       " 'both',\n",
       " 'brief',\n",
       " 'but',\n",
       " 'by',\n",
       " 'c',\n",
       " 'cmon',\n",
       " 'cs',\n",
       " 'came',\n",
       " 'can',\n",
       " 'cant',\n",
       " 'cannot',\n",
       " 'cant',\n",
       " 'cause',\n",
       " 'causes',\n",
       " 'certain',\n",
       " 'certainly',\n",
       " 'changes',\n",
       " 'clearly',\n",
       " 'co',\n",
       " 'com',\n",
       " 'come',\n",
       " 'comes',\n",
       " 'concerning',\n",
       " 'consequently',\n",
       " 'consider',\n",
       " 'considering',\n",
       " 'contain',\n",
       " 'containing',\n",
       " 'contains',\n",
       " 'corresponding',\n",
       " 'could',\n",
       " 'couldnt',\n",
       " 'course',\n",
       " 'currently',\n",
       " 'd',\n",
       " 'definitely',\n",
       " 'described',\n",
       " 'despite',\n",
       " 'did',\n",
       " 'didnt',\n",
       " 'different',\n",
       " 'do',\n",
       " 'does',\n",
       " 'doesnt',\n",
       " 'doing',\n",
       " 'dont',\n",
       " 'done',\n",
       " 'down',\n",
       " 'downwards',\n",
       " 'during',\n",
       " 'e',\n",
       " 'each',\n",
       " 'edu',\n",
       " 'eg',\n",
       " 'eight',\n",
       " 'either',\n",
       " 'else',\n",
       " 'elsewhere',\n",
       " 'enough',\n",
       " 'entirely',\n",
       " 'especially',\n",
       " 'et',\n",
       " 'etc',\n",
       " 'even',\n",
       " 'ever',\n",
       " 'every',\n",
       " 'everybody',\n",
       " 'everyone',\n",
       " 'everything',\n",
       " 'everywhere',\n",
       " 'ex',\n",
       " 'exactly',\n",
       " 'example',\n",
       " 'except',\n",
       " 'f',\n",
       " 'far',\n",
       " 'few',\n",
       " 'fifth',\n",
       " 'first',\n",
       " 'five',\n",
       " 'followed',\n",
       " 'following',\n",
       " 'follows',\n",
       " 'for',\n",
       " 'former',\n",
       " 'formerly',\n",
       " 'forth',\n",
       " 'four',\n",
       " 'from',\n",
       " 'further',\n",
       " 'furthermore',\n",
       " 'g',\n",
       " 'get',\n",
       " 'gets',\n",
       " 'getting',\n",
       " 'given',\n",
       " 'gives',\n",
       " 'go',\n",
       " 'goes',\n",
       " 'going',\n",
       " 'gone',\n",
       " 'got',\n",
       " 'gotten',\n",
       " 'greetings',\n",
       " 'h',\n",
       " 'had',\n",
       " 'hadnt',\n",
       " 'happens',\n",
       " 'hardly',\n",
       " 'has',\n",
       " 'hasnt',\n",
       " 'have',\n",
       " 'havent',\n",
       " 'having',\n",
       " 'he',\n",
       " 'hes',\n",
       " 'hello',\n",
       " 'help',\n",
       " 'hence',\n",
       " 'her',\n",
       " 'here',\n",
       " 'heres',\n",
       " 'hereafter',\n",
       " 'hereby',\n",
       " 'herein',\n",
       " 'hereupon',\n",
       " 'hers',\n",
       " 'herself',\n",
       " 'hi',\n",
       " 'him',\n",
       " 'himself',\n",
       " 'his',\n",
       " 'hither',\n",
       " 'hopefully',\n",
       " 'how',\n",
       " 'howbeit',\n",
       " 'however',\n",
       " 'i',\n",
       " 'id',\n",
       " 'ill',\n",
       " 'im',\n",
       " 'ive',\n",
       " 'ie',\n",
       " 'if',\n",
       " 'ignored',\n",
       " 'immediate',\n",
       " 'in',\n",
       " 'inasmuch',\n",
       " 'inc',\n",
       " 'indeed',\n",
       " 'indicate',\n",
       " 'indicated',\n",
       " 'indicates',\n",
       " 'inner',\n",
       " 'insofar',\n",
       " 'instead',\n",
       " 'into',\n",
       " 'inward',\n",
       " 'is',\n",
       " 'isnt',\n",
       " 'it',\n",
       " 'itd',\n",
       " 'itll',\n",
       " 'its',\n",
       " 'its',\n",
       " 'itself',\n",
       " 'j',\n",
       " 'just',\n",
       " 'k',\n",
       " 'keep',\n",
       " 'keeps',\n",
       " 'kept',\n",
       " 'know',\n",
       " 'knows',\n",
       " 'known',\n",
       " 'l',\n",
       " 'last',\n",
       " 'lately',\n",
       " 'later',\n",
       " 'latter',\n",
       " 'latterly',\n",
       " 'least',\n",
       " 'less',\n",
       " 'lest',\n",
       " 'let',\n",
       " 'lets',\n",
       " 'like',\n",
       " 'liked',\n",
       " 'likely',\n",
       " 'little',\n",
       " 'look',\n",
       " 'looking',\n",
       " 'looks',\n",
       " 'ltd',\n",
       " 'm',\n",
       " 'mainly',\n",
       " 'many',\n",
       " 'may',\n",
       " 'maybe',\n",
       " 'me',\n",
       " 'mean',\n",
       " 'meanwhile',\n",
       " 'merely',\n",
       " 'might',\n",
       " 'more',\n",
       " 'moreover',\n",
       " 'most',\n",
       " 'mostly',\n",
       " 'much',\n",
       " 'must',\n",
       " 'my',\n",
       " 'myself',\n",
       " 'n',\n",
       " 'name',\n",
       " 'namely',\n",
       " 'nd',\n",
       " 'near',\n",
       " 'nearly',\n",
       " 'necessary',\n",
       " 'need',\n",
       " 'needs',\n",
       " 'neither',\n",
       " 'never',\n",
       " 'nevertheless',\n",
       " 'new',\n",
       " 'next',\n",
       " 'nine',\n",
       " 'no',\n",
       " 'nobody',\n",
       " 'non',\n",
       " 'none',\n",
       " 'noone',\n",
       " 'nor',\n",
       " 'normally',\n",
       " 'not',\n",
       " 'nothing',\n",
       " 'novel',\n",
       " 'now',\n",
       " 'nowhere',\n",
       " 'o',\n",
       " 'obviously',\n",
       " 'of',\n",
       " 'off',\n",
       " 'often',\n",
       " 'oh',\n",
       " 'ok',\n",
       " 'okay',\n",
       " 'old',\n",
       " 'on',\n",
       " 'once',\n",
       " 'one',\n",
       " 'ones',\n",
       " 'only',\n",
       " 'onto',\n",
       " 'or',\n",
       " 'other',\n",
       " 'others',\n",
       " 'otherwise',\n",
       " 'ought',\n",
       " 'our',\n",
       " 'ours',\n",
       " 'ourselves',\n",
       " 'out',\n",
       " 'outside',\n",
       " 'over',\n",
       " 'overall',\n",
       " 'own',\n",
       " 'p',\n",
       " 'particular',\n",
       " 'particularly',\n",
       " 'per',\n",
       " 'perhaps',\n",
       " 'placed',\n",
       " 'please',\n",
       " 'plus',\n",
       " 'possible',\n",
       " 'presumably',\n",
       " 'probably',\n",
       " 'provides',\n",
       " 'q',\n",
       " 'que',\n",
       " 'quite',\n",
       " 'qv',\n",
       " 'r',\n",
       " 'rather',\n",
       " 'rd',\n",
       " 're',\n",
       " 'really',\n",
       " 'reasonably',\n",
       " 'regarding',\n",
       " 'regardless',\n",
       " 'regards',\n",
       " 'relatively',\n",
       " 'respectively',\n",
       " 'right',\n",
       " 's',\n",
       " 'said',\n",
       " 'same',\n",
       " 'saw',\n",
       " 'say',\n",
       " 'saying',\n",
       " 'says',\n",
       " 'second',\n",
       " 'secondly',\n",
       " 'see',\n",
       " 'seeing',\n",
       " 'seem',\n",
       " 'seemed',\n",
       " 'seeming',\n",
       " 'seems',\n",
       " 'seen',\n",
       " 'self',\n",
       " 'selves',\n",
       " 'sensible',\n",
       " 'sent',\n",
       " 'serious',\n",
       " 'seriously',\n",
       " 'seven',\n",
       " 'several',\n",
       " 'shall',\n",
       " 'she',\n",
       " 'should',\n",
       " 'shouldnt',\n",
       " 'since',\n",
       " 'six',\n",
       " 'so',\n",
       " 'some',\n",
       " 'somebody',\n",
       " 'somehow',\n",
       " 'someone',\n",
       " 'something',\n",
       " 'sometime',\n",
       " 'sometimes',\n",
       " 'somewhat',\n",
       " 'somewhere',\n",
       " 'soon',\n",
       " 'sorry',\n",
       " 'specified',\n",
       " 'specify',\n",
       " 'specifying',\n",
       " 'still',\n",
       " 'sub',\n",
       " 'such',\n",
       " 'sup',\n",
       " 'sure',\n",
       " 't',\n",
       " 'ts',\n",
       " 'take',\n",
       " 'taken',\n",
       " 'tell',\n",
       " 'tends',\n",
       " 'th',\n",
       " 'than',\n",
       " 'thank',\n",
       " 'thanks',\n",
       " 'thanx',\n",
       " 'that',\n",
       " 'thats',\n",
       " 'thats',\n",
       " 'the',\n",
       " 'their',\n",
       " 'theirs',\n",
       " 'them',\n",
       " 'themselves',\n",
       " 'then',\n",
       " 'thence',\n",
       " 'there',\n",
       " 'theres',\n",
       " 'thereafter',\n",
       " 'thereby',\n",
       " 'therefore',\n",
       " 'therein',\n",
       " 'theres',\n",
       " 'thereupon',\n",
       " 'these',\n",
       " 'they',\n",
       " 'theyd',\n",
       " 'theyll',\n",
       " 'theyre',\n",
       " 'theyve',\n",
       " 'think',\n",
       " 'third',\n",
       " 'this',\n",
       " 'thorough',\n",
       " 'thoroughly',\n",
       " 'those',\n",
       " 'though',\n",
       " 'three',\n",
       " 'through',\n",
       " 'throughout',\n",
       " 'thru',\n",
       " 'thus',\n",
       " 'to',\n",
       " 'together',\n",
       " 'too',\n",
       " 'took',\n",
       " 'toward',\n",
       " 'towards',\n",
       " 'tried',\n",
       " 'tries',\n",
       " 'truly',\n",
       " 'try',\n",
       " 'trying',\n",
       " 'twice',\n",
       " 'two',\n",
       " 'u',\n",
       " 'un',\n",
       " 'under',\n",
       " 'unfortunately',\n",
       " 'unless',\n",
       " 'unlikely',\n",
       " 'until',\n",
       " 'unto',\n",
       " 'up',\n",
       " 'upon',\n",
       " 'us',\n",
       " 'use',\n",
       " 'used',\n",
       " 'useful',\n",
       " 'uses',\n",
       " 'using',\n",
       " 'usually',\n",
       " 'uucp',\n",
       " 'v',\n",
       " 'value',\n",
       " 'various',\n",
       " 'very',\n",
       " 'via',\n",
       " 'viz',\n",
       " 'vs',\n",
       " 'w',\n",
       " 'want',\n",
       " 'wants',\n",
       " 'was',\n",
       " 'wasnt',\n",
       " 'way',\n",
       " 'we',\n",
       " 'wed',\n",
       " 'well',\n",
       " 'were',\n",
       " 'weve',\n",
       " 'welcome',\n",
       " 'well',\n",
       " 'went',\n",
       " 'were',\n",
       " 'werent',\n",
       " 'what',\n",
       " 'whats',\n",
       " 'whatever',\n",
       " 'when',\n",
       " 'whence',\n",
       " 'whenever',\n",
       " 'where',\n",
       " 'wheres',\n",
       " 'whereafter',\n",
       " 'whereas',\n",
       " 'whereby',\n",
       " 'wherein',\n",
       " 'whereupon',\n",
       " 'wherever',\n",
       " 'whether',\n",
       " 'which',\n",
       " 'while',\n",
       " 'whither',\n",
       " 'who',\n",
       " 'whos',\n",
       " 'whoever',\n",
       " 'whole',\n",
       " 'whom',\n",
       " 'whose',\n",
       " 'why',\n",
       " 'will',\n",
       " 'willing',\n",
       " 'wish',\n",
       " 'with',\n",
       " 'within',\n",
       " 'without',\n",
       " 'wont',\n",
       " 'wonder',\n",
       " 'would',\n",
       " 'would',\n",
       " 'wouldnt',\n",
       " 'x',\n",
       " 'y',\n",
       " 'yes',\n",
       " 'yet',\n",
       " 'you',\n",
       " 'youd',\n",
       " 'youll',\n",
       " 'youre',\n",
       " 'youve',\n",
       " 'your',\n",
       " 'yours',\n",
       " 'yourself',\n",
       " 'yourselves',\n",
       " 'z',\n",
       " 'zero']"
      ]
     },
     "execution_count": 192,
     "metadata": {},
     "output_type": "execute_result"
    }
   ],
   "source": [
    "stop_words"
   ]
  },
  {
   "cell_type": "code",
   "execution_count": 193,
   "id": "32498ff6",
   "metadata": {},
   "outputs": [],
   "source": [
    "stop_words = set(stop_words)"
   ]
  },
  {
   "cell_type": "code",
   "execution_count": 194,
   "id": "26e4447f",
   "metadata": {},
   "outputs": [],
   "source": [
    "stopword_file.close()"
   ]
  },
  {
   "cell_type": "code",
   "execution_count": 195,
   "id": "d386e186",
   "metadata": {},
   "outputs": [
    {
     "data": {
      "text/plain": [
       "14"
      ]
     },
     "execution_count": 195,
     "metadata": {},
     "output_type": "execute_result"
    }
   ],
   "source": [
    "#appending to file\n",
    "stopword_file = open(\"stopword_file.txt\", \"a\") \n",
    "stopword_file.write(\"extrastopword1\\n\")  #add \\n"
   ]
  },
  {
   "cell_type": "code",
   "execution_count": 196,
   "id": "049c8fe8",
   "metadata": {},
   "outputs": [
    {
     "data": {
      "text/plain": [
       "14"
      ]
     },
     "execution_count": 196,
     "metadata": {},
     "output_type": "execute_result"
    }
   ],
   "source": [
    "stopword_file.write(\"extrastopword2\")"
   ]
  },
  {
   "cell_type": "code",
   "execution_count": 197,
   "id": "914b3741",
   "metadata": {},
   "outputs": [],
   "source": [
    "stopword_file.close()"
   ]
  },
  {
   "cell_type": "code",
   "execution_count": null,
   "id": "6fe55949",
   "metadata": {},
   "outputs": [],
   "source": []
  }
 ],
 "metadata": {
  "kernelspec": {
   "display_name": "Python 3 (ipykernel)",
   "language": "python",
   "name": "python3"
  },
  "language_info": {
   "codemirror_mode": {
    "name": "ipython",
    "version": 3
   },
   "file_extension": ".py",
   "mimetype": "text/x-python",
   "name": "python",
   "nbconvert_exporter": "python",
   "pygments_lexer": "ipython3",
   "version": "3.8.12"
  }
 },
 "nbformat": 4,
 "nbformat_minor": 5
}
