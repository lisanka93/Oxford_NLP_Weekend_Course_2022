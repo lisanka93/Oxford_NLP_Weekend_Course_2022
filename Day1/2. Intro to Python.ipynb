{
 "cells": [
  {
   "cell_type": "markdown",
   "id": "39fd8dae",
   "metadata": {},
   "source": [
    "# Introduction to Python\n",
    "\n",
    "Disclaimer: will not cover classes or use classes during this weekend and will do everything in jupyter notebooks. We also won't cover exception-handling. This is obviously not how production-ready code should look like for an app. However a weekend is not a enough to become a Data Scientist :)\n"
   ]
  },
  {
   "cell_type": "markdown",
   "id": "6a0c7cfe",
   "metadata": {},
   "source": [
    "## Variables\n",
    "\n",
    "Variables are containers of information. Easy to control and manage the data in our program."
   ]
  },
  {
   "cell_type": "code",
   "execution_count": 7,
   "id": "0793a37e",
   "metadata": {},
   "outputs": [],
   "source": [
    "from datetime import date\n",
    "\n",
    "#creating a new variable\n",
    "\n",
    "character_name = \"John\"  #string variable\n",
    "character_age = 35       #int variable\n",
    "character_birthday = date(year=1987, month=1, day=31)   #datetime object\n",
    "character_married = False          #boolean\n",
    "character_salary_k = 40.5          #float\n",
    "pet_names = [\"Linda\", \"Mario\", \"Nemo\"]   #list of strings\n",
    "\n",
    "pet_animals = {                         #dictionary\n",
    "    \"Linda\": \"dog\",\n",
    "    \"Mario\": \"cat\",\n",
    "    \"Nemo\": \"fish\"\n",
    "}"
   ]
  },
  {
   "cell_type": "code",
   "execution_count": 2,
   "id": "a802010d",
   "metadata": {},
   "outputs": [
    {
     "data": {
      "text/plain": [
       "datetime.date(1987, 1, 31)"
      ]
     },
     "execution_count": 2,
     "metadata": {},
     "output_type": "execute_result"
    }
   ],
   "source": [
    "character_birthday"
   ]
  },
  {
   "cell_type": "code",
   "execution_count": 6,
   "id": "c310a232",
   "metadata": {},
   "outputs": [
    {
     "name": "stdout",
     "output_type": "stream",
     "text": [
      "The character's name is John and he is 35 years old.\n"
     ]
    }
   ],
   "source": [
    "print(\"The character's name is\", character_name, \"and he is\", character_age, \"years old.\")"
   ]
  },
  {
   "cell_type": "markdown",
   "id": "184fa4f3",
   "metadata": {},
   "source": [
    "The advantage to store information in variables is because now, if we want to change something, we can simply change the variable and do not have to manually search in the text"
   ]
  },
  {
   "cell_type": "markdown",
   "id": "da587de9",
   "metadata": {},
   "source": [
    "## Working with strings (will be covered in more detail in the next notebook)\n",
    "\n",
    "Strings cannot be changed (unlike lists)"
   ]
  },
  {
   "cell_type": "code",
   "execution_count": 11,
   "id": "d2b58542",
   "metadata": {},
   "outputs": [],
   "source": [
    "city_name = \"Oxford\""
   ]
  },
  {
   "cell_type": "code",
   "execution_count": 10,
   "id": "4ebc9aba",
   "metadata": {
    "collapsed": true
   },
   "outputs": [
    {
     "ename": "TypeError",
     "evalue": "'str' object does not support item assignment",
     "output_type": "error",
     "traceback": [
      "\u001b[0;31m---------------------------------------------------------------------------\u001b[0m",
      "\u001b[0;31mTypeError\u001b[0m                                 Traceback (most recent call last)",
      "\u001b[0;32m/tmp/ipykernel_246002/2993470976.py\u001b[0m in \u001b[0;36m<module>\u001b[0;34m\u001b[0m\n\u001b[0;32m----> 1\u001b[0;31m \u001b[0mtest\u001b[0m\u001b[0;34m[\u001b[0m\u001b[0;36m2\u001b[0m\u001b[0;34m]\u001b[0m \u001b[0;34m=\u001b[0m \u001b[0;34m\"i\"\u001b[0m\u001b[0;34m\u001b[0m\u001b[0;34m\u001b[0m\u001b[0m\n\u001b[0m",
      "\u001b[0;31mTypeError\u001b[0m: 'str' object does not support item assignment"
     ]
    }
   ],
   "source": [
    "city_name[2] = \"i\" #starts with 0!"
   ]
  },
  {
   "cell_type": "code",
   "execution_count": 12,
   "id": "29febdce",
   "metadata": {},
   "outputs": [],
   "source": [
    "uni = \"University\"\n"
   ]
  },
  {
   "cell_type": "code",
   "execution_count": 13,
   "id": "7c8741f9",
   "metadata": {},
   "outputs": [],
   "source": [
    "ox_uni = city_name + uni   "
   ]
  },
  {
   "cell_type": "code",
   "execution_count": 14,
   "id": "e3874498",
   "metadata": {
    "collapsed": true
   },
   "outputs": [
    {
     "data": {
      "text/plain": [
       "'OxfordUniversity'"
      ]
     },
     "execution_count": 14,
     "metadata": {},
     "output_type": "execute_result"
    }
   ],
   "source": [
    "ox_uni"
   ]
  },
  {
   "cell_type": "code",
   "execution_count": 21,
   "id": "7964d232",
   "metadata": {},
   "outputs": [],
   "source": [
    "ox_uni = \" \".join([city_name, uni])"
   ]
  },
  {
   "cell_type": "code",
   "execution_count": 22,
   "id": "46e73a0b",
   "metadata": {
    "collapsed": true
   },
   "outputs": [
    {
     "data": {
      "text/plain": [
       "'Oxford University'"
      ]
     },
     "execution_count": 22,
     "metadata": {},
     "output_type": "execute_result"
    }
   ],
   "source": [
    "ox_uni"
   ]
  },
  {
   "cell_type": "code",
   "execution_count": 23,
   "id": "903df47b",
   "metadata": {
    "collapsed": true
   },
   "outputs": [
    {
     "data": {
      "text/plain": [
       "'oxford university'"
      ]
     },
     "execution_count": 23,
     "metadata": {},
     "output_type": "execute_result"
    }
   ],
   "source": [
    "ox_uni.lower()"
   ]
  },
  {
   "cell_type": "code",
   "execution_count": 24,
   "id": "61997ee2",
   "metadata": {
    "collapsed": true
   },
   "outputs": [
    {
     "data": {
      "text/plain": [
       "'OXFORD UNIVERSITY'"
      ]
     },
     "execution_count": 24,
     "metadata": {},
     "output_type": "execute_result"
    }
   ],
   "source": [
    "ox_uni.upper()"
   ]
  },
  {
   "cell_type": "code",
   "execution_count": 25,
   "id": "72c9d9dc",
   "metadata": {
    "collapsed": true
   },
   "outputs": [
    {
     "data": {
      "text/plain": [
       "False"
      ]
     },
     "execution_count": 25,
     "metadata": {},
     "output_type": "execute_result"
    }
   ],
   "source": [
    "ox_uni.islower()"
   ]
  },
  {
   "cell_type": "code",
   "execution_count": 26,
   "id": "645cea07",
   "metadata": {
    "collapsed": true
   },
   "outputs": [
    {
     "data": {
      "text/plain": [
       "17"
      ]
     },
     "execution_count": 26,
     "metadata": {},
     "output_type": "execute_result"
    }
   ],
   "source": [
    "len(ox_uni)   "
   ]
  },
  {
   "cell_type": "code",
   "execution_count": 27,
   "id": "051eae0a",
   "metadata": {
    "collapsed": true
   },
   "outputs": [
    {
     "data": {
      "text/plain": [
       "'O'"
      ]
     },
     "execution_count": 27,
     "metadata": {},
     "output_type": "execute_result"
    }
   ],
   "source": [
    "ox_uni[0]"
   ]
  },
  {
   "cell_type": "code",
   "execution_count": 28,
   "id": "81f500a6",
   "metadata": {
    "collapsed": true
   },
   "outputs": [
    {
     "data": {
      "text/plain": [
       "'Oxford Uni'"
      ]
     },
     "execution_count": 28,
     "metadata": {},
     "output_type": "execute_result"
    }
   ],
   "source": [
    "ox_uni[0:10]   #string slicing, starting from 0, including 9 (10 excluded)"
   ]
  },
  {
   "cell_type": "code",
   "execution_count": 34,
   "id": "18205b54",
   "metadata": {
    "collapsed": true
   },
   "outputs": [
    {
     "data": {
      "text/plain": [
       "7"
      ]
     },
     "execution_count": 34,
     "metadata": {},
     "output_type": "execute_result"
    }
   ],
   "source": [
    "ox_uni.index(\"U\")  #returns index of first appearance of the queried letter"
   ]
  },
  {
   "cell_type": "code",
   "execution_count": 35,
   "id": "1dfb505d",
   "metadata": {
    "collapsed": true
   },
   "outputs": [
    {
     "data": {
      "text/plain": [
       "'Oxford Universidad'"
      ]
     },
     "execution_count": 35,
     "metadata": {},
     "output_type": "execute_result"
    }
   ],
   "source": [
    "ox_uni.replace(\"University\", \"Universidad\")"
   ]
  },
  {
   "cell_type": "code",
   "execution_count": null,
   "id": "143d4b7d",
   "metadata": {},
   "outputs": [],
   "source": []
  },
  {
   "cell_type": "markdown",
   "id": "cc612b77",
   "metadata": {},
   "source": [
    "## Numbers (very quickly)"
   ]
  },
  {
   "cell_type": "code",
   "execution_count": 36,
   "id": "49d75958",
   "metadata": {},
   "outputs": [],
   "source": [
    "# mathematical operations\n",
    "\n",
    "a = 2\n",
    "b = 3"
   ]
  },
  {
   "cell_type": "code",
   "execution_count": 37,
   "id": "827ef964",
   "metadata": {
    "collapsed": true
   },
   "outputs": [
    {
     "data": {
      "text/plain": [
       "5"
      ]
     },
     "execution_count": 37,
     "metadata": {},
     "output_type": "execute_result"
    }
   ],
   "source": [
    "a + b"
   ]
  },
  {
   "cell_type": "code",
   "execution_count": 38,
   "id": "1eeea289",
   "metadata": {
    "collapsed": true
   },
   "outputs": [
    {
     "data": {
      "text/plain": [
       "1"
      ]
     },
     "execution_count": 38,
     "metadata": {},
     "output_type": "execute_result"
    }
   ],
   "source": [
    "b - a"
   ]
  },
  {
   "cell_type": "code",
   "execution_count": 46,
   "id": "52065df2",
   "metadata": {
    "collapsed": true
   },
   "outputs": [
    {
     "data": {
      "text/plain": [
       "6"
      ]
     },
     "execution_count": 46,
     "metadata": {},
     "output_type": "execute_result"
    }
   ],
   "source": [
    "a * b"
   ]
  },
  {
   "cell_type": "code",
   "execution_count": 39,
   "id": "3a0ce3c3",
   "metadata": {
    "collapsed": true
   },
   "outputs": [
    {
     "data": {
      "text/plain": [
       "0.6666666666666666"
      ]
     },
     "execution_count": 39,
     "metadata": {},
     "output_type": "execute_result"
    }
   ],
   "source": [
    "a/b"
   ]
  },
  {
   "cell_type": "code",
   "execution_count": 50,
   "id": "8776e144",
   "metadata": {
    "collapsed": true
   },
   "outputs": [
    {
     "data": {
      "text/plain": [
       "8"
      ]
     },
     "execution_count": 50,
     "metadata": {},
     "output_type": "execute_result"
    }
   ],
   "source": [
    "a**b  #power"
   ]
  },
  {
   "cell_type": "code",
   "execution_count": 42,
   "id": "338d07eb",
   "metadata": {
    "collapsed": true
   },
   "outputs": [
    {
     "data": {
      "text/plain": [
       "1"
      ]
     },
     "execution_count": 42,
     "metadata": {},
     "output_type": "execute_result"
    }
   ],
   "source": [
    "b % a   #remainder"
   ]
  },
  {
   "cell_type": "code",
   "execution_count": 45,
   "id": "7cdba043",
   "metadata": {
    "collapsed": true
   },
   "outputs": [
    {
     "data": {
      "text/plain": [
       "'hellohellohello'"
      ]
     },
     "execution_count": 45,
     "metadata": {},
     "output_type": "execute_result"
    }
   ],
   "source": [
    "\"hello\" * 3"
   ]
  },
  {
   "cell_type": "code",
   "execution_count": 51,
   "id": "2912ff89",
   "metadata": {
    "collapsed": true
   },
   "outputs": [
    {
     "data": {
      "text/plain": [
       "5"
      ]
     },
     "execution_count": 51,
     "metadata": {},
     "output_type": "execute_result"
    }
   ],
   "source": [
    "#absolute value\n",
    "abs(-5)"
   ]
  },
  {
   "cell_type": "code",
   "execution_count": 52,
   "id": "c2239a6c",
   "metadata": {
    "collapsed": true
   },
   "outputs": [
    {
     "data": {
      "text/plain": [
       "9"
      ]
     },
     "execution_count": 52,
     "metadata": {},
     "output_type": "execute_result"
    }
   ],
   "source": [
    "#power\n",
    "pow(3,2)"
   ]
  },
  {
   "cell_type": "code",
   "execution_count": 53,
   "id": "7c16cf33",
   "metadata": {
    "collapsed": true
   },
   "outputs": [
    {
     "data": {
      "text/plain": [
       "5"
      ]
     },
     "execution_count": 53,
     "metadata": {},
     "output_type": "execute_result"
    }
   ],
   "source": [
    "max([1,2,3,4,5])  #min"
   ]
  },
  {
   "cell_type": "code",
   "execution_count": 54,
   "id": "40942dba",
   "metadata": {
    "collapsed": true
   },
   "outputs": [
    {
     "data": {
      "text/plain": [
       "4"
      ]
     },
     "execution_count": 54,
     "metadata": {},
     "output_type": "execute_result"
    }
   ],
   "source": [
    "round(3.66423)"
   ]
  },
  {
   "cell_type": "code",
   "execution_count": 58,
   "id": "1d985cf3",
   "metadata": {},
   "outputs": [],
   "source": [
    "#import math\n",
    "from math import *"
   ]
  },
  {
   "cell_type": "code",
   "execution_count": 60,
   "id": "6221d101",
   "metadata": {
    "collapsed": true
   },
   "outputs": [
    {
     "data": {
      "text/plain": [
       "2"
      ]
     },
     "execution_count": 60,
     "metadata": {},
     "output_type": "execute_result"
    }
   ],
   "source": [
    "floor(2.7)    #will throw error if code above not executed"
   ]
  },
  {
   "cell_type": "code",
   "execution_count": 61,
   "id": "2cd641a3",
   "metadata": {
    "collapsed": true
   },
   "outputs": [
    {
     "data": {
      "text/plain": [
       "3"
      ]
     },
     "execution_count": 61,
     "metadata": {},
     "output_type": "execute_result"
    }
   ],
   "source": [
    "ceil(2.7)"
   ]
  },
  {
   "cell_type": "code",
   "execution_count": 62,
   "id": "2dd0dd31",
   "metadata": {
    "collapsed": true
   },
   "outputs": [
    {
     "data": {
      "text/plain": [
       "6.0"
      ]
     },
     "execution_count": 62,
     "metadata": {},
     "output_type": "execute_result"
    }
   ],
   "source": [
    "sqrt(36)"
   ]
  },
  {
   "cell_type": "markdown",
   "id": "a2cbd20a",
   "metadata": {},
   "source": [
    "#### check out documentation https://docs.python.org/3/library/math.html"
   ]
  },
  {
   "cell_type": "markdown",
   "id": "4364aab8",
   "metadata": {},
   "source": [
    "## Lists"
   ]
  },
  {
   "cell_type": "code",
   "execution_count": 70,
   "id": "4760adba",
   "metadata": {},
   "outputs": [],
   "source": [
    "friends = [\"Ben\", \"Kevin\", \"Anna\", \"Maria\", \"Oscar\"]\n",
    "ages = [29, 30, 27, 28, 30]"
   ]
  },
  {
   "cell_type": "code",
   "execution_count": 67,
   "id": "f981e82a",
   "metadata": {
    "collapsed": true
   },
   "outputs": [
    {
     "data": {
      "text/plain": [
       "'Ben'"
      ]
     },
     "execution_count": 67,
     "metadata": {},
     "output_type": "execute_result"
    }
   ],
   "source": [
    "friends[0] #dont forget, we start indexing at 0"
   ]
  },
  {
   "cell_type": "code",
   "execution_count": 69,
   "id": "82d674d1",
   "metadata": {
    "collapsed": true
   },
   "outputs": [
    {
     "data": {
      "text/plain": [
       "['Anna', 'Maria']"
      ]
     },
     "execution_count": 69,
     "metadata": {},
     "output_type": "execute_result"
    }
   ],
   "source": [
    "friends[2:]"
   ]
  },
  {
   "cell_type": "code",
   "execution_count": 71,
   "id": "01449d5a",
   "metadata": {},
   "outputs": [],
   "source": [
    "friends[1] = \"Mike\""
   ]
  },
  {
   "cell_type": "code",
   "execution_count": 72,
   "id": "27baaf6e",
   "metadata": {
    "collapsed": true
   },
   "outputs": [
    {
     "data": {
      "text/plain": [
       "['Ben', 'Mike', 'Anna', 'Maria', 'Oscar']"
      ]
     },
     "execution_count": 72,
     "metadata": {},
     "output_type": "execute_result"
    }
   ],
   "source": [
    "friends"
   ]
  },
  {
   "cell_type": "markdown",
   "id": "bfa90ca4",
   "metadata": {},
   "source": [
    "### List functions"
   ]
  },
  {
   "cell_type": "code",
   "execution_count": 73,
   "id": "e00bbaeb",
   "metadata": {},
   "outputs": [],
   "source": [
    "#append\n",
    "friends.append(\"Nina\")\n",
    "ages.append(31)"
   ]
  },
  {
   "cell_type": "code",
   "execution_count": 74,
   "id": "04900e33",
   "metadata": {},
   "outputs": [],
   "source": [
    "#insert\n",
    "friends.insert(1,\"Alex\")\n",
    "ages.insert(1, 32)"
   ]
  },
  {
   "cell_type": "code",
   "execution_count": 75,
   "id": "7cb396ec",
   "metadata": {
    "collapsed": true
   },
   "outputs": [
    {
     "data": {
      "text/plain": [
       "['Ben', 'Alex', 'Mike', 'Anna', 'Maria', 'Oscar', 'Nina']"
      ]
     },
     "execution_count": 75,
     "metadata": {},
     "output_type": "execute_result"
    }
   ],
   "source": [
    "friends"
   ]
  },
  {
   "cell_type": "code",
   "execution_count": 76,
   "id": "54e4001c",
   "metadata": {},
   "outputs": [],
   "source": [
    "#remove\n",
    "friends.remove(\"Ben\")\n",
    "ages.remove(29)    #note: only removes first appearance!"
   ]
  },
  {
   "cell_type": "code",
   "execution_count": 77,
   "id": "04999bf0",
   "metadata": {
    "collapsed": true
   },
   "outputs": [
    {
     "data": {
      "text/plain": [
       "['Alex', 'Mike', 'Anna', 'Maria', 'Oscar', 'Nina']"
      ]
     },
     "execution_count": 77,
     "metadata": {},
     "output_type": "execute_result"
    }
   ],
   "source": [
    "friends"
   ]
  },
  {
   "cell_type": "code",
   "execution_count": 80,
   "id": "ae7e5d17",
   "metadata": {
    "collapsed": true
   },
   "outputs": [
    {
     "data": {
      "text/plain": [
       "2"
      ]
     },
     "execution_count": 80,
     "metadata": {},
     "output_type": "execute_result"
    }
   ],
   "source": [
    "#same as for strings\n",
    "friends.index(\"Anna\")\n"
   ]
  },
  {
   "cell_type": "code",
   "execution_count": 81,
   "id": "241d6308",
   "metadata": {
    "collapsed": true
   },
   "outputs": [
    {
     "data": {
      "text/plain": [
       "1"
      ]
     },
     "execution_count": 81,
     "metadata": {},
     "output_type": "execute_result"
    }
   ],
   "source": [
    "friends.count(\"Mike\")"
   ]
  },
  {
   "cell_type": "code",
   "execution_count": 82,
   "id": "5450169f",
   "metadata": {},
   "outputs": [],
   "source": [
    "friends.sort()"
   ]
  },
  {
   "cell_type": "code",
   "execution_count": 83,
   "id": "268a8fd4",
   "metadata": {
    "collapsed": true
   },
   "outputs": [
    {
     "data": {
      "text/plain": [
       "['Alex', 'Anna', 'Maria', 'Mike', 'Nina', 'Oscar']"
      ]
     },
     "execution_count": 83,
     "metadata": {},
     "output_type": "execute_result"
    }
   ],
   "source": [
    "friends"
   ]
  },
  {
   "cell_type": "code",
   "execution_count": 84,
   "id": "9564c60b",
   "metadata": {},
   "outputs": [],
   "source": [
    "friends.reverse()"
   ]
  },
  {
   "cell_type": "code",
   "execution_count": 85,
   "id": "51e11918",
   "metadata": {
    "collapsed": true
   },
   "outputs": [
    {
     "data": {
      "text/plain": [
       "['Oscar', 'Nina', 'Mike', 'Maria', 'Anna', 'Alex']"
      ]
     },
     "execution_count": 85,
     "metadata": {},
     "output_type": "execute_result"
    }
   ],
   "source": [
    "friends"
   ]
  },
  {
   "cell_type": "code",
   "execution_count": 86,
   "id": "35e349b5",
   "metadata": {},
   "outputs": [],
   "source": [
    "#caution!\n",
    "\n",
    "friends_2 = friends"
   ]
  },
  {
   "cell_type": "code",
   "execution_count": 88,
   "id": "31ebc0cb",
   "metadata": {
    "collapsed": true
   },
   "outputs": [
    {
     "name": "stdout",
     "output_type": "stream",
     "text": [
      "['Oscar', 'Nina', 'Mike', 'Maria', 'Anna', 'Alex']\n",
      "['Oscar', 'Nina', 'Mike', 'Maria', 'Anna', 'Alex']\n"
     ]
    }
   ],
   "source": [
    "print(friends_2)\n",
    "print(friends)"
   ]
  },
  {
   "cell_type": "code",
   "execution_count": 90,
   "id": "d6108c65",
   "metadata": {},
   "outputs": [],
   "source": [
    "friends_2[0] = \"Bob\""
   ]
  },
  {
   "cell_type": "code",
   "execution_count": 91,
   "id": "2a78a59b",
   "metadata": {
    "collapsed": true
   },
   "outputs": [
    {
     "data": {
      "text/plain": [
       "['Bob', 'Nina', 'Mike', 'Maria', 'Anna', 'Alex']"
      ]
     },
     "execution_count": 91,
     "metadata": {},
     "output_type": "execute_result"
    }
   ],
   "source": [
    "friends_2"
   ]
  },
  {
   "cell_type": "code",
   "execution_count": 92,
   "id": "eb0228dd",
   "metadata": {
    "collapsed": true
   },
   "outputs": [
    {
     "data": {
      "text/plain": [
       "['Bob', 'Nina', 'Mike', 'Maria', 'Anna', 'Alex']"
      ]
     },
     "execution_count": 92,
     "metadata": {},
     "output_type": "execute_result"
    }
   ],
   "source": [
    "friends"
   ]
  },
  {
   "cell_type": "code",
   "execution_count": 96,
   "id": "23d39e54",
   "metadata": {},
   "outputs": [],
   "source": [
    "friends_2 = friends.copy()"
   ]
  },
  {
   "cell_type": "code",
   "execution_count": 97,
   "id": "99219fe0",
   "metadata": {},
   "outputs": [],
   "source": [
    "friends_2[0] = \"Oscar\""
   ]
  },
  {
   "cell_type": "code",
   "execution_count": 98,
   "id": "629a2031",
   "metadata": {
    "collapsed": true
   },
   "outputs": [
    {
     "data": {
      "text/plain": [
       "['Oscar', 'Nina', 'Mike', 'Maria', 'Anna', 'Alex']"
      ]
     },
     "execution_count": 98,
     "metadata": {},
     "output_type": "execute_result"
    }
   ],
   "source": [
    "friends_2"
   ]
  },
  {
   "cell_type": "code",
   "execution_count": 99,
   "id": "e3aea0c1",
   "metadata": {
    "collapsed": true
   },
   "outputs": [
    {
     "data": {
      "text/plain": [
       "['Bob', 'Nina', 'Mike', 'Maria', 'Anna', 'Alex']"
      ]
     },
     "execution_count": 99,
     "metadata": {},
     "output_type": "execute_result"
    }
   ],
   "source": [
    "friends"
   ]
  },
  {
   "cell_type": "markdown",
   "id": "e3f6c432",
   "metadata": {},
   "source": [
    "## Tuples\n",
    "immutable - cannot be changed"
   ]
  },
  {
   "cell_type": "code",
   "execution_count": 101,
   "id": "e09e8dfa",
   "metadata": {},
   "outputs": [],
   "source": [
    "tuples_name_age = list(zip(friends, ages))"
   ]
  },
  {
   "cell_type": "code",
   "execution_count": 102,
   "id": "139875e1",
   "metadata": {
    "collapsed": true
   },
   "outputs": [
    {
     "data": {
      "text/plain": [
       "[('Bob', 32),\n",
       " ('Nina', 30),\n",
       " ('Mike', 27),\n",
       " ('Maria', 28),\n",
       " ('Anna', 30),\n",
       " ('Alex', 31)]"
      ]
     },
     "execution_count": 102,
     "metadata": {},
     "output_type": "execute_result"
    }
   ],
   "source": [
    "tuples_name_age"
   ]
  },
  {
   "cell_type": "code",
   "execution_count": 103,
   "id": "2bc04a79",
   "metadata": {
    "collapsed": true
   },
   "outputs": [
    {
     "data": {
      "text/plain": [
       "('Bob', 32)"
      ]
     },
     "execution_count": 103,
     "metadata": {},
     "output_type": "execute_result"
    }
   ],
   "source": [
    "tuples_name_age[0]"
   ]
  },
  {
   "cell_type": "markdown",
   "id": "da21be57",
   "metadata": {},
   "source": [
    "## Functions"
   ]
  },
  {
   "cell_type": "code",
   "execution_count": 104,
   "id": "502a46f5",
   "metadata": {},
   "outputs": [],
   "source": [
    "def say_hi(): \n",
    "    print(\"Hello user\")              #code needs to be indented  - otherwise not in function"
   ]
  },
  {
   "cell_type": "code",
   "execution_count": 105,
   "id": "5c39e2ec",
   "metadata": {
    "collapsed": true
   },
   "outputs": [
    {
     "name": "stdout",
     "output_type": "stream",
     "text": [
      "Hello user\n"
     ]
    }
   ],
   "source": [
    "say_hi()   #need to call it - need to specify you want to execute it"
   ]
  },
  {
   "cell_type": "code",
   "execution_count": 116,
   "id": "f90174e3",
   "metadata": {},
   "outputs": [],
   "source": [
    "# with parameters\n",
    "\n",
    "def say_hi_name(name):   #parameter is a piece of information that we give to the function\n",
    "    print(\"Hello\", name)"
   ]
  },
  {
   "cell_type": "code",
   "execution_count": 107,
   "id": "3830139f",
   "metadata": {
    "collapsed": true
   },
   "outputs": [
    {
     "name": "stdout",
     "output_type": "stream",
     "text": [
      "Hello Lisa\n"
     ]
    }
   ],
   "source": [
    "say_hi_name(\"Lisa\")"
   ]
  },
  {
   "cell_type": "code",
   "execution_count": 111,
   "id": "88964ac6",
   "metadata": {},
   "outputs": [],
   "source": [
    "def say_hi_fl(f_name, l_name):   #parameter is a piece of information that we give to the function\n",
    "    print(\"Hello\", f_name, l_name)"
   ]
  },
  {
   "cell_type": "code",
   "execution_count": 112,
   "id": "33e16b33",
   "metadata": {
    "collapsed": true
   },
   "outputs": [
    {
     "name": "stdout",
     "output_type": "stream",
     "text": [
      "Hello Lisa Chalaguine\n"
     ]
    }
   ],
   "source": [
    "say_hi_fl(\"Lisa\", \"Chalaguine\")"
   ]
  },
  {
   "cell_type": "code",
   "execution_count": 117,
   "id": "e6829045",
   "metadata": {
    "collapsed": true
   },
   "outputs": [
    {
     "name": "stdout",
     "output_type": "stream",
     "text": [
      "Hello user\n"
     ]
    }
   ],
   "source": [
    "# return statement\n",
    "\n",
    "b = say_hi()"
   ]
  },
  {
   "cell_type": "code",
   "execution_count": 118,
   "id": "000a7ed1",
   "metadata": {},
   "outputs": [],
   "source": [
    "b"
   ]
  },
  {
   "cell_type": "code",
   "execution_count": 120,
   "id": "2d64ee60",
   "metadata": {},
   "outputs": [],
   "source": [
    "def cube(num):\n",
    "    result = num**3\n",
    "    return result"
   ]
  },
  {
   "cell_type": "code",
   "execution_count": 122,
   "id": "88f1270d",
   "metadata": {},
   "outputs": [],
   "source": [
    "b = cube(3)"
   ]
  },
  {
   "cell_type": "code",
   "execution_count": 123,
   "id": "356002d6",
   "metadata": {
    "collapsed": true
   },
   "outputs": [
    {
     "data": {
      "text/plain": [
       "27"
      ]
     },
     "execution_count": 123,
     "metadata": {},
     "output_type": "execute_result"
    }
   ],
   "source": [
    "b"
   ]
  },
  {
   "cell_type": "markdown",
   "id": "3189900b",
   "metadata": {},
   "source": [
    "## If-statements and comparisons"
   ]
  },
  {
   "cell_type": "code",
   "execution_count": 2,
   "id": "d8c6e74a",
   "metadata": {},
   "outputs": [],
   "source": [
    "text = \"This is some dummy text\"\n",
    "text_2 = \"This is some longer dummy text which represents a longer sentence and contains more information\"\n",
    "texts_of_interest = []  #empty list\n",
    "\n",
    "#let's say we are not interested in very short texts\n",
    "\n",
    "if len(text_2) > 50:\n",
    "    texts_of_interest.append(text_2)"
   ]
  },
  {
   "cell_type": "code",
   "execution_count": 3,
   "id": "edad3b2d",
   "metadata": {
    "collapsed": true
   },
   "outputs": [
    {
     "data": {
      "text/plain": [
       "['This is some longer dummy text which represents a longer sentence and contains more information']"
      ]
     },
     "execution_count": 3,
     "metadata": {},
     "output_type": "execute_result"
    }
   ],
   "source": [
    "texts_of_interest"
   ]
  },
  {
   "cell_type": "code",
   "execution_count": 4,
   "id": "922ca7fc",
   "metadata": {
    "collapsed": true
   },
   "outputs": [
    {
     "name": "stdout",
     "output_type": "stream",
     "text": [
      "True\n"
     ]
    }
   ],
   "source": [
    "#checking if specific words are present\n",
    "if \"dummy\" in text:\n",
    "    print(True)\n",
    "else:\n",
    "    print(False)"
   ]
  },
  {
   "cell_type": "code",
   "execution_count": 5,
   "id": "eb186a96",
   "metadata": {
    "collapsed": true
   },
   "outputs": [
    {
     "name": "stdout",
     "output_type": "stream",
     "text": [
      "True\n"
     ]
    }
   ],
   "source": [
    "#checking if specific words are present\n",
    "if \"dummy\" in text or \"info\" in text:\n",
    "    print(True)\n",
    "else:\n",
    "    print(False)"
   ]
  },
  {
   "cell_type": "code",
   "execution_count": 6,
   "id": "76646be5",
   "metadata": {
    "collapsed": true
   },
   "outputs": [
    {
     "name": "stdout",
     "output_type": "stream",
     "text": [
      "False\n"
     ]
    }
   ],
   "source": [
    "#checking if specific words are present\n",
    "if \"dummy\" in text and \"info\" in text:\n",
    "    print(True)\n",
    "else:\n",
    "    print(False)"
   ]
  },
  {
   "cell_type": "code",
   "execution_count": 8,
   "id": "b873dc9f",
   "metadata": {
    "collapsed": true
   },
   "outputs": [
    {
     "name": "stdout",
     "output_type": "stream",
     "text": [
      "True\n"
     ]
    }
   ],
   "source": [
    "#nested if statement:\n",
    "\n",
    "if len(text_2) > 50:\n",
    "    if \"dummy\" in text or \"info\" in text:\n",
    "        print(True)\n",
    "    else:\n",
    "        print(False)"
   ]
  },
  {
   "cell_type": "code",
   "execution_count": 9,
   "id": "479d6cd1",
   "metadata": {
    "collapsed": true
   },
   "outputs": [
    {
     "name": "stdout",
     "output_type": "stream",
     "text": [
      "medium text\n"
     ]
    }
   ],
   "source": [
    "if len(text_2) < 50:\n",
    "    print(\"short text\")\n",
    "elif len(text_2) > 50 and len(text_2) < 100:\n",
    "    print(\"medium text\")\n",
    "else:\n",
    "    print(\"long text\")"
   ]
  },
  {
   "cell_type": "code",
   "execution_count": 115,
   "id": "79d07af4",
   "metadata": {
    "collapsed": true
   },
   "outputs": [
    {
     "data": {
      "text/plain": [
       "True"
      ]
     },
     "execution_count": 115,
     "metadata": {},
     "output_type": "execute_result"
    }
   ],
   "source": [
    "#more comparisons\n",
    "\n",
    "# is equal to\n",
    "2 == 2"
   ]
  },
  {
   "cell_type": "code",
   "execution_count": 116,
   "id": "462b729a",
   "metadata": {
    "collapsed": true
   },
   "outputs": [
    {
     "data": {
      "text/plain": [
       "True"
      ]
     },
     "execution_count": 116,
     "metadata": {},
     "output_type": "execute_result"
    }
   ],
   "source": [
    "#is not equal to\n",
    "2 != 3"
   ]
  },
  {
   "cell_type": "code",
   "execution_count": 117,
   "id": "36bd0cc5",
   "metadata": {
    "collapsed": true
   },
   "outputs": [
    {
     "data": {
      "text/plain": [
       "True"
      ]
     },
     "execution_count": 117,
     "metadata": {},
     "output_type": "execute_result"
    }
   ],
   "source": [
    "#equal or larger than\n",
    "3 >= 3"
   ]
  },
  {
   "cell_type": "code",
   "execution_count": 118,
   "id": "df9abbe7",
   "metadata": {
    "collapsed": true
   },
   "outputs": [
    {
     "data": {
      "text/plain": [
       "True"
      ]
     },
     "execution_count": 118,
     "metadata": {},
     "output_type": "execute_result"
    }
   ],
   "source": [
    "#equal or smaller than\n",
    "2 <= 3"
   ]
  },
  {
   "cell_type": "code",
   "execution_count": null,
   "id": "11a2be00",
   "metadata": {},
   "outputs": [],
   "source": []
  },
  {
   "cell_type": "markdown",
   "id": "1d0180d6",
   "metadata": {},
   "source": [
    "## For-loops\n"
   ]
  },
  {
   "cell_type": "code",
   "execution_count": 75,
   "id": "8b401a79",
   "metadata": {
    "collapsed": true
   },
   "outputs": [
    {
     "name": "stdout",
     "output_type": "stream",
     "text": [
      "U\n",
      "N\n",
      "I\n",
      "V\n",
      "E\n",
      "R\n",
      "S\n",
      "I\n",
      "T\n",
      "Y\n"
     ]
    }
   ],
   "source": [
    "for letter in \"University\":\n",
    "    print(letter.upper())"
   ]
  },
  {
   "cell_type": "code",
   "execution_count": 77,
   "id": "b2301e4a",
   "metadata": {
    "collapsed": true
   },
   "outputs": [
    {
     "name": "stdout",
     "output_type": "stream",
     "text": [
      "*\n",
      "n\n",
      "*\n",
      "v\n",
      "*\n",
      "r\n",
      "s\n",
      "*\n",
      "t\n",
      "y\n"
     ]
    }
   ],
   "source": [
    "#combining different types of loops\n",
    "vowels = [\"a\", \"e\", \"i\", \"o\", \"u\"]\n",
    "\n",
    "for letter in \"University\".lower():\n",
    "    if letter not in vowels:\n",
    "        print(letter)\n",
    "    else:\n",
    "        print(\"*\")\n",
    "    "
   ]
  },
  {
   "cell_type": "code",
   "execution_count": null,
   "id": "ac1c129a",
   "metadata": {},
   "outputs": [],
   "source": []
  },
  {
   "cell_type": "markdown",
   "id": "e83ee43a",
   "metadata": {},
   "source": [
    "## Dictionaries & sets\n",
    "\n",
    "hash-maps are much faster to search than lists so often better to store certain information in dictionaries rather than lists"
   ]
  },
  {
   "cell_type": "code",
   "execution_count": 10,
   "id": "9ca8ad27",
   "metadata": {},
   "outputs": [],
   "source": [
    "month_conversion = {\n",
    "    \"Jan\": \"January\",\n",
    "    \"Feb\": \"February\",\n",
    "    \"Mar\": \"March\",\n",
    "    #etc\n",
    "    \n",
    "}"
   ]
  },
  {
   "cell_type": "code",
   "execution_count": 11,
   "id": "93bf14d6",
   "metadata": {
    "collapsed": true
   },
   "outputs": [
    {
     "data": {
      "text/plain": [
       "'January'"
      ]
     },
     "execution_count": 11,
     "metadata": {},
     "output_type": "execute_result"
    }
   ],
   "source": [
    "#accessing values of keye in dictionary\n",
    "month_conversion[\"Jan\"]"
   ]
  },
  {
   "cell_type": "code",
   "execution_count": 12,
   "id": "4b4194c3",
   "metadata": {
    "collapsed": true
   },
   "outputs": [
    {
     "ename": "KeyError",
     "evalue": "'Jun'",
     "output_type": "error",
     "traceback": [
      "\u001b[0;31m---------------------------------------------------------------------------\u001b[0m",
      "\u001b[0;31mKeyError\u001b[0m                                  Traceback (most recent call last)",
      "\u001b[0;32m/tmp/ipykernel_79048/1884506355.py\u001b[0m in \u001b[0;36m<module>\u001b[0;34m\u001b[0m\n\u001b[0;32m----> 1\u001b[0;31m \u001b[0mmonth_conversion\u001b[0m\u001b[0;34m[\u001b[0m\u001b[0;34m\"Jun\"\u001b[0m\u001b[0;34m]\u001b[0m\u001b[0;34m\u001b[0m\u001b[0;34m\u001b[0m\u001b[0m\n\u001b[0m",
      "\u001b[0;31mKeyError\u001b[0m: 'Jun'"
     ]
    }
   ],
   "source": [
    "month_conversion[\"Jun\"]  #but this gives an error"
   ]
  },
  {
   "cell_type": "code",
   "execution_count": 13,
   "id": "d5ebbddb",
   "metadata": {},
   "outputs": [],
   "source": [
    "#better to use get()\n",
    "month_conversion.get(\"Jun\")  #no error"
   ]
  },
  {
   "cell_type": "code",
   "execution_count": 45,
   "id": "1f882c31",
   "metadata": {},
   "outputs": [],
   "source": [
    "from nltk.corpus import stopwords"
   ]
  },
  {
   "cell_type": "code",
   "execution_count": 56,
   "id": "c271c60d",
   "metadata": {},
   "outputs": [],
   "source": [
    "stop_words_list = list(stopwords.words('english'))\n",
    "stop_words_dict = dict.fromkeys(stop_words_list)"
   ]
  },
  {
   "cell_type": "code",
   "execution_count": 58,
   "id": "1529381d",
   "metadata": {
    "collapsed": true
   },
   "outputs": [
    {
     "data": {
      "text/plain": [
       "['i',\n",
       " 'me',\n",
       " 'my',\n",
       " 'myself',\n",
       " 'we',\n",
       " 'our',\n",
       " 'ours',\n",
       " 'ourselves',\n",
       " 'you',\n",
       " \"you're\",\n",
       " \"you've\",\n",
       " \"you'll\",\n",
       " \"you'd\",\n",
       " 'your',\n",
       " 'yours',\n",
       " 'yourself',\n",
       " 'yourselves',\n",
       " 'he',\n",
       " 'him',\n",
       " 'his',\n",
       " 'himself',\n",
       " 'she',\n",
       " \"she's\",\n",
       " 'her',\n",
       " 'hers',\n",
       " 'herself',\n",
       " 'it',\n",
       " \"it's\",\n",
       " 'its',\n",
       " 'itself',\n",
       " 'they',\n",
       " 'them',\n",
       " 'their',\n",
       " 'theirs',\n",
       " 'themselves',\n",
       " 'what',\n",
       " 'which',\n",
       " 'who',\n",
       " 'whom',\n",
       " 'this',\n",
       " 'that',\n",
       " \"that'll\",\n",
       " 'these',\n",
       " 'those',\n",
       " 'am',\n",
       " 'is',\n",
       " 'are',\n",
       " 'was',\n",
       " 'were',\n",
       " 'be',\n",
       " 'been',\n",
       " 'being',\n",
       " 'have',\n",
       " 'has',\n",
       " 'had',\n",
       " 'having',\n",
       " 'do',\n",
       " 'does',\n",
       " 'did',\n",
       " 'doing',\n",
       " 'a',\n",
       " 'an',\n",
       " 'the',\n",
       " 'and',\n",
       " 'but',\n",
       " 'if',\n",
       " 'or',\n",
       " 'because',\n",
       " 'as',\n",
       " 'until',\n",
       " 'while',\n",
       " 'of',\n",
       " 'at',\n",
       " 'by',\n",
       " 'for',\n",
       " 'with',\n",
       " 'about',\n",
       " 'against',\n",
       " 'between',\n",
       " 'into',\n",
       " 'through',\n",
       " 'during',\n",
       " 'before',\n",
       " 'after',\n",
       " 'above',\n",
       " 'below',\n",
       " 'to',\n",
       " 'from',\n",
       " 'up',\n",
       " 'down',\n",
       " 'in',\n",
       " 'out',\n",
       " 'on',\n",
       " 'off',\n",
       " 'over',\n",
       " 'under',\n",
       " 'again',\n",
       " 'further',\n",
       " 'then',\n",
       " 'once',\n",
       " 'here',\n",
       " 'there',\n",
       " 'when',\n",
       " 'where',\n",
       " 'why',\n",
       " 'how',\n",
       " 'all',\n",
       " 'any',\n",
       " 'both',\n",
       " 'each',\n",
       " 'few',\n",
       " 'more',\n",
       " 'most',\n",
       " 'other',\n",
       " 'some',\n",
       " 'such',\n",
       " 'no',\n",
       " 'nor',\n",
       " 'not',\n",
       " 'only',\n",
       " 'own',\n",
       " 'same',\n",
       " 'so',\n",
       " 'than',\n",
       " 'too',\n",
       " 'very',\n",
       " 's',\n",
       " 't',\n",
       " 'can',\n",
       " 'will',\n",
       " 'just',\n",
       " 'don',\n",
       " \"don't\",\n",
       " 'should',\n",
       " \"should've\",\n",
       " 'now',\n",
       " 'd',\n",
       " 'll',\n",
       " 'm',\n",
       " 'o',\n",
       " 're',\n",
       " 've',\n",
       " 'y',\n",
       " 'ain',\n",
       " 'aren',\n",
       " \"aren't\",\n",
       " 'couldn',\n",
       " \"couldn't\",\n",
       " 'didn',\n",
       " \"didn't\",\n",
       " 'doesn',\n",
       " \"doesn't\",\n",
       " 'hadn',\n",
       " \"hadn't\",\n",
       " 'hasn',\n",
       " \"hasn't\",\n",
       " 'haven',\n",
       " \"haven't\",\n",
       " 'isn',\n",
       " \"isn't\",\n",
       " 'ma',\n",
       " 'mightn',\n",
       " \"mightn't\",\n",
       " 'mustn',\n",
       " \"mustn't\",\n",
       " 'needn',\n",
       " \"needn't\",\n",
       " 'shan',\n",
       " \"shan't\",\n",
       " 'shouldn',\n",
       " \"shouldn't\",\n",
       " 'wasn',\n",
       " \"wasn't\",\n",
       " 'weren',\n",
       " \"weren't\",\n",
       " 'won',\n",
       " \"won't\",\n",
       " 'wouldn',\n",
       " \"wouldn't\"]"
      ]
     },
     "execution_count": 58,
     "metadata": {},
     "output_type": "execute_result"
    }
   ],
   "source": [
    "stop_words_list"
   ]
  },
  {
   "cell_type": "code",
   "execution_count": 57,
   "id": "9c39f71b",
   "metadata": {
    "collapsed": true
   },
   "outputs": [
    {
     "data": {
      "text/plain": [
       "{'i': None,\n",
       " 'me': None,\n",
       " 'my': None,\n",
       " 'myself': None,\n",
       " 'we': None,\n",
       " 'our': None,\n",
       " 'ours': None,\n",
       " 'ourselves': None,\n",
       " 'you': None,\n",
       " \"you're\": None,\n",
       " \"you've\": None,\n",
       " \"you'll\": None,\n",
       " \"you'd\": None,\n",
       " 'your': None,\n",
       " 'yours': None,\n",
       " 'yourself': None,\n",
       " 'yourselves': None,\n",
       " 'he': None,\n",
       " 'him': None,\n",
       " 'his': None,\n",
       " 'himself': None,\n",
       " 'she': None,\n",
       " \"she's\": None,\n",
       " 'her': None,\n",
       " 'hers': None,\n",
       " 'herself': None,\n",
       " 'it': None,\n",
       " \"it's\": None,\n",
       " 'its': None,\n",
       " 'itself': None,\n",
       " 'they': None,\n",
       " 'them': None,\n",
       " 'their': None,\n",
       " 'theirs': None,\n",
       " 'themselves': None,\n",
       " 'what': None,\n",
       " 'which': None,\n",
       " 'who': None,\n",
       " 'whom': None,\n",
       " 'this': None,\n",
       " 'that': None,\n",
       " \"that'll\": None,\n",
       " 'these': None,\n",
       " 'those': None,\n",
       " 'am': None,\n",
       " 'is': None,\n",
       " 'are': None,\n",
       " 'was': None,\n",
       " 'were': None,\n",
       " 'be': None,\n",
       " 'been': None,\n",
       " 'being': None,\n",
       " 'have': None,\n",
       " 'has': None,\n",
       " 'had': None,\n",
       " 'having': None,\n",
       " 'do': None,\n",
       " 'does': None,\n",
       " 'did': None,\n",
       " 'doing': None,\n",
       " 'a': None,\n",
       " 'an': None,\n",
       " 'the': None,\n",
       " 'and': None,\n",
       " 'but': None,\n",
       " 'if': None,\n",
       " 'or': None,\n",
       " 'because': None,\n",
       " 'as': None,\n",
       " 'until': None,\n",
       " 'while': None,\n",
       " 'of': None,\n",
       " 'at': None,\n",
       " 'by': None,\n",
       " 'for': None,\n",
       " 'with': None,\n",
       " 'about': None,\n",
       " 'against': None,\n",
       " 'between': None,\n",
       " 'into': None,\n",
       " 'through': None,\n",
       " 'during': None,\n",
       " 'before': None,\n",
       " 'after': None,\n",
       " 'above': None,\n",
       " 'below': None,\n",
       " 'to': None,\n",
       " 'from': None,\n",
       " 'up': None,\n",
       " 'down': None,\n",
       " 'in': None,\n",
       " 'out': None,\n",
       " 'on': None,\n",
       " 'off': None,\n",
       " 'over': None,\n",
       " 'under': None,\n",
       " 'again': None,\n",
       " 'further': None,\n",
       " 'then': None,\n",
       " 'once': None,\n",
       " 'here': None,\n",
       " 'there': None,\n",
       " 'when': None,\n",
       " 'where': None,\n",
       " 'why': None,\n",
       " 'how': None,\n",
       " 'all': None,\n",
       " 'any': None,\n",
       " 'both': None,\n",
       " 'each': None,\n",
       " 'few': None,\n",
       " 'more': None,\n",
       " 'most': None,\n",
       " 'other': None,\n",
       " 'some': None,\n",
       " 'such': None,\n",
       " 'no': None,\n",
       " 'nor': None,\n",
       " 'not': None,\n",
       " 'only': None,\n",
       " 'own': None,\n",
       " 'same': None,\n",
       " 'so': None,\n",
       " 'than': None,\n",
       " 'too': None,\n",
       " 'very': None,\n",
       " 's': None,\n",
       " 't': None,\n",
       " 'can': None,\n",
       " 'will': None,\n",
       " 'just': None,\n",
       " 'don': None,\n",
       " \"don't\": None,\n",
       " 'should': None,\n",
       " \"should've\": None,\n",
       " 'now': None,\n",
       " 'd': None,\n",
       " 'll': None,\n",
       " 'm': None,\n",
       " 'o': None,\n",
       " 're': None,\n",
       " 've': None,\n",
       " 'y': None,\n",
       " 'ain': None,\n",
       " 'aren': None,\n",
       " \"aren't\": None,\n",
       " 'couldn': None,\n",
       " \"couldn't\": None,\n",
       " 'didn': None,\n",
       " \"didn't\": None,\n",
       " 'doesn': None,\n",
       " \"doesn't\": None,\n",
       " 'hadn': None,\n",
       " \"hadn't\": None,\n",
       " 'hasn': None,\n",
       " \"hasn't\": None,\n",
       " 'haven': None,\n",
       " \"haven't\": None,\n",
       " 'isn': None,\n",
       " \"isn't\": None,\n",
       " 'ma': None,\n",
       " 'mightn': None,\n",
       " \"mightn't\": None,\n",
       " 'mustn': None,\n",
       " \"mustn't\": None,\n",
       " 'needn': None,\n",
       " \"needn't\": None,\n",
       " 'shan': None,\n",
       " \"shan't\": None,\n",
       " 'shouldn': None,\n",
       " \"shouldn't\": None,\n",
       " 'wasn': None,\n",
       " \"wasn't\": None,\n",
       " 'weren': None,\n",
       " \"weren't\": None,\n",
       " 'won': None,\n",
       " \"won't\": None,\n",
       " 'wouldn': None,\n",
       " \"wouldn't\": None}"
      ]
     },
     "execution_count": 57,
     "metadata": {},
     "output_type": "execute_result"
    }
   ],
   "source": [
    "stop_words_dict"
   ]
  },
  {
   "cell_type": "code",
   "execution_count": 59,
   "id": "85f7ad11",
   "metadata": {},
   "outputs": [],
   "source": [
    "sentence = \"It was an important game for the NY Knicks\""
   ]
  },
  {
   "cell_type": "code",
   "execution_count": 60,
   "id": "376c7a0b",
   "metadata": {},
   "outputs": [],
   "source": [
    "import time"
   ]
  },
  {
   "cell_type": "code",
   "execution_count": 62,
   "id": "289cffac",
   "metadata": {},
   "outputs": [],
   "source": [
    "cleaned_sentence = []\n",
    "\n",
    "time1 = time.time()\n",
    "\n",
    "for word in sentence.lower().split():\n",
    "    if word not in stop_words_list:\n",
    "        cleaned_sentence.append(word)\n",
    "        \n",
    "time2 = time.time()"
   ]
  },
  {
   "cell_type": "code",
   "execution_count": 63,
   "id": "5e8f7a0e",
   "metadata": {
    "collapsed": true
   },
   "outputs": [
    {
     "data": {
      "text/plain": [
       "0.00011157989501953125"
      ]
     },
     "execution_count": 63,
     "metadata": {},
     "output_type": "execute_result"
    }
   ],
   "source": [
    "time2 - time1"
   ]
  },
  {
   "cell_type": "code",
   "execution_count": 26,
   "id": "8858954e",
   "metadata": {
    "collapsed": true
   },
   "outputs": [
    {
     "data": {
      "text/plain": [
       "['important', 'game', 'ny', 'knicks']"
      ]
     },
     "execution_count": 26,
     "metadata": {},
     "output_type": "execute_result"
    }
   ],
   "source": [
    "cleaned_sentence"
   ]
  },
  {
   "cell_type": "code",
   "execution_count": 64,
   "id": "a90a376d",
   "metadata": {},
   "outputs": [],
   "source": [
    "cleaned_sentence = []\n",
    "\n",
    "time1 = time.time()\n",
    "\n",
    "for word in sentence.lower().split():\n",
    "    if word not in stop_words_dict:\n",
    "        cleaned_sentence.append(word)\n",
    "        \n",
    "time2 = time.time()"
   ]
  },
  {
   "cell_type": "code",
   "execution_count": 74,
   "id": "420ddb2f",
   "metadata": {
    "collapsed": true
   },
   "outputs": [
    {
     "data": {
      "text/plain": [
       "5.1975250244140625e-05"
      ]
     },
     "execution_count": 74,
     "metadata": {},
     "output_type": "execute_result"
    }
   ],
   "source": [
    "time2 - time1 "
   ]
  },
  {
   "cell_type": "code",
   "execution_count": 66,
   "id": "9aba5858",
   "metadata": {
    "collapsed": true
   },
   "outputs": [
    {
     "data": {
      "text/plain": [
       "'0.000062'"
      ]
     },
     "execution_count": 66,
     "metadata": {},
     "output_type": "execute_result"
    }
   ],
   "source": [
    "format(time2 - time1, \"f\")"
   ]
  },
  {
   "cell_type": "code",
   "execution_count": null,
   "id": "618ed86f",
   "metadata": {},
   "outputs": [],
   "source": []
  },
  {
   "cell_type": "markdown",
   "id": "e894becd",
   "metadata": {},
   "source": [
    "#### but we are wasting space with the \"None\" values no? we do not need values"
   ]
  },
  {
   "cell_type": "code",
   "execution_count": 68,
   "id": "3b04c4cc",
   "metadata": {},
   "outputs": [],
   "source": [
    "stop_words_set = set(stop_words_list)"
   ]
  },
  {
   "cell_type": "code",
   "execution_count": 70,
   "id": "e28f479d",
   "metadata": {
    "collapsed": true
   },
   "outputs": [
    {
     "data": {
      "text/plain": [
       "{'a',\n",
       " 'about',\n",
       " 'above',\n",
       " 'after',\n",
       " 'again',\n",
       " 'against',\n",
       " 'ain',\n",
       " 'all',\n",
       " 'am',\n",
       " 'an',\n",
       " 'and',\n",
       " 'any',\n",
       " 'are',\n",
       " 'aren',\n",
       " \"aren't\",\n",
       " 'as',\n",
       " 'at',\n",
       " 'be',\n",
       " 'because',\n",
       " 'been',\n",
       " 'before',\n",
       " 'being',\n",
       " 'below',\n",
       " 'between',\n",
       " 'both',\n",
       " 'but',\n",
       " 'by',\n",
       " 'can',\n",
       " 'couldn',\n",
       " \"couldn't\",\n",
       " 'd',\n",
       " 'did',\n",
       " 'didn',\n",
       " \"didn't\",\n",
       " 'do',\n",
       " 'does',\n",
       " 'doesn',\n",
       " \"doesn't\",\n",
       " 'doing',\n",
       " 'don',\n",
       " \"don't\",\n",
       " 'down',\n",
       " 'during',\n",
       " 'each',\n",
       " 'few',\n",
       " 'for',\n",
       " 'from',\n",
       " 'further',\n",
       " 'had',\n",
       " 'hadn',\n",
       " \"hadn't\",\n",
       " 'has',\n",
       " 'hasn',\n",
       " \"hasn't\",\n",
       " 'have',\n",
       " 'haven',\n",
       " \"haven't\",\n",
       " 'having',\n",
       " 'he',\n",
       " 'her',\n",
       " 'here',\n",
       " 'hers',\n",
       " 'herself',\n",
       " 'him',\n",
       " 'himself',\n",
       " 'his',\n",
       " 'how',\n",
       " 'i',\n",
       " 'if',\n",
       " 'in',\n",
       " 'into',\n",
       " 'is',\n",
       " 'isn',\n",
       " \"isn't\",\n",
       " 'it',\n",
       " \"it's\",\n",
       " 'its',\n",
       " 'itself',\n",
       " 'just',\n",
       " 'll',\n",
       " 'm',\n",
       " 'ma',\n",
       " 'me',\n",
       " 'mightn',\n",
       " \"mightn't\",\n",
       " 'more',\n",
       " 'most',\n",
       " 'mustn',\n",
       " \"mustn't\",\n",
       " 'my',\n",
       " 'myself',\n",
       " 'needn',\n",
       " \"needn't\",\n",
       " 'no',\n",
       " 'nor',\n",
       " 'not',\n",
       " 'now',\n",
       " 'o',\n",
       " 'of',\n",
       " 'off',\n",
       " 'on',\n",
       " 'once',\n",
       " 'only',\n",
       " 'or',\n",
       " 'other',\n",
       " 'our',\n",
       " 'ours',\n",
       " 'ourselves',\n",
       " 'out',\n",
       " 'over',\n",
       " 'own',\n",
       " 're',\n",
       " 's',\n",
       " 'same',\n",
       " 'shan',\n",
       " \"shan't\",\n",
       " 'she',\n",
       " \"she's\",\n",
       " 'should',\n",
       " \"should've\",\n",
       " 'shouldn',\n",
       " \"shouldn't\",\n",
       " 'so',\n",
       " 'some',\n",
       " 'such',\n",
       " 't',\n",
       " 'than',\n",
       " 'that',\n",
       " \"that'll\",\n",
       " 'the',\n",
       " 'their',\n",
       " 'theirs',\n",
       " 'them',\n",
       " 'themselves',\n",
       " 'then',\n",
       " 'there',\n",
       " 'these',\n",
       " 'they',\n",
       " 'this',\n",
       " 'those',\n",
       " 'through',\n",
       " 'to',\n",
       " 'too',\n",
       " 'under',\n",
       " 'until',\n",
       " 'up',\n",
       " 've',\n",
       " 'very',\n",
       " 'was',\n",
       " 'wasn',\n",
       " \"wasn't\",\n",
       " 'we',\n",
       " 'were',\n",
       " 'weren',\n",
       " \"weren't\",\n",
       " 'what',\n",
       " 'when',\n",
       " 'where',\n",
       " 'which',\n",
       " 'while',\n",
       " 'who',\n",
       " 'whom',\n",
       " 'why',\n",
       " 'will',\n",
       " 'with',\n",
       " 'won',\n",
       " \"won't\",\n",
       " 'wouldn',\n",
       " \"wouldn't\",\n",
       " 'y',\n",
       " 'you',\n",
       " \"you'd\",\n",
       " \"you'll\",\n",
       " \"you're\",\n",
       " \"you've\",\n",
       " 'your',\n",
       " 'yours',\n",
       " 'yourself',\n",
       " 'yourselves'}"
      ]
     },
     "execution_count": 70,
     "metadata": {},
     "output_type": "execute_result"
    }
   ],
   "source": [
    "stop_words_set "
   ]
  },
  {
   "cell_type": "code",
   "execution_count": 71,
   "id": "8a1d38cb",
   "metadata": {},
   "outputs": [],
   "source": [
    "cleaned_sentence = []\n",
    "\n",
    "time1 = time.time()\n",
    "\n",
    "for word in sentence.lower().split():\n",
    "    if word not in stop_words_set:\n",
    "        cleaned_sentence.append(word)\n",
    "        \n",
    "time2 = time.time()"
   ]
  },
  {
   "cell_type": "code",
   "execution_count": 73,
   "id": "7391a340",
   "metadata": {
    "collapsed": true
   },
   "outputs": [
    {
     "data": {
      "text/plain": [
       "'0.000052'"
      ]
     },
     "execution_count": 73,
     "metadata": {},
     "output_type": "execute_result"
    }
   ],
   "source": [
    "format(time2 - time1, \"f\")  #even faster than the dictionary"
   ]
  },
  {
   "cell_type": "code",
   "execution_count": null,
   "id": "878b21d4",
   "metadata": {},
   "outputs": [],
   "source": []
  },
  {
   "cell_type": "markdown",
   "id": "0e71184e",
   "metadata": {},
   "source": [
    "## Reading and writing into text files"
   ]
  },
  {
   "cell_type": "code",
   "execution_count": 101,
   "id": "c761eec3",
   "metadata": {},
   "outputs": [],
   "source": [
    "stopword_file = open(\"stopword_file.txt\", \"r\")    #mode r - reading, w - writing, a - append, r+  -reading and writing"
   ]
  },
  {
   "cell_type": "code",
   "execution_count": 87,
   "id": "d1580252",
   "metadata": {
    "collapsed": true
   },
   "outputs": [
    {
     "data": {
      "text/plain": [
       "'i\\nme\\nmy\\nmyself\\nwe\\nour\\nours\\nourselves\\nyou\\nyour\\nyours\\nyourself\\nyourselves\\nhe\\nhim\\nhis\\nhimself\\nshe\\nher\\nhers\\nherself\\nit\\nits\\nitself\\nthey\\nthem\\ntheir\\ntheirs\\nthemselves\\nwhat\\nwhich\\nwho\\nwhom\\nthis\\nthat\\nthese\\nthose\\nam\\nis\\nare\\nwas\\nwere\\nbe\\nbeen\\nbeing\\nhave\\nhas\\nhad\\nhaving\\ndo\\ndoes\\ndid\\ndoing\\na\\nan\\nthe\\nand\\nbut\\nif\\nor\\nbecause\\nas\\nuntil\\nwhile\\nof\\nat\\nby\\nfor\\nwith\\nabout\\nagainst\\nbetween\\ninto\\nthrough\\nduring\\nbefore\\nafter\\nabove\\nbelow\\nto\\nfrom\\nup\\ndown\\nin\\nout\\non\\noff\\nover\\nunder\\nagain\\nfurther\\nthen\\nonce\\nhere\\nthere\\nwhen\\nwhere\\nwhy\\nhow\\nall\\nany\\nboth\\neach\\nfew\\nmore\\nmost\\nother\\nsome\\nsuch\\nno\\nnor\\nnot\\nonly\\nown\\nsame\\nso\\nthan\\ntoo\\nvery\\ns\\nt\\ncan\\nwill\\njust\\ndon\\nshould\\nnow\\n'"
      ]
     },
     "execution_count": 87,
     "metadata": {},
     "output_type": "execute_result"
    }
   ],
   "source": [
    "stopword_file.read()\n"
   ]
  },
  {
   "cell_type": "code",
   "execution_count": 100,
   "id": "11a4a057",
   "metadata": {
    "collapsed": true
   },
   "outputs": [
    {
     "name": "stdout",
     "output_type": "stream",
     "text": [
      "i\n",
      "\n",
      "me\n",
      "\n",
      "my\n",
      "\n",
      "myself\n",
      "\n",
      "we\n",
      "\n",
      "our\n",
      "\n",
      "ours\n",
      "\n",
      "ourselves\n",
      "\n",
      "you\n",
      "\n",
      "your\n",
      "\n",
      "yours\n",
      "\n",
      "yourself\n",
      "\n",
      "yourselves\n",
      "\n",
      "he\n",
      "\n",
      "him\n",
      "\n",
      "his\n",
      "\n",
      "himself\n",
      "\n",
      "she\n",
      "\n",
      "her\n",
      "\n",
      "hers\n",
      "\n",
      "herself\n",
      "\n",
      "it\n",
      "\n",
      "its\n",
      "\n",
      "itself\n",
      "\n",
      "they\n",
      "\n",
      "them\n",
      "\n",
      "their\n",
      "\n",
      "theirs\n",
      "\n",
      "themselves\n",
      "\n",
      "what\n",
      "\n",
      "which\n",
      "\n",
      "who\n",
      "\n",
      "whom\n",
      "\n",
      "this\n",
      "\n",
      "that\n",
      "\n",
      "these\n",
      "\n",
      "those\n",
      "\n",
      "am\n",
      "\n",
      "is\n",
      "\n",
      "are\n",
      "\n",
      "was\n",
      "\n",
      "were\n",
      "\n",
      "be\n",
      "\n",
      "been\n",
      "\n",
      "being\n",
      "\n",
      "have\n",
      "\n",
      "has\n",
      "\n",
      "had\n",
      "\n",
      "having\n",
      "\n",
      "do\n",
      "\n",
      "does\n",
      "\n",
      "did\n",
      "\n",
      "doing\n",
      "\n",
      "a\n",
      "\n",
      "an\n",
      "\n",
      "the\n",
      "\n",
      "and\n",
      "\n",
      "but\n",
      "\n",
      "if\n",
      "\n",
      "or\n",
      "\n",
      "because\n",
      "\n",
      "as\n",
      "\n",
      "until\n",
      "\n",
      "while\n",
      "\n",
      "of\n",
      "\n",
      "at\n",
      "\n",
      "by\n",
      "\n",
      "for\n",
      "\n",
      "with\n",
      "\n",
      "about\n",
      "\n",
      "against\n",
      "\n",
      "between\n",
      "\n",
      "into\n",
      "\n",
      "through\n",
      "\n",
      "during\n",
      "\n",
      "before\n",
      "\n",
      "after\n",
      "\n",
      "above\n",
      "\n",
      "below\n",
      "\n",
      "to\n",
      "\n",
      "from\n",
      "\n",
      "up\n",
      "\n",
      "down\n",
      "\n",
      "in\n",
      "\n",
      "out\n",
      "\n",
      "on\n",
      "\n",
      "off\n",
      "\n",
      "over\n",
      "\n",
      "under\n",
      "\n",
      "again\n",
      "\n",
      "further\n",
      "\n",
      "then\n",
      "\n",
      "once\n",
      "\n",
      "here\n",
      "\n",
      "there\n",
      "\n",
      "when\n",
      "\n",
      "where\n",
      "\n",
      "why\n",
      "\n",
      "how\n",
      "\n",
      "all\n",
      "\n",
      "any\n",
      "\n",
      "both\n",
      "\n",
      "each\n",
      "\n",
      "few\n",
      "\n",
      "more\n",
      "\n",
      "most\n",
      "\n",
      "other\n",
      "\n",
      "some\n",
      "\n",
      "such\n",
      "\n",
      "no\n",
      "\n",
      "nor\n",
      "\n",
      "not\n",
      "\n",
      "only\n",
      "\n",
      "own\n",
      "\n",
      "same\n",
      "\n",
      "so\n",
      "\n",
      "than\n",
      "\n",
      "too\n",
      "\n",
      "very\n",
      "\n",
      "s\n",
      "\n",
      "t\n",
      "\n",
      "can\n",
      "\n",
      "will\n",
      "\n",
      "just\n",
      "\n",
      "don\n",
      "\n",
      "should\n",
      "\n",
      "now\n",
      "\n"
     ]
    }
   ],
   "source": [
    "for line in stopword_file:\n",
    "    print(line)"
   ]
  },
  {
   "cell_type": "code",
   "execution_count": 102,
   "id": "10047c9e",
   "metadata": {},
   "outputs": [],
   "source": [
    "stop_words = []"
   ]
  },
  {
   "cell_type": "code",
   "execution_count": 103,
   "id": "64a22f49",
   "metadata": {},
   "outputs": [],
   "source": [
    "for line in stopword_file:\n",
    "    stop_words.extend(line.split())  #extends allows to append several words"
   ]
  },
  {
   "cell_type": "code",
   "execution_count": 104,
   "id": "215465d4",
   "metadata": {
    "collapsed": true
   },
   "outputs": [
    {
     "data": {
      "text/plain": [
       "['i',\n",
       " 'me',\n",
       " 'my',\n",
       " 'myself',\n",
       " 'we',\n",
       " 'our',\n",
       " 'ours',\n",
       " 'ourselves',\n",
       " 'you',\n",
       " 'your',\n",
       " 'yours',\n",
       " 'yourself',\n",
       " 'yourselves',\n",
       " 'he',\n",
       " 'him',\n",
       " 'his',\n",
       " 'himself',\n",
       " 'she',\n",
       " 'her',\n",
       " 'hers',\n",
       " 'herself',\n",
       " 'it',\n",
       " 'its',\n",
       " 'itself',\n",
       " 'they',\n",
       " 'them',\n",
       " 'their',\n",
       " 'theirs',\n",
       " 'themselves',\n",
       " 'what',\n",
       " 'which',\n",
       " 'who',\n",
       " 'whom',\n",
       " 'this',\n",
       " 'that',\n",
       " 'these',\n",
       " 'those',\n",
       " 'am',\n",
       " 'is',\n",
       " 'are',\n",
       " 'was',\n",
       " 'were',\n",
       " 'be',\n",
       " 'been',\n",
       " 'being',\n",
       " 'have',\n",
       " 'has',\n",
       " 'had',\n",
       " 'having',\n",
       " 'do',\n",
       " 'does',\n",
       " 'did',\n",
       " 'doing',\n",
       " 'a',\n",
       " 'an',\n",
       " 'the',\n",
       " 'and',\n",
       " 'but',\n",
       " 'if',\n",
       " 'or',\n",
       " 'because',\n",
       " 'as',\n",
       " 'until',\n",
       " 'while',\n",
       " 'of',\n",
       " 'at',\n",
       " 'by',\n",
       " 'for',\n",
       " 'with',\n",
       " 'about',\n",
       " 'against',\n",
       " 'between',\n",
       " 'into',\n",
       " 'through',\n",
       " 'during',\n",
       " 'before',\n",
       " 'after',\n",
       " 'above',\n",
       " 'below',\n",
       " 'to',\n",
       " 'from',\n",
       " 'up',\n",
       " 'down',\n",
       " 'in',\n",
       " 'out',\n",
       " 'on',\n",
       " 'off',\n",
       " 'over',\n",
       " 'under',\n",
       " 'again',\n",
       " 'further',\n",
       " 'then',\n",
       " 'once',\n",
       " 'here',\n",
       " 'there',\n",
       " 'when',\n",
       " 'where',\n",
       " 'why',\n",
       " 'how',\n",
       " 'all',\n",
       " 'any',\n",
       " 'both',\n",
       " 'each',\n",
       " 'few',\n",
       " 'more',\n",
       " 'most',\n",
       " 'other',\n",
       " 'some',\n",
       " 'such',\n",
       " 'no',\n",
       " 'nor',\n",
       " 'not',\n",
       " 'only',\n",
       " 'own',\n",
       " 'same',\n",
       " 'so',\n",
       " 'than',\n",
       " 'too',\n",
       " 'very',\n",
       " 's',\n",
       " 't',\n",
       " 'can',\n",
       " 'will',\n",
       " 'just',\n",
       " 'don',\n",
       " 'should',\n",
       " 'now']"
      ]
     },
     "execution_count": 104,
     "metadata": {},
     "output_type": "execute_result"
    }
   ],
   "source": [
    "stop_words"
   ]
  },
  {
   "cell_type": "code",
   "execution_count": 105,
   "id": "32498ff6",
   "metadata": {},
   "outputs": [],
   "source": [
    "stop_words = set(stop_words)"
   ]
  },
  {
   "cell_type": "code",
   "execution_count": 106,
   "id": "26e4447f",
   "metadata": {},
   "outputs": [],
   "source": [
    "stopword_file.close()"
   ]
  },
  {
   "cell_type": "code",
   "execution_count": 112,
   "id": "d386e186",
   "metadata": {},
   "outputs": [
    {
     "data": {
      "text/plain": [
       "15"
      ]
     },
     "execution_count": 112,
     "metadata": {},
     "output_type": "execute_result"
    }
   ],
   "source": [
    "#appending to file\n",
    "stopword_file = open(\"stopword_file.txt\", \"a\") \n",
    "stopword_file.write(\"extrastopword1\")  #add \\n"
   ]
  },
  {
   "cell_type": "code",
   "execution_count": 113,
   "id": "049c8fe8",
   "metadata": {},
   "outputs": [
    {
     "data": {
      "text/plain": [
       "15"
      ]
     },
     "execution_count": 113,
     "metadata": {},
     "output_type": "execute_result"
    }
   ],
   "source": [
    "stopword_file.write(\"extrastopword2\")"
   ]
  },
  {
   "cell_type": "code",
   "execution_count": 114,
   "id": "914b3741",
   "metadata": {},
   "outputs": [],
   "source": [
    "stopword_file.close()"
   ]
  },
  {
   "cell_type": "code",
   "execution_count": null,
   "id": "6fe55949",
   "metadata": {},
   "outputs": [],
   "source": []
  }
 ],
 "metadata": {
  "kernelspec": {
   "display_name": "Python 3 (ipykernel)",
   "language": "python",
   "name": "python3"
  },
  "language_info": {
   "codemirror_mode": {
    "name": "ipython",
    "version": 3
   },
   "file_extension": ".py",
   "mimetype": "text/x-python",
   "name": "python",
   "nbconvert_exporter": "python",
   "pygments_lexer": "ipython3",
   "version": "3.9.7"
  }
 },
 "nbformat": 4,
 "nbformat_minor": 5
}
