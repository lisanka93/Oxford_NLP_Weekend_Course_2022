{
 "cells": [
  {
   "cell_type": "code",
   "execution_count": null,
   "id": "51033be9",
   "metadata": {},
   "outputs": [],
   "source": []
  },
  {
   "cell_type": "code",
   "execution_count": 118,
   "id": "5347e1fa",
   "metadata": {},
   "outputs": [],
   "source": [
    "#1. read in article and store in list\n",
    "news_article = open(\"news_article.txt\", \"r\")  \n",
    "\n",
    "news_article_list = []\n",
    "\n",
    "for line in news_article:\n",
    "    news_article_list.append(line)"
   ]
  },
  {
   "cell_type": "code",
   "execution_count": 119,
   "id": "8ebfc53f",
   "metadata": {},
   "outputs": [],
   "source": [
    "# get out article\n",
    "article_raw = news_article_list[-1]"
   ]
  },
  {
   "cell_type": "code",
   "execution_count": 120,
   "id": "0be41957",
   "metadata": {
    "collapsed": true
   },
   "outputs": [
    {
     "data": {
      "text/plain": [
       "'Virgin Blue said profits after tax for the year to March would be between 10% to 15% lower than the previous year. \"Sluggish demand reported previously for November and now December 2004 continues,\" said Virgin Blue chief executive Brett Godfrey (who turned 54 earlier this year). Virgin Blue, which is 25% owned by Richard Branson, has been struggling to fend off pressure from rival Jetstar. It cut its full year passenger number forecast by \"approximately 2.5%\". Virgin Blue reported a 22% fall in first quarter profits in August 2004 due to tough competition. In November, first half profits were down due to slack demand and rising fuel costs (oil being at 80$ per barrel). Virgin Blue was launched four years ago and now has roughly one third of Australia\\'s domestic airline market. But the national carrier, Qantas, has fought back with its own budget airline, Jetstar, which took to the skies in May 2004. Sydney-listed Virgin Blue\\'s shares recovered slightly to close 12% down on Wednesday. Shares in its major shareholder, Patrick Corporation - which owns 46% of Virgin Blue - had dropped 31% by the close. \\n'"
      ]
     },
     "execution_count": 120,
     "metadata": {},
     "output_type": "execute_result"
    }
   ],
   "source": [
    "article_raw"
   ]
  },
  {
   "cell_type": "code",
   "execution_count": 121,
   "id": "f7772744",
   "metadata": {},
   "outputs": [],
   "source": [
    "#2 set it to lower\n",
    "article_raw = article_raw.lower()"
   ]
  },
  {
   "cell_type": "code",
   "execution_count": 122,
   "id": "0c29c029",
   "metadata": {
    "collapsed": true
   },
   "outputs": [
    {
     "data": {
      "text/plain": [
       "'virgin blue said profits after tax for the year to march would be between 10% to 15% lower than the previous year. \"sluggish demand reported previously for november and now december 2004 continues,\" said virgin blue chief executive brett godfrey (who turned 54 earlier this year). virgin blue, which is 25% owned by richard branson, has been struggling to fend off pressure from rival jetstar. it cut its full year passenger number forecast by \"approximately 2.5%\". virgin blue reported a 22% fall in first quarter profits in august 2004 due to tough competition. in november, first half profits were down due to slack demand and rising fuel costs (oil being at 80$ per barrel). virgin blue was launched four years ago and now has roughly one third of australia\\'s domestic airline market. but the national carrier, qantas, has fought back with its own budget airline, jetstar, which took to the skies in may 2004. sydney-listed virgin blue\\'s shares recovered slightly to close 12% down on wednesday. shares in its major shareholder, patrick corporation - which owns 46% of virgin blue - had dropped 31% by the close. \\n'"
      ]
     },
     "execution_count": 122,
     "metadata": {},
     "output_type": "execute_result"
    }
   ],
   "source": [
    "article_raw"
   ]
  },
  {
   "cell_type": "code",
   "execution_count": 123,
   "id": "84e75d6f",
   "metadata": {},
   "outputs": [],
   "source": [
    "#3. delete all punctuation apart from money values (e.g. $) and %\n",
    "import string \n",
    "\n",
    "# Storing the sets of punctuation in variable result \n",
    "punct = string.punctuation "
   ]
  },
  {
   "cell_type": "code",
   "execution_count": 124,
   "id": "6cbfc630",
   "metadata": {},
   "outputs": [
    {
     "data": {
      "text/plain": [
       "'!\"#$%&\\'()*+,-./:;<=>?@[\\\\]^_`{|}~'"
      ]
     },
     "execution_count": 124,
     "metadata": {},
     "output_type": "execute_result"
    }
   ],
   "source": [
    "punct"
   ]
  },
  {
   "cell_type": "code",
   "execution_count": 125,
   "id": "4643d74f",
   "metadata": {
    "collapsed": true
   },
   "outputs": [
    {
     "data": {
      "text/plain": [
       "'\\nnote: the code above is the same as\\n\\npunct_set = []\\n\\nfor i in punct:\\n    if i != \"%\" and i != \"$\":\\n        punct_set.append(i)\\n\\n'"
      ]
     },
     "execution_count": 125,
     "metadata": {},
     "output_type": "execute_result"
    }
   ],
   "source": [
    "punct_set = {i for i in punct if i != \"%\" and i != \"$\"}\n",
    "\n",
    "\"\"\"\n",
    "note: the code above is the same as\n",
    "\n",
    "punct_set = []\n",
    "\n",
    "for i in punct:\n",
    "    if i != \"%\" and i != \"$\":\n",
    "        punct_set.append(i)\n",
    "\n",
    "\"\"\""
   ]
  },
  {
   "cell_type": "code",
   "execution_count": 126,
   "id": "e388107e",
   "metadata": {},
   "outputs": [],
   "source": [
    "#another approach\n",
    "\n",
    "exclude = [\"%\", \"$\", \"€\", \"£\"]  #better because we can add more stuff\n",
    "punct_set = {i for i in punct if i not in exclude}"
   ]
  },
  {
   "cell_type": "code",
   "execution_count": 127,
   "id": "cc33a714",
   "metadata": {
    "collapsed": true
   },
   "outputs": [
    {
     "data": {
      "text/plain": [
       "{'!',\n",
       " '\"',\n",
       " '#',\n",
       " '&',\n",
       " \"'\",\n",
       " '(',\n",
       " ')',\n",
       " '*',\n",
       " '+',\n",
       " ',',\n",
       " '-',\n",
       " '.',\n",
       " '/',\n",
       " ':',\n",
       " ';',\n",
       " '<',\n",
       " '=',\n",
       " '>',\n",
       " '?',\n",
       " '@',\n",
       " '[',\n",
       " '\\\\',\n",
       " ']',\n",
       " '^',\n",
       " '_',\n",
       " '`',\n",
       " '{',\n",
       " '|',\n",
       " '}',\n",
       " '~'}"
      ]
     },
     "execution_count": 127,
     "metadata": {},
     "output_type": "execute_result"
    }
   ],
   "source": [
    "punct_set"
   ]
  },
  {
   "cell_type": "code",
   "execution_count": 128,
   "id": "c353be6a",
   "metadata": {},
   "outputs": [],
   "source": [
    "#approach 1 - using join()\n",
    "article_clean = []\n",
    "\n",
    "for letter in article_raw:\n",
    "    if letter not in punct_set:\n",
    "        article_clean.append(letter)"
   ]
  },
  {
   "cell_type": "code",
   "execution_count": 129,
   "id": "aa3c314b",
   "metadata": {},
   "outputs": [],
   "source": [
    "article_clean_str = \"\".join(article_clean)"
   ]
  },
  {
   "cell_type": "code",
   "execution_count": 130,
   "id": "27b8b69a",
   "metadata": {
    "collapsed": true
   },
   "outputs": [
    {
     "data": {
      "text/plain": [
       "'virgin blue said profits after tax for the year to march would be between 10% to 15% lower than the previous year sluggish demand reported previously for november and now december 2004 continues said virgin blue chief executive brett godfrey who turned 54 earlier this year virgin blue which is 25% owned by richard branson has been struggling to fend off pressure from rival jetstar it cut its full year passenger number forecast by approximately 25% virgin blue reported a 22% fall in first quarter profits in august 2004 due to tough competition in november first half profits were down due to slack demand and rising fuel costs oil being at 80$ per barrel virgin blue was launched four years ago and now has roughly one third of australias domestic airline market but the national carrier qantas has fought back with its own budget airline jetstar which took to the skies in may 2004 sydneylisted virgin blues shares recovered slightly to close 12% down on wednesday shares in its major shareholder patrick corporation  which owns 46% of virgin blue  had dropped 31% by the close \\n'"
      ]
     },
     "execution_count": 130,
     "metadata": {},
     "output_type": "execute_result"
    }
   ],
   "source": [
    "article_clean_str"
   ]
  },
  {
   "cell_type": "code",
   "execution_count": 38,
   "id": "fe107650",
   "metadata": {},
   "outputs": [],
   "source": [
    "#approach 2 (bad! but only way to do it with what we covered)\n",
    "articla_clean_list = [article_raw]\n",
    "for p in punct_set:\n",
    "    article_clean_ = article_clean_list[-1].replace(p,\"\")\n",
    "    article_clean_list.append(article_clean_)"
   ]
  },
  {
   "cell_type": "code",
   "execution_count": 40,
   "id": "a9d88a4c",
   "metadata": {
    "collapsed": true
   },
   "outputs": [
    {
     "data": {
      "text/plain": [
       "'virgin blue said profits after tax for the year to march would be between 10% to 15% lower than the previous year sluggish demand reported previously for november and now december 2004 continues said virgin blue chief executive brett godfrey virgin blue which is 25% owned by richard branson has been struggling to fend off pressure from rival jetstar it cut its full year passenger number forecast by approximately 25% virgin blue reported a 22% fall in first quarter profits in august 2004 due to tough competition in november first half profits were down due to slack demand and rising fuel costs virgin blue was launched four years ago and now has roughly one third of australias domestic airline market but the national carrier qantas has fought back with its own budget airline jetstar which took to the skies in may 2004 sydneylisted virgin blues shares recovered slightly to close 12% down on wednesday shares in its major shareholder patrick corporation  which owns 46% of virgin blue  had dropped 31% by the close \\n'"
      ]
     },
     "execution_count": 40,
     "metadata": {},
     "output_type": "execute_result"
    }
   ],
   "source": [
    "article_clean_list[-1]"
   ]
  },
  {
   "cell_type": "code",
   "execution_count": null,
   "id": "a6b3dac2",
   "metadata": {},
   "outputs": [],
   "source": [
    "#4. delete stopwords"
   ]
  },
  {
   "cell_type": "code",
   "execution_count": 131,
   "id": "ce8be526",
   "metadata": {},
   "outputs": [],
   "source": [
    "stopword_file = open(\"stopword_file.txt\", \"r\") "
   ]
  },
  {
   "cell_type": "code",
   "execution_count": 132,
   "id": "6ea91d43",
   "metadata": {},
   "outputs": [],
   "source": [
    "stop_words = []\n",
    "for line in stopword_file:\n",
    "    stop_words.extend(line.split()) "
   ]
  },
  {
   "cell_type": "code",
   "execution_count": 133,
   "id": "d5b55394",
   "metadata": {},
   "outputs": [],
   "source": [
    "stop_words = set(stop_words)"
   ]
  },
  {
   "cell_type": "code",
   "execution_count": 134,
   "id": "5b2e1fd9",
   "metadata": {},
   "outputs": [],
   "source": [
    "article_clean = [word for word in article_clean_str.split() if word not in stop_words]"
   ]
  },
  {
   "cell_type": "code",
   "execution_count": 137,
   "id": "7004a86c",
   "metadata": {
    "collapsed": true
   },
   "outputs": [
    {
     "data": {
      "text/plain": [
       "['virgin',\n",
       " 'blue',\n",
       " 'said',\n",
       " 'profits',\n",
       " 'tax',\n",
       " 'year',\n",
       " 'march',\n",
       " 'would',\n",
       " '10%',\n",
       " '15%',\n",
       " 'lower',\n",
       " 'previous',\n",
       " 'year',\n",
       " 'sluggish',\n",
       " 'demand',\n",
       " 'reported',\n",
       " 'previously',\n",
       " 'november',\n",
       " 'december',\n",
       " '2004',\n",
       " 'continues',\n",
       " 'said',\n",
       " 'virgin',\n",
       " 'blue',\n",
       " 'chief',\n",
       " 'executive',\n",
       " 'brett',\n",
       " 'godfrey',\n",
       " 'turned',\n",
       " '54',\n",
       " 'earlier',\n",
       " 'year',\n",
       " 'virgin',\n",
       " 'blue',\n",
       " '25%',\n",
       " 'owned',\n",
       " 'richard',\n",
       " 'branson',\n",
       " 'struggling',\n",
       " 'fend',\n",
       " 'pressure',\n",
       " 'rival',\n",
       " 'jetstar',\n",
       " 'cut',\n",
       " 'full',\n",
       " 'year',\n",
       " 'passenger',\n",
       " 'number',\n",
       " 'forecast',\n",
       " 'approximately',\n",
       " '25%',\n",
       " 'virgin',\n",
       " 'blue',\n",
       " 'reported',\n",
       " '22%',\n",
       " 'fall',\n",
       " 'first',\n",
       " 'quarter',\n",
       " 'profits',\n",
       " 'august',\n",
       " '2004',\n",
       " 'due',\n",
       " 'tough',\n",
       " 'competition',\n",
       " 'november',\n",
       " 'first',\n",
       " 'half',\n",
       " 'profits',\n",
       " 'due',\n",
       " 'slack',\n",
       " 'demand',\n",
       " 'rising',\n",
       " 'fuel',\n",
       " 'costs',\n",
       " 'oil',\n",
       " '80$',\n",
       " 'per',\n",
       " 'barrel',\n",
       " 'virgin',\n",
       " 'blue',\n",
       " 'launched',\n",
       " 'four',\n",
       " 'years',\n",
       " 'ago',\n",
       " 'roughly',\n",
       " 'one',\n",
       " 'third',\n",
       " 'australias',\n",
       " 'domestic',\n",
       " 'airline',\n",
       " 'market',\n",
       " 'national',\n",
       " 'carrier',\n",
       " 'qantas',\n",
       " 'fought',\n",
       " 'back',\n",
       " 'budget',\n",
       " 'airline',\n",
       " 'jetstar',\n",
       " 'took',\n",
       " 'skies',\n",
       " 'may',\n",
       " '2004',\n",
       " 'sydneylisted',\n",
       " 'virgin',\n",
       " 'blues',\n",
       " 'shares',\n",
       " 'recovered',\n",
       " 'slightly',\n",
       " 'close',\n",
       " '12%',\n",
       " 'wednesday',\n",
       " 'shares',\n",
       " 'major',\n",
       " 'shareholder',\n",
       " 'patrick',\n",
       " 'corporation',\n",
       " 'owns',\n",
       " '46%',\n",
       " 'virgin',\n",
       " 'blue',\n",
       " 'dropped',\n",
       " '31%',\n",
       " 'close']"
      ]
     },
     "execution_count": 137,
     "metadata": {},
     "output_type": "execute_result"
    }
   ],
   "source": [
    "article_clean"
   ]
  },
  {
   "cell_type": "code",
   "execution_count": 138,
   "id": "0699ee80",
   "metadata": {},
   "outputs": [],
   "source": [
    "article_clean = \" \".join(article_clean)"
   ]
  },
  {
   "cell_type": "code",
   "execution_count": 147,
   "id": "a4504eee",
   "metadata": {},
   "outputs": [],
   "source": [
    "#5. get percentages\n",
    "\n",
    "percentages = []\n",
    "\n",
    "for word in article_clean.split():\n",
    "    if word[-1] == \"%\":\n",
    "        percentages.append(word)"
   ]
  },
  {
   "cell_type": "code",
   "execution_count": 148,
   "id": "0745bf93",
   "metadata": {
    "collapsed": true
   },
   "outputs": [
    {
     "data": {
      "text/plain": [
       "['10%', '15%', '25%', '25%', '22%', '12%', '46%', '31%']"
      ]
     },
     "execution_count": 148,
     "metadata": {},
     "output_type": "execute_result"
    }
   ],
   "source": [
    "percentages"
   ]
  },
  {
   "cell_type": "code",
   "execution_count": 149,
   "id": "cb7c9819",
   "metadata": {},
   "outputs": [],
   "source": [
    "#6. get moneyvalues\n",
    "\n",
    "moneyvalues = []\n",
    "\n",
    "for word in article_clean.split():\n",
    "    if word[-1] == \"$\":\n",
    "        moneyvalues.append(word)"
   ]
  },
  {
   "cell_type": "code",
   "execution_count": 151,
   "id": "1a40222a",
   "metadata": {
    "collapsed": true
   },
   "outputs": [
    {
     "data": {
      "text/plain": [
       "['80$']"
      ]
     },
     "execution_count": 151,
     "metadata": {},
     "output_type": "execute_result"
    }
   ],
   "source": [
    "moneyvalues"
   ]
  },
  {
   "cell_type": "code",
   "execution_count": 97,
   "id": "19aa5690",
   "metadata": {},
   "outputs": [],
   "source": [
    "# 7. need a function to check whether it is a year\n",
    "\n",
    "def is_year(number):\n",
    "    if not number.isdigit():\n",
    "        return False\n",
    "    \n",
    "    if len(number) == 4 and (number[0:2] == \"19\" or number[0:2] == \"20\"):\n",
    "        return True\n",
    "    else:\n",
    "        return False"
   ]
  },
  {
   "cell_type": "code",
   "execution_count": 98,
   "id": "b8a16c38",
   "metadata": {},
   "outputs": [],
   "source": [
    "years = []\n",
    "\n",
    "for word in article_clean.split():\n",
    "    if is_year(word) == True:\n",
    "        years.append(word)"
   ]
  },
  {
   "cell_type": "code",
   "execution_count": 99,
   "id": "6514dfc8",
   "metadata": {
    "collapsed": true
   },
   "outputs": [
    {
     "data": {
      "text/plain": [
       "['2004', '2004', '2004']"
      ]
     },
     "execution_count": 99,
     "metadata": {},
     "output_type": "execute_result"
    }
   ],
   "source": [
    "years"
   ]
  },
  {
   "cell_type": "code",
   "execution_count": 100,
   "id": "396de5e0",
   "metadata": {},
   "outputs": [],
   "source": [
    "# 8. digits\n",
    "\n",
    "digits = []\n",
    "\n",
    "for word in article_clean.split():\n",
    "    if word.isdigit() and is_year(word) == False:\n",
    "        digits.append(word)"
   ]
  },
  {
   "cell_type": "code",
   "execution_count": 101,
   "id": "eef0829c",
   "metadata": {
    "collapsed": true
   },
   "outputs": [
    {
     "data": {
      "text/plain": [
       "['54']"
      ]
     },
     "execution_count": 101,
     "metadata": {},
     "output_type": "execute_result"
    }
   ],
   "source": [
    "digits"
   ]
  },
  {
   "cell_type": "code",
   "execution_count": null,
   "id": "59d9c92a",
   "metadata": {},
   "outputs": [],
   "source": []
  }
 ],
 "metadata": {
  "kernelspec": {
   "display_name": "Python 3 (ipykernel)",
   "language": "python",
   "name": "python3"
  },
  "language_info": {
   "codemirror_mode": {
    "name": "ipython",
    "version": 3
   },
   "file_extension": ".py",
   "mimetype": "text/x-python",
   "name": "python",
   "nbconvert_exporter": "python",
   "pygments_lexer": "ipython3",
   "version": "3.8.12"
  }
 },
 "nbformat": 4,
 "nbformat_minor": 5
}
