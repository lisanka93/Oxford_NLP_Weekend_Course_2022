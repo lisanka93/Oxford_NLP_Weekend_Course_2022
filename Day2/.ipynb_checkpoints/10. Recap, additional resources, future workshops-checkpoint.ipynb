{
 "cells": [
  {
   "cell_type": "markdown",
   "id": "d1dfcd1e",
   "metadata": {},
   "source": [
    "## Recap - what we covered +  additional resources\n",
    "\n",
    "### - Intro to Python\n",
    "   - https://www.youtube.com/watch?v=rfscVS0vtbw (Full Intro course in 4 hours)\n",
    "   - https://www.youtube.com/watch?v=WcDaZ67TVRo  (Skip to 1:45 - pandas\n",
    "   - worth checking out a proper online course: https://www.coursera.org/courses?query=python\n",
    "   - pandas: https://www.learndatasci.com/tutorials/python-pandas-tutorial-complete-introduction-for-beginners/\n",
    "\n",
    "    \n",
    "    \n",
    "### - Intro to Text Analysis\n",
    "   - Regex: https://www.w3schools.com/python/python_regex.asp\n",
    "   - testing regex: https://regexr.com/\n",
    "   - Text normalisation: https://towardsdatascience.com/text-normalization-for-natural-language-processing-nlp-70a314bfa646\n",
    "   - something to think about: more normalisation if british and american texts in same dataset: http://www.tysto.com/uk-us-spelling-list.html\n",
    "   - CountVectorizer: https://towardsdatascience.com/basics-of-countvectorizer-e26677900f9c\n",
    "   - Actual documentation: https://scikit-learn.org/stable/modules/generated/sklearn.feature_extraction.text.CountVectorizer.html\n",
    "\n",
    "   \n",
    "   \n",
    "### - ML fundamentals\n",
    "\n",
    "   - https://www.udacity.com/course/intro-to-machine-learning--ud120 (not text related apart from one module)\n",
    "   - https://www.youtube.com/watch?v=pqNCD_5r0IU (4h sklearn tutorial)\n",
    "   - Very good and comprehensive book: https://www.oreilly.com/library/view/hands-on-machine-learning/9781492032632/\n",
    "   \n",
    "   \n",
    "\n",
    "### - Classification using Naive Bayes and Logistic Regression\n",
    "\n",
    "   - https://www.youtube.com/watch?v=O2L2Uv9pdDA&t=703s (NB)\n",
    "   - LR\n",
    "      - https://www.youtube.com/watch?v=vN5cNN2-HWE\n",
    "      - https://www.youtube.com/watch?v=BfKanl1aSG0\n",
    "      - https://www.youtube.com/watch?v=xxFYro8QuXA\n",
    "      \n",
    "### - Word Embeddings\n",
    "   - https://jalammar.github.io/illustrated-word2vec/\n",
    "   - the original paper:https://arxiv.org/abs/1301.3781\n",
    "   - very good lecture:https://www.youtube.com/watch?v=ERibwqs9p38\n",
    "  \n",
    "  \n",
    "  \n",
    "  \n",
    "very good book:https://web.stanford.edu/~jurafsky/slp3/"
   ]
  },
  {
   "cell_type": "code",
   "execution_count": null,
   "id": "72d5ee3a",
   "metadata": {},
   "outputs": [],
   "source": []
  },
  {
   "cell_type": "markdown",
   "id": "b2ac241c",
   "metadata": {},
   "source": [
    "## Proposal for Future 1 day Online Course\n",
    "    \n",
    "   #### - Topic Modeling using Top2Vec\n",
    "   \n",
    "   Top2Vec is an algorithm for topic modeling and semantic search. It automatically detects topics present in text and generates jointly embedded topic, document and word vectors. Once you train the Top2Vec model you can:\n",
    "\n",
    "   - Get number of detected topics.\n",
    "   - Get topics.\n",
    "   - Get topic sizes.\n",
    "   - Get hierarchichal topics.\n",
    "   - Search topics by keywords.\n",
    "   - Search documents by topic.\n",
    "   - Search documents by keywords.\n",
    "   - Find similar words.\n",
    "   - Find similar documents.\n",
    "\n",
    "see paper: https://arxiv.org/abs/2008.09470\n",
    "\n",
    "   #### - Training own entity recognition model using spacy"
   ]
  },
  {
   "cell_type": "code",
   "execution_count": 5,
   "id": "436e65a6",
   "metadata": {},
   "outputs": [],
   "source": [
    "\n",
    "\n",
    "import spacy\n",
    "from spacy import displacy\n",
    "nlp = spacy.load(\"en_core_web_sm\")"
   ]
  },
  {
   "cell_type": "code",
   "execution_count": 18,
   "id": "fdf95f61",
   "metadata": {},
   "outputs": [],
   "source": [
    "text = \"William Henry Gates III (born October 28, 1955) is an American business magnate, software developer, investor, author, and philanthropist. He is a co-founder of Microsoft, along with his late childhood friend Paul Allen. During his career at Microsoft, Gates held the positions of chairman, chief executive officer (CEO), president and chief software architect, while also being the largest individual shareholder until May 2014. He was a major entrepreneur of the microcomputer revolution of the 1970s and 1980s.\""
   ]
  },
  {
   "cell_type": "markdown",
   "id": "5e0d0a47",
   "metadata": {},
   "source": [
    "William Henry Gates III (born October 28, 1955) is an American business magnate, software developer, investor, author, and philanthropist. He is a co-founder of Microsoft, along with his late childhood friend Paul Allen. During his career at Microsoft, Gates held the positions of chairman, chief executive officer (CEO), president and chief software architect, while also being the largest individual shareholder until May 2014. He was a major entrepreneur of the microcomputer revolution of the 1970s and 1980s."
   ]
  },
  {
   "cell_type": "code",
   "execution_count": 27,
   "id": "a3dcf61a",
   "metadata": {
    "scrolled": true
   },
   "outputs": [
    {
     "data": {
      "text/plain": [
       "(William Henry Gates III,\n",
       " October 28, 1955,\n",
       " American,\n",
       " Microsoft,\n",
       " Paul Allen,\n",
       " Microsoft,\n",
       " Gates,\n",
       " May 2014,\n",
       " 1970s,\n",
       " 1980s)"
      ]
     },
     "execution_count": 27,
     "metadata": {},
     "output_type": "execute_result"
    }
   ],
   "source": [
    "doc.ents"
   ]
  },
  {
   "cell_type": "code",
   "execution_count": 28,
   "id": "a6da7b2a",
   "metadata": {
    "collapsed": true
   },
   "outputs": [
    {
     "ename": "AttributeError",
     "evalue": "'tuple' object has no attribute 'label_'",
     "output_type": "error",
     "traceback": [
      "\u001b[0;31m---------------------------------------------------------------------------\u001b[0m",
      "\u001b[0;31mAttributeError\u001b[0m                            Traceback (most recent call last)",
      "\u001b[0;32m/tmp/ipykernel_23256/1300201432.py\u001b[0m in \u001b[0;36m<module>\u001b[0;34m\u001b[0m\n\u001b[0;32m----> 1\u001b[0;31m \u001b[0mdoc\u001b[0m\u001b[0;34m.\u001b[0m\u001b[0ments\u001b[0m\u001b[0;34m.\u001b[0m\u001b[0mlabel_\u001b[0m\u001b[0;34m\u001b[0m\u001b[0;34m\u001b[0m\u001b[0m\n\u001b[0m",
      "\u001b[0;31mAttributeError\u001b[0m: 'tuple' object has no attribute 'label_'"
     ]
    }
   ],
   "source": []
  },
  {
   "cell_type": "code",
   "execution_count": 25,
   "id": "5e22b4c9",
   "metadata": {},
   "outputs": [
    {
     "data": {
      "text/html": [
       "<span class=\"tex2jax_ignore\"><div class=\"entities\" style=\"line-height: 2.5; direction: ltr\">\n",
       "<mark class=\"entity\" style=\"background: #aa9cfc; padding: 0.45em 0.6em; margin: 0 0.25em; line-height: 1; border-radius: 0.35em;\">\n",
       "    William Henry Gates III\n",
       "    <span style=\"font-size: 0.8em; font-weight: bold; line-height: 1; border-radius: 0.35em; vertical-align: middle; margin-left: 0.5rem\">PERSON</span>\n",
       "</mark>\n",
       " (born \n",
       "<mark class=\"entity\" style=\"background: #bfe1d9; padding: 0.45em 0.6em; margin: 0 0.25em; line-height: 1; border-radius: 0.35em;\">\n",
       "    October 28, 1955\n",
       "    <span style=\"font-size: 0.8em; font-weight: bold; line-height: 1; border-radius: 0.35em; vertical-align: middle; margin-left: 0.5rem\">DATE</span>\n",
       "</mark>\n",
       ") is an \n",
       "<mark class=\"entity\" style=\"background: #c887fb; padding: 0.45em 0.6em; margin: 0 0.25em; line-height: 1; border-radius: 0.35em;\">\n",
       "    American\n",
       "    <span style=\"font-size: 0.8em; font-weight: bold; line-height: 1; border-radius: 0.35em; vertical-align: middle; margin-left: 0.5rem\">NORP</span>\n",
       "</mark>\n",
       " business magnate, software developer, investor, author, and philanthropist. He is a co-founder of \n",
       "<mark class=\"entity\" style=\"background: #7aecec; padding: 0.45em 0.6em; margin: 0 0.25em; line-height: 1; border-radius: 0.35em;\">\n",
       "    Microsoft\n",
       "    <span style=\"font-size: 0.8em; font-weight: bold; line-height: 1; border-radius: 0.35em; vertical-align: middle; margin-left: 0.5rem\">ORG</span>\n",
       "</mark>\n",
       ", along with his late childhood friend \n",
       "<mark class=\"entity\" style=\"background: #aa9cfc; padding: 0.45em 0.6em; margin: 0 0.25em; line-height: 1; border-radius: 0.35em;\">\n",
       "    Paul Allen\n",
       "    <span style=\"font-size: 0.8em; font-weight: bold; line-height: 1; border-radius: 0.35em; vertical-align: middle; margin-left: 0.5rem\">PERSON</span>\n",
       "</mark>\n",
       ". During his career at \n",
       "<mark class=\"entity\" style=\"background: #7aecec; padding: 0.45em 0.6em; margin: 0 0.25em; line-height: 1; border-radius: 0.35em;\">\n",
       "    Microsoft\n",
       "    <span style=\"font-size: 0.8em; font-weight: bold; line-height: 1; border-radius: 0.35em; vertical-align: middle; margin-left: 0.5rem\">ORG</span>\n",
       "</mark>\n",
       ", \n",
       "<mark class=\"entity\" style=\"background: #7aecec; padding: 0.45em 0.6em; margin: 0 0.25em; line-height: 1; border-radius: 0.35em;\">\n",
       "    Gates\n",
       "    <span style=\"font-size: 0.8em; font-weight: bold; line-height: 1; border-radius: 0.35em; vertical-align: middle; margin-left: 0.5rem\">ORG</span>\n",
       "</mark>\n",
       " held the positions of chairman, chief executive officer (CEO), president and chief software architect, while also being the largest individual shareholder until \n",
       "<mark class=\"entity\" style=\"background: #bfe1d9; padding: 0.45em 0.6em; margin: 0 0.25em; line-height: 1; border-radius: 0.35em;\">\n",
       "    May 2014\n",
       "    <span style=\"font-size: 0.8em; font-weight: bold; line-height: 1; border-radius: 0.35em; vertical-align: middle; margin-left: 0.5rem\">DATE</span>\n",
       "</mark>\n",
       ". He was a major entrepreneur of the microcomputer revolution of the \n",
       "<mark class=\"entity\" style=\"background: #bfe1d9; padding: 0.45em 0.6em; margin: 0 0.25em; line-height: 1; border-radius: 0.35em;\">\n",
       "    1970s\n",
       "    <span style=\"font-size: 0.8em; font-weight: bold; line-height: 1; border-radius: 0.35em; vertical-align: middle; margin-left: 0.5rem\">DATE</span>\n",
       "</mark>\n",
       " and \n",
       "<mark class=\"entity\" style=\"background: #bfe1d9; padding: 0.45em 0.6em; margin: 0 0.25em; line-height: 1; border-radius: 0.35em;\">\n",
       "    1980s\n",
       "    <span style=\"font-size: 0.8em; font-weight: bold; line-height: 1; border-radius: 0.35em; vertical-align: middle; margin-left: 0.5rem\">DATE</span>\n",
       "</mark>\n",
       ".</div></span>"
      ],
      "text/plain": [
       "<IPython.core.display.HTML object>"
      ]
     },
     "metadata": {},
     "output_type": "display_data"
    }
   ],
   "source": [
    "doc = nlp(text)\n",
    "\n",
    "displacy.render(doc,style=\"ent\",jupyter=True)"
   ]
  },
  {
   "cell_type": "code",
   "execution_count": 12,
   "id": "0c1c7ee6",
   "metadata": {},
   "outputs": [
    {
     "data": {
      "text/plain": [
       "('CARDINAL',\n",
       " 'DATE',\n",
       " 'EVENT',\n",
       " 'FAC',\n",
       " 'GPE',\n",
       " 'LANGUAGE',\n",
       " 'LAW',\n",
       " 'LOC',\n",
       " 'MONEY',\n",
       " 'NORP',\n",
       " 'ORDINAL',\n",
       " 'ORG',\n",
       " 'PERCENT',\n",
       " 'PERSON',\n",
       " 'PRODUCT',\n",
       " 'QUANTITY',\n",
       " 'TIME',\n",
       " 'WORK_OF_ART')"
      ]
     },
     "execution_count": 12,
     "metadata": {},
     "output_type": "execute_result"
    }
   ],
   "source": [
    "nlp.get_pipe(\"ner\").labels"
   ]
  },
  {
   "cell_type": "code",
   "execution_count": 13,
   "id": "6599927b",
   "metadata": {},
   "outputs": [],
   "source": [
    "#Nationalities or religious or political groups NORP"
   ]
  },
  {
   "cell_type": "markdown",
   "id": "cc8b5647",
   "metadata": {},
   "source": [
    "### Demo of custom NER model"
   ]
  },
  {
   "cell_type": "markdown",
   "id": "098310ec",
   "metadata": {},
   "source": [
    "The supervision measures and the sanctions provided for in Chapter V of Directive 75/319/EEC shall apply to homeopathic medicinal products, together with Articles 31 and 32 of the same Directive. However, the proof of therapeutic efficacy referred to in Article 28 (1) (b) of the same Directive shall not be required for homeopathic medicinal products registered in accordance with Article 7 of this Directive or, where appropriate, admitted in accordance with Article 6 (2)."
   ]
  },
  {
   "cell_type": "code",
   "execution_count": 29,
   "id": "02bcb484",
   "metadata": {},
   "outputs": [],
   "source": [
    "text = \"The supervision measures and the sanctions provided for in Chapter V of Directive 75/319/EEC shall apply to homeopathic medicinal products, together with Articles 31 and 32 of the same Directive. However, the proof of therapeutic efficacy referred to in Article 28 (1) (b) of the same Directive shall not be required for homeopathic medicinal products registered in accordance with Article 7 of this Directive or, where appropriate, admitted in accordance with Article 6 (2).\""
   ]
  },
  {
   "cell_type": "code",
   "execution_count": 30,
   "id": "75126d65",
   "metadata": {},
   "outputs": [
    {
     "data": {
      "text/html": [
       "<span class=\"tex2jax_ignore\"><div class=\"entities\" style=\"line-height: 2.5; direction: ltr\">The supervision measures and the sanctions provided for in \n",
       "<mark class=\"entity\" style=\"background: #ff8197; padding: 0.45em 0.6em; margin: 0 0.25em; line-height: 1; border-radius: 0.35em;\">\n",
       "    Chapter V of Directive 75/319/EEC shall\n",
       "    <span style=\"font-size: 0.8em; font-weight: bold; line-height: 1; border-radius: 0.35em; vertical-align: middle; margin-left: 0.5rem\">LAW</span>\n",
       "</mark>\n",
       " apply to homeopathic medicinal products, together with Articles \n",
       "<mark class=\"entity\" style=\"background: #e4e7d2; padding: 0.45em 0.6em; margin: 0 0.25em; line-height: 1; border-radius: 0.35em;\">\n",
       "    31\n",
       "    <span style=\"font-size: 0.8em; font-weight: bold; line-height: 1; border-radius: 0.35em; vertical-align: middle; margin-left: 0.5rem\">CARDINAL</span>\n",
       "</mark>\n",
       " and \n",
       "<mark class=\"entity\" style=\"background: #e4e7d2; padding: 0.45em 0.6em; margin: 0 0.25em; line-height: 1; border-radius: 0.35em;\">\n",
       "    32\n",
       "    <span style=\"font-size: 0.8em; font-weight: bold; line-height: 1; border-radius: 0.35em; vertical-align: middle; margin-left: 0.5rem\">CARDINAL</span>\n",
       "</mark>\n",
       " of the same Directive. However, the proof of therapeutic efficacy referred to in \n",
       "<mark class=\"entity\" style=\"background: #ff8197; padding: 0.45em 0.6em; margin: 0 0.25em; line-height: 1; border-radius: 0.35em;\">\n",
       "    Article 28 (1\n",
       "    <span style=\"font-size: 0.8em; font-weight: bold; line-height: 1; border-radius: 0.35em; vertical-align: middle; margin-left: 0.5rem\">LAW</span>\n",
       "</mark>\n",
       ") (b) of the same Directive shall not be required for homeopathic medicinal products registered in accordance with \n",
       "<mark class=\"entity\" style=\"background: #ff8197; padding: 0.45em 0.6em; margin: 0 0.25em; line-height: 1; border-radius: 0.35em;\">\n",
       "    Article 7 of this Directive\n",
       "    <span style=\"font-size: 0.8em; font-weight: bold; line-height: 1; border-radius: 0.35em; vertical-align: middle; margin-left: 0.5rem\">LAW</span>\n",
       "</mark>\n",
       " or, where appropriate, admitted in accordance with \n",
       "<mark class=\"entity\" style=\"background: #ff8197; padding: 0.45em 0.6em; margin: 0 0.25em; line-height: 1; border-radius: 0.35em;\">\n",
       "    Article 6\n",
       "    <span style=\"font-size: 0.8em; font-weight: bold; line-height: 1; border-radius: 0.35em; vertical-align: middle; margin-left: 0.5rem\">LAW</span>\n",
       "</mark>\n",
       " (\n",
       "<mark class=\"entity\" style=\"background: #e4e7d2; padding: 0.45em 0.6em; margin: 0 0.25em; line-height: 1; border-radius: 0.35em;\">\n",
       "    2\n",
       "    <span style=\"font-size: 0.8em; font-weight: bold; line-height: 1; border-radius: 0.35em; vertical-align: middle; margin-left: 0.5rem\">CARDINAL</span>\n",
       "</mark>\n",
       ").</div></span>"
      ],
      "text/plain": [
       "<IPython.core.display.HTML object>"
      ]
     },
     "metadata": {},
     "output_type": "display_data"
    }
   ],
   "source": [
    "#using out-of-the-box model\n",
    "doc = nlp(text)\n",
    "\n",
    "displacy.render(doc,style=\"ent\",jupyter=True)"
   ]
  },
  {
   "cell_type": "code",
   "execution_count": null,
   "id": "d8a5d04d",
   "metadata": {},
   "outputs": [],
   "source": []
  },
  {
   "cell_type": "code",
   "execution_count": null,
   "id": "dcff9b7b",
   "metadata": {},
   "outputs": [],
   "source": []
  },
  {
   "cell_type": "code",
   "execution_count": null,
   "id": "1a51a0e1",
   "metadata": {},
   "outputs": [],
   "source": [
    "#note - code below will not work given I have stored my custom model locally"
   ]
  },
  {
   "cell_type": "code",
   "execution_count": 31,
   "id": "53aa64fc",
   "metadata": {},
   "outputs": [],
   "source": [
    "model_path =  \"/home/user/qualimental/lawnotion.datascience.nlp/models/NER_applicable_product\"\n",
    "spacy_custom = spacy.load(model_path)"
   ]
  },
  {
   "cell_type": "code",
   "execution_count": 32,
   "id": "4e73a0e3",
   "metadata": {},
   "outputs": [
    {
     "data": {
      "text/html": [
       "<span class=\"tex2jax_ignore\"><div class=\"entities\" style=\"line-height: 2.5; direction: ltr\">The supervision measures and the sanctions provided for in Chapter V of Directive 75/319/EEC shall apply to \n",
       "<mark class=\"entity\" style=\"background: #ddd; padding: 0.45em 0.6em; margin: 0 0.25em; line-height: 1; border-radius: 0.35em;\">\n",
       "    homeopathic medicinal products\n",
       "    <span style=\"font-size: 0.8em; font-weight: bold; line-height: 1; border-radius: 0.35em; vertical-align: middle; margin-left: 0.5rem\">Homeopathic</span>\n",
       "</mark>\n",
       ", together with Articles 31 and 32 of the same Directive. However, the proof of therapeutic efficacy referred to in Article 28 (1) (b) of the same Directive shall not be required for \n",
       "<mark class=\"entity\" style=\"background: #ddd; padding: 0.45em 0.6em; margin: 0 0.25em; line-height: 1; border-radius: 0.35em;\">\n",
       "    homeopathic medicinal products\n",
       "    <span style=\"font-size: 0.8em; font-weight: bold; line-height: 1; border-radius: 0.35em; vertical-align: middle; margin-left: 0.5rem\">Homeopathic</span>\n",
       "</mark>\n",
       " registered in accordance with Article 7 of this Directive or, where appropriate, admitted in accordance with Article 6 (2).</div></span>"
      ],
      "text/plain": [
       "<IPython.core.display.HTML object>"
      ]
     },
     "metadata": {},
     "output_type": "display_data"
    }
   ],
   "source": [
    "doc = spacy_custom(text)\n",
    "\n",
    "displacy.render(doc,style=\"ent\",jupyter=True)"
   ]
  },
  {
   "cell_type": "code",
   "execution_count": null,
   "id": "9a8ec53f",
   "metadata": {},
   "outputs": [],
   "source": []
  },
  {
   "cell_type": "code",
   "execution_count": null,
   "id": "8334db9e",
   "metadata": {},
   "outputs": [],
   "source": []
  },
  {
   "cell_type": "code",
   "execution_count": null,
   "id": "9389f335",
   "metadata": {},
   "outputs": [],
   "source": []
  },
  {
   "cell_type": "markdown",
   "id": "16e62150",
   "metadata": {},
   "source": [
    "### Please fill out this form if you are interested in a future online seminar\n",
    "https://forms.gle/5qhTzQ14SzFwBu4d9"
   ]
  },
  {
   "cell_type": "markdown",
   "id": "06b95a99",
   "metadata": {},
   "source": [
    "### Links to my websites + linkedin\n",
    "\n",
    "#### for papers: https://lisanka93.github.io/\n",
    "#### for services: https://lisankanlp.wixsite.com/website\n",
    "#### linkedin: https://www.linkedin.com/in/lisanka93/"
   ]
  },
  {
   "cell_type": "code",
   "execution_count": null,
   "id": "1addb474",
   "metadata": {},
   "outputs": [],
   "source": []
  },
  {
   "cell_type": "markdown",
   "id": "688ab853",
   "metadata": {},
   "source": [
    "## PLEASE DOWNLOAD THE LATEST VERSION OF THESE NOTEBOOKS FROM GITHUB"
   ]
  },
  {
   "cell_type": "code",
   "execution_count": null,
   "id": "9549c1f0",
   "metadata": {},
   "outputs": [],
   "source": []
  }
 ],
 "metadata": {
  "kernelspec": {
   "display_name": "Python 3 (ipykernel)",
   "language": "python",
   "name": "python3"
  },
  "language_info": {
   "codemirror_mode": {
    "name": "ipython",
    "version": 3
   },
   "file_extension": ".py",
   "mimetype": "text/x-python",
   "name": "python",
   "nbconvert_exporter": "python",
   "pygments_lexer": "ipython3",
   "version": "3.9.7"
  }
 },
 "nbformat": 4,
 "nbformat_minor": 5
}
